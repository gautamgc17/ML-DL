{
  "nbformat": 4,
  "nbformat_minor": 0,
  "metadata": {
    "colab": {
      "name": "Covid Detection using X-rays.ipynb",
      "provenance": [],
      "collapsed_sections": []
    },
    "kernelspec": {
      "name": "python3",
      "display_name": "Python 3"
    },
    "language_info": {
      "name": "python"
    },
    "accelerator": "GPU"
  },
  "cells": [
    {
      "cell_type": "code",
      "metadata": {
        "colab": {
          "base_uri": "https://localhost:8080/"
        },
        "id": "I7wqvtxwXJF5",
        "outputId": "dd951a49-2cd9-4e53-d504-d19fcc63b900"
      },
      "source": [
        "# Getting the Dataset\n",
        "!wget https://www.dropbox.com/s/7rjw6oet4za01op/CovidDataset-20200427T133042Z-001.zip?dl=0"
      ],
      "execution_count": 1,
      "outputs": [
        {
          "output_type": "stream",
          "text": [
            "--2021-04-05 17:18:51--  https://www.dropbox.com/s/7rjw6oet4za01op/CovidDataset-20200427T133042Z-001.zip?dl=0\n",
            "Resolving www.dropbox.com (www.dropbox.com)... 162.125.3.18, 2620:100:601b:18::a27d:812\n",
            "Connecting to www.dropbox.com (www.dropbox.com)|162.125.3.18|:443... connected.\n",
            "HTTP request sent, awaiting response... 301 Moved Permanently\n",
            "Location: /s/raw/7rjw6oet4za01op/CovidDataset-20200427T133042Z-001.zip [following]\n",
            "--2021-04-05 17:18:52--  https://www.dropbox.com/s/raw/7rjw6oet4za01op/CovidDataset-20200427T133042Z-001.zip\n",
            "Reusing existing connection to www.dropbox.com:443.\n",
            "HTTP request sent, awaiting response... 302 Found\n",
            "Location: https://ucf0028d44f6d92a853c4fc50a9b.dl.dropboxusercontent.com/cd/0/inline/BMCpS3pB7ML0pduEeZsDQNH4YNccWVQUPwV3oiZE9FgUjyrB6AnJun0L3pICN5AraPDX3f-2Zms76z-HmTGHPT3CbZgHAgXk7Cd3ZYA6968yz0ORiD2uMMITdKE9PRocQ3lAlJRrphxMXFfW5ZhpLQR7/file# [following]\n",
            "--2021-04-05 17:18:52--  https://ucf0028d44f6d92a853c4fc50a9b.dl.dropboxusercontent.com/cd/0/inline/BMCpS3pB7ML0pduEeZsDQNH4YNccWVQUPwV3oiZE9FgUjyrB6AnJun0L3pICN5AraPDX3f-2Zms76z-HmTGHPT3CbZgHAgXk7Cd3ZYA6968yz0ORiD2uMMITdKE9PRocQ3lAlJRrphxMXFfW5ZhpLQR7/file\n",
            "Resolving ucf0028d44f6d92a853c4fc50a9b.dl.dropboxusercontent.com (ucf0028d44f6d92a853c4fc50a9b.dl.dropboxusercontent.com)... 162.125.3.15, 2620:100:601b:15::a27d:80f\n",
            "Connecting to ucf0028d44f6d92a853c4fc50a9b.dl.dropboxusercontent.com (ucf0028d44f6d92a853c4fc50a9b.dl.dropboxusercontent.com)|162.125.3.15|:443... connected.\n",
            "HTTP request sent, awaiting response... 302 Found\n",
            "Location: /cd/0/inline2/BMA3Ed8DwVihYOWqiWGZLkYjzEHvBzwAv3aIkc9qAiyu4DgkSNdx4mG3YhCkqpvgONHsWM6eq-cDwUqo--XMSOWf68s7jtY1-cloF6oAqfUBXzdIwE7xrO6MwHIAcdr05vQ76J3jmF3-uCT0IufjEhilPhSg70nKvkptC2DBAjbM1PiUcfC53rfVPAVg3wNDDDffHtUG4GXYSZERzLIOXU66Qb9zlylyHvh_Tph__Lx2Jr_sJerAZ33vJLcgHadVA48HvF52OhGRch5R10RBi34QIgdebnb5aDjrMcd0xtbLXNT6qTglxtoR9u3qg3nBslxc0Ofz_YTD8QIEBG2ygMg0wX57Ilj_jT3DXnxNWYFf3pl5XRZz6BPa1iuR5edRync/file [following]\n",
            "--2021-04-05 17:18:53--  https://ucf0028d44f6d92a853c4fc50a9b.dl.dropboxusercontent.com/cd/0/inline2/BMA3Ed8DwVihYOWqiWGZLkYjzEHvBzwAv3aIkc9qAiyu4DgkSNdx4mG3YhCkqpvgONHsWM6eq-cDwUqo--XMSOWf68s7jtY1-cloF6oAqfUBXzdIwE7xrO6MwHIAcdr05vQ76J3jmF3-uCT0IufjEhilPhSg70nKvkptC2DBAjbM1PiUcfC53rfVPAVg3wNDDDffHtUG4GXYSZERzLIOXU66Qb9zlylyHvh_Tph__Lx2Jr_sJerAZ33vJLcgHadVA48HvF52OhGRch5R10RBi34QIgdebnb5aDjrMcd0xtbLXNT6qTglxtoR9u3qg3nBslxc0Ofz_YTD8QIEBG2ygMg0wX57Ilj_jT3DXnxNWYFf3pl5XRZz6BPa1iuR5edRync/file\n",
            "Reusing existing connection to ucf0028d44f6d92a853c4fc50a9b.dl.dropboxusercontent.com:443.\n",
            "HTTP request sent, awaiting response... 200 OK\n",
            "Length: 140830621 (134M) [application/zip]\n",
            "Saving to: ‘CovidDataset-20200427T133042Z-001.zip?dl=0’\n",
            "\n",
            "CovidDataset-202004 100%[===================>] 134.31M  68.1MB/s    in 2.0s    \n",
            "\n",
            "2021-04-05 17:18:55 (68.1 MB/s) - ‘CovidDataset-20200427T133042Z-001.zip?dl=0’ saved [140830621/140830621]\n",
            "\n"
          ],
          "name": "stdout"
        }
      ]
    },
    {
      "cell_type": "code",
      "metadata": {
        "colab": {
          "base_uri": "https://localhost:8080/"
        },
        "id": "Tyz746ggXZz0",
        "outputId": "cb8458d3-a744-41b8-928c-90c48ab8752d"
      },
      "source": [
        "!unzip CovidDataset-20200427T133042Z-001.zip?dl=0"
      ],
      "execution_count": 2,
      "outputs": [
        {
          "output_type": "stream",
          "text": [
            "Archive:  CovidDataset-20200427T133042Z-001.zip?dl=0\n",
            "  inflating: CovidDataset/Val/Covid/88de9d8c39e946abd495b37cd07d89e5-6531-0.jpg  \n",
            "  inflating: CovidDataset/Val/Covid/covid-19-pneumonia-8.jpg  \n",
            "  inflating: CovidDataset/Val/Covid/85E52EB3-56E9-4D67-82DA-DEA247C82886.jpeg  \n",
            "  inflating: CovidDataset/Val/Covid/4-x-day1.jpg  \n",
            "  inflating: CovidDataset/Val/Covid/covid-19-pneumonia-53.jpg  \n",
            "  inflating: CovidDataset/Val/Covid/4e43e48d52c9e2d4c6c1fb9bc1544f_jumbo.jpeg  \n",
            "  inflating: CovidDataset/Val/Covid/covid-19-pneumonia-35-1.jpg  \n",
            "  inflating: CovidDataset/Val/Covid/53EC07C9-5CC6-4BE4-9B6F-D7B0D72AAA7E.jpeg  \n",
            "  inflating: CovidDataset/Val/Covid/6CB4EFC6-68FA-4CD5-940C-BEFA8DAFE9A7.jpeg  \n",
            "  inflating: CovidDataset/Val/Covid/58cb9263f16e94305c730685358e4e_jumbo.jpeg  \n",
            "  inflating: CovidDataset/Val/Covid/6b3bdbc31f65230b8cdcc3cef5f8ba8a-40ac-0.jpg  \n",
            "  inflating: CovidDataset/Val/Covid/auntminnie-d-2020_01_28_23_51_6665_2020_01_28_Vietnam_coronavirus.jpeg  \n",
            "  inflating: CovidDataset/Val/Covid/6b44464d-73a7-4cf3-bbb6-ffe7168300e3.annot.original.jpeg  \n",
            "  inflating: CovidDataset/Val/Covid/88de9d8c39e946abd495b37cd07d89e5-2ee6-0.jpg  \n",
            "  inflating: CovidDataset/Val/Covid/31BA3780-2323-493F-8AED-62081B9C383B.jpeg  \n",
            "  inflating: CovidDataset/Val/Covid/B2D20576-00B7-4519-A415-72DE29C90C34.jpeg  \n",
            "  inflating: CovidDataset/Val/Covid/6C94A287-C059-46A0-8600-AFB95F4727B7.jpeg  \n",
            "  inflating: CovidDataset/Train/Covid/1-s2.0-S1684118220300682-main.pdf-003-b2.png  \n",
            "  inflating: CovidDataset/Val/Covid/41591_2020_819_Fig1_HTML.webp-day5.png  \n",
            "  inflating: CovidDataset/Val/Covid/41591_2020_819_Fig1_HTML.webp-day10.png  \n",
            "  inflating: CovidDataset/Train/Covid/1-s2.0-S1684118220300682-main.pdf-003-b1.png  \n",
            "  inflating: CovidDataset/Val/Covid/16654_2_1.jpg  \n",
            "  inflating: CovidDataset/Train/Covid/nCoV-radiol.2020200269.fig1-day7.jpeg  \n",
            "  inflating: CovidDataset/Val/Covid/auntminnie-c-2020_01_28_23_51_6665_2020_01_28_Vietnam_coronavirus.jpeg  \n",
            "  inflating: CovidDataset/Train/Covid/7-fatal-covid19.jpg  \n",
            "  inflating: CovidDataset/Train/Covid/auntminnie-b-2020_01_28_23_51_6665_2020_01_28_Vietnam_coronavirus.jpeg  \n",
            "  inflating: CovidDataset/Train/Normal/NORMAL2-IM-0986-0001.jpeg  \n",
            "  inflating: CovidDataset/Train/Normal/IM-0332-0001.jpeg  \n",
            "  inflating: CovidDataset/Train/Covid/extubation-13.jpg  \n",
            "  inflating: CovidDataset/Val/Covid/covid-19-pneumonia-35-2.jpg  \n",
            "  inflating: CovidDataset/Train/Normal/NORMAL2-IM-1337-0001.jpeg  \n",
            "  inflating: CovidDataset/Val/Covid/covid-19-pneumonia-12.jpg  \n",
            "  inflating: CovidDataset/Train/Normal/IM-0644-0001-0002.jpeg  \n",
            "  inflating: CovidDataset/Train/Covid/ryct.2020200034.fig5-day7.jpeg  \n",
            "  inflating: CovidDataset/Val/Covid/7AF6C1AF-D249-4BD2-8C26-449304105D03.jpeg  \n",
            "  inflating: CovidDataset/Train/Covid/covid-19-pneumonia-15-PA.jpg  \n",
            "  inflating: CovidDataset/Train/Covid/1-s2.0-S1684118220300608-main.pdf-002.jpg  \n",
            "  inflating: CovidDataset/Train/Normal/IM-0528-0001.jpeg  \n",
            "  inflating: CovidDataset/Train/Covid/80446565-E090-4187-A031-9D3CEAA586C8.jpeg  \n",
            "  inflating: CovidDataset/Train/Covid/1-s2.0-S0929664620300449-gr2_lrg-d.jpg  \n",
            "  inflating: CovidDataset/Train/Covid/covid-19-pneumonia-bilateral.jpg  \n",
            "  inflating: CovidDataset/Train/Normal/NORMAL2-IM-1020-0001-0001.jpeg  \n",
            "  inflating: CovidDataset/Train/Covid/E63574A7-4188-4C8D-8D17-9D67A18A1AFA.jpeg  \n",
            "  inflating: CovidDataset/Train/Normal/IM-0327-0001.jpeg  \n",
            "  inflating: CovidDataset/Train/Covid/AR-1.jpg  \n",
            "  inflating: CovidDataset/Train/Covid/F2DE909F-E19C-4900-92F5-8F435B031AC6.jpeg  \n",
            "  inflating: CovidDataset/Val/Normal/NORMAL2-IM-0851-0001.jpeg  \n",
            "  inflating: CovidDataset/Train/Covid/covid-19-pneumonia-2.jpg  \n",
            "  inflating: CovidDataset/Train/Normal/IM-0539-0001.jpeg  \n",
            "  inflating: CovidDataset/Train/Normal/IM-0495-0001.jpeg  \n",
            "  inflating: CovidDataset/Train/Normal/IM-0533-0001-0002.jpeg  \n",
            "  inflating: CovidDataset/Train/Normal/IM-0724-0001.jpeg  \n",
            "  inflating: CovidDataset/Train/Covid/1.CXRCTThoraximagesofCOVID-19fromSingapore.pdf-001-fig2a.png  \n",
            "  inflating: CovidDataset/Train/Covid/1-s2.0-S0140673620303706-fx1_lrg.jpg  \n",
            "  inflating: CovidDataset/Train/Normal/IM-0491-0001-0002.jpeg  \n",
            "  inflating: CovidDataset/Train/Covid/covid-19-pneumonia-58-day-9.jpg  \n",
            "  inflating: CovidDataset/Train/Normal/IM-0555-0001.jpeg  \n",
            "  inflating: CovidDataset/Train/Covid/1.CXRCTThoraximagesofCOVID-19fromSingapore.pdf-000-fig1b.png  \n",
            "  inflating: CovidDataset/Train/Normal/IM-0326-0001.jpeg  \n",
            "  inflating: CovidDataset/Train/Covid/covid-19-caso-70-1-PA.jpg  \n",
            "  inflating: CovidDataset/Train/Covid/1.CXRCTThoraximagesofCOVID-19fromSingapore.pdf-001-fig2b.png  \n",
            "  inflating: CovidDataset/Val/Normal/NORMAL2-IM-0730-0001.jpeg  \n",
            "  inflating: CovidDataset/Train/Normal/IM-0451-0001.jpeg  \n",
            "  inflating: CovidDataset/Val/Covid/7C69C012-7479-493F-8722-ABC29C60A2DD.jpeg  \n",
            "  inflating: CovidDataset/Train/Covid/16660_2_1.jpg  \n",
            "  inflating: CovidDataset/Train/Covid/1-s2.0-S1684118220300608-main.pdf-001.jpg  \n",
            "  inflating: CovidDataset/Train/Covid/kjr-21-e24-g003-l-a.jpg  \n",
            "  inflating: CovidDataset/Train/Covid/nejmoa2001191_f1-PA.jpeg  \n",
            "  inflating: CovidDataset/Train/Normal/IM-0534-0001.jpeg  \n",
            "  inflating: CovidDataset/Train/Covid/kjr-21-e24-g002-l-a.jpg  \n",
            "  inflating: CovidDataset/Train/Covid/covid-19-pneumonia-38-pa.jpg  \n",
            "  inflating: CovidDataset/Train/Normal/NORMAL2-IM-0529-0001.jpeg  \n",
            "  inflating: CovidDataset/Train/Covid/9C34AF49-E589-44D5-92D3-168B3B04E4A6.jpeg  \n",
            "  inflating: CovidDataset/Train/Normal/IM-0221-0001.jpeg  \n",
            "  inflating: CovidDataset/Val/Normal/NORMAL2-IM-1191-0001.jpeg  \n",
            "  inflating: CovidDataset/Train/Normal/NORMAL2-IM-0831-0001.jpeg  \n",
            "  inflating: CovidDataset/Train/Normal/IM-0500-0001.jpeg  \n",
            "  inflating: CovidDataset/Val/Normal/NORMAL2-IM-1228-0001.jpeg  \n",
            "  inflating: CovidDataset/Train/Covid/extubation-1.jpg  \n",
            "  inflating: CovidDataset/Train/Covid/covid-19-infection-exclusive-gastrointestinal-symptoms-l.png  \n",
            "  inflating: CovidDataset/Val/Normal/NORMAL2-IM-1037-0001.jpeg  \n",
            "  inflating: CovidDataset/Train/Normal/NORMAL2-IM-0956-0001.jpeg  \n",
            "  inflating: CovidDataset/Train/Normal/NORMAL2-IM-0847-0001.jpeg  \n",
            "  inflating: CovidDataset/Train/Normal/IM-0389-0001.jpeg  \n",
            "  inflating: CovidDataset/Train/Normal/IM-0660-0001-0001.jpeg  \n",
            "  inflating: CovidDataset/Train/Covid/16672_1_1.jpg  \n",
            "  inflating: CovidDataset/Train/Normal/IM-0700-0001.jpeg  \n",
            "  inflating: CovidDataset/Train/Normal/NORMAL2-IM-1305-0001.jpeg  \n",
            "  inflating: CovidDataset/Train/Covid/16660_4_1.jpg  \n",
            "  inflating: CovidDataset/Val/Covid/353889E0-A1E8-4F9E-A0B8-F24F36BCFBFB.jpeg  \n",
            "  inflating: CovidDataset/Train/Covid/covid-19-pneumonia-22-day2-pa.png  \n",
            "  inflating: CovidDataset/Train/Normal/IM-0472-0001.jpeg  \n",
            "  inflating: CovidDataset/Train/Normal/NORMAL2-IM-1202-0001.jpeg  \n",
            "  inflating: CovidDataset/Train/Normal/NORMAL2-IM-1188-0001.jpeg  \n",
            "  inflating: CovidDataset/Train/Covid/2C26F453-AF3B-4517-BB9E-802CF2179543.jpeg  \n",
            "  inflating: CovidDataset/Train/Normal/NORMAL2-IM-1290-0001.jpeg  \n",
            "  inflating: CovidDataset/Train/Normal/NORMAL2-IM-1346-0001.jpeg  \n",
            "  inflating: CovidDataset/Train/Normal/NORMAL2-IM-1345-0001-0001.jpeg  \n",
            "  inflating: CovidDataset/Train/Covid/radiol.2020200274.fig3d.png  \n",
            "  inflating: CovidDataset/Train/Normal/IM-0669-0001.jpeg  \n",
            "  inflating: CovidDataset/Train/Normal/IM-0270-0001.jpeg  \n",
            "  inflating: CovidDataset/Train/Covid/covid-19-pneumonia-28.png  \n",
            "  inflating: CovidDataset/Train/Covid/ryct.2020200034.fig2.jpeg  \n",
            "  inflating: CovidDataset/Train/Normal/NORMAL2-IM-1287-0001.jpeg  \n",
            "  inflating: CovidDataset/Train/Covid/1.CXRCTThoraximagesofCOVID-19fromSingapore.pdf-000-fig1a.png  \n",
            "  inflating: CovidDataset/Train/Normal/NORMAL2-IM-0626-0001.jpeg  \n",
            "  inflating: CovidDataset/Train/Normal/IM-0543-0001.jpeg  \n",
            "  inflating: CovidDataset/Val/Normal/NORMAL2-IM-0857-0001.jpeg  \n",
            "  inflating: CovidDataset/Val/Normal/NORMAL2-IM-0905-0001.jpeg  \n",
            "  inflating: CovidDataset/Train/Covid/1-s2.0-S0929664620300449-gr2_lrg-a.jpg  \n",
            "  inflating: CovidDataset/Val/Covid/16654_1_1.png  \n",
            "  inflating: CovidDataset/Train/Covid/kjr-21-e24-g001-l-a.jpg  \n",
            "  inflating: CovidDataset/Train/Normal/IM-0433-0001.jpeg  \n",
            "  inflating: CovidDataset/Train/Covid/covid-19-pneumonia-58-day-10.jpg  \n",
            "  inflating: CovidDataset/Val/Covid/16654_4_1.jpg  \n",
            "  inflating: CovidDataset/Val/Normal/NORMAL2-IM-0790-0001.jpeg  \n",
            "  inflating: CovidDataset/Train/Normal/NORMAL2-IM-1326-0001.jpeg  \n",
            "  inflating: CovidDataset/Train/Normal/IM-0563-0001.jpeg  \n",
            "  inflating: CovidDataset/Train/Covid/ae6c954c0039de4b5edee53865ffee43-e6c8-0.jpg  \n",
            "  inflating: CovidDataset/Val/Covid/23E99E2E-447C-46E5-8EB2-D35D12473C39.png  \n",
            "  inflating: CovidDataset/Train/Covid/gr1_lrg-a.jpg  \n",
            "  inflating: CovidDataset/Train/Normal/IM-0564-0001.jpeg  \n",
            "  inflating: CovidDataset/Train/Normal/NORMAL2-IM-0499-0001.jpeg  \n",
            "  inflating: CovidDataset/Train/Covid/16663_1_1.jpg  \n",
            "  inflating: CovidDataset/Train/Covid/extubation-8.jpg  \n",
            "  inflating: CovidDataset/Train/Covid/paving.jpg  \n",
            "  inflating: CovidDataset/Train/Normal/IM-0529-0001.jpeg  \n",
            "  inflating: CovidDataset/Train/Normal/IM-0425-0001.jpeg  \n",
            "  inflating: CovidDataset/Train/Normal/IM-0439-0001.jpeg  \n",
            "  inflating: CovidDataset/Train/Normal/IM-0491-0001.jpeg  \n",
            "  inflating: CovidDataset/Train/Normal/IM-0337-0001.jpeg  \n",
            "  inflating: CovidDataset/Train/Covid/all14238-fig-0001-m-b.jpg  \n",
            "  inflating: CovidDataset/Train/Covid/covid-19-infection-exclusive-gastrointestinal-symptoms-pa.png  \n",
            "  inflating: CovidDataset/Train/Normal/NORMAL2-IM-1320-0001.jpeg  \n",
            "  inflating: CovidDataset/Train/Covid/1.CXRCTThoraximagesofCOVID-19fromSingapore.pdf-002-fig3b.png  \n",
            "  inflating: CovidDataset/Train/Normal/NORMAL2-IM-0815-0001.jpeg  \n",
            "  inflating: CovidDataset/Train/Covid/nejmoa2001191_f5-PA.jpeg  \n",
            "  inflating: CovidDataset/Train/Normal/NORMAL2-IM-1336-0001.jpeg  \n",
            "  inflating: CovidDataset/Train/Normal/IM-0369-0001.jpeg  \n",
            "  inflating: CovidDataset/Train/Normal/NORMAL2-IM-1300-0001.jpeg  \n",
            "  inflating: CovidDataset/Train/Normal/NORMAL2-IM-1295-0001.jpeg  \n",
            "  inflating: CovidDataset/Train/Normal/NORMAL2-IM-0518-0001.jpeg  \n",
            "  inflating: CovidDataset/Train/Covid/covid-19-pneumonia-34.png  \n",
            "  inflating: CovidDataset/Train/Normal/IM-0385-0001.jpeg  \n",
            "  inflating: CovidDataset/Train/Covid/F63AB6CE-1968-4154-A70F-913AF154F53D.jpeg  \n",
            "  inflating: CovidDataset/Val/Normal/NORMAL2-IM-0842-0001.jpeg  \n",
            "  inflating: CovidDataset/Val/Normal/NORMAL2-IM-0416-0001-0001.jpeg  \n",
            "  inflating: CovidDataset/Val/Normal/NORMAL2-IM-1275-0001.jpeg  \n",
            "  inflating: CovidDataset/Train/Normal/IM-0467-0001.jpeg  \n",
            "  inflating: CovidDataset/Train/Normal/NORMAL2-IM-1344-0001.jpeg  \n",
            "  inflating: CovidDataset/Train/Normal/IM-0301-0001.jpeg  \n",
            "  inflating: CovidDataset/Train/Normal/IM-0421-0001.jpeg  \n",
            "  inflating: CovidDataset/Train/Covid/ryct.2020200034.fig5-day0.jpeg  \n",
            "  inflating: CovidDataset/Train/Covid/covid-19-pneumonia-58-day-3.jpg  \n",
            "  inflating: CovidDataset/Train/Covid/covid-19-pneumonia-mild.JPG  \n",
            "  inflating: CovidDataset/Val/Normal/NORMAL2-IM-0859-0001.jpeg  \n",
            "  inflating: CovidDataset/Val/Normal/NORMAL2-IM-1237-0001.jpeg  \n",
            "  inflating: CovidDataset/Train/Normal/NORMAL2-IM-1103-0001-0001.jpeg  \n",
            "  inflating: CovidDataset/Train/Covid/1-s2.0-S1684118220300682-main.pdf-002-a2.png  \n",
            "  inflating: CovidDataset/Val/Normal/NORMAL2-IM-0535-0001-0002.jpeg  \n",
            "  inflating: CovidDataset/Train/Covid/1.CXRCTThoraximagesofCOVID-19fromSingapore.pdf-003-fig4b.png  \n",
            "  inflating: CovidDataset/Train/Normal/IM-0461-0001.jpeg  \n",
            "  inflating: CovidDataset/Train/Normal/IM-0372-0001.jpeg  \n",
            "  inflating: CovidDataset/Train/Normal/IM-0666-0001-0001.jpeg  \n",
            "  inflating: CovidDataset/Train/Normal/NORMAL2-IM-0840-0001.jpeg  \n",
            "  inflating: CovidDataset/Train/Covid/ryct.2020200034.fig5-day4.jpeg  \n",
            "  inflating: CovidDataset/Train/Normal/NORMAL2-IM-0798-0001.jpeg  \n",
            "  inflating: CovidDataset/Train/Normal/IM-0351-0001.jpeg  \n",
            "  inflating: CovidDataset/Train/Covid/auntminnie-a-2020_01_28_23_51_6665_2020_01_28_Vietnam_coronavirus.jpeg  \n",
            "  inflating: CovidDataset/Train/Covid/1-s2.0-S1684118220300682-main.pdf-002-a1.png  \n",
            "  inflating: CovidDataset/Val/Normal/NORMAL2-IM-1240-0001.jpeg  \n",
            "  inflating: CovidDataset/Train/Covid/93FE0BB1-022D-4F24-9727-987A07975FFB.jpeg  \n",
            "  inflating: CovidDataset/Train/Covid/16660_1_1.jpg  \n",
            "  inflating: CovidDataset/Train/Covid/figure1-5e71be566aa8714a04de3386-98-left.jpeg  \n",
            "  inflating: CovidDataset/Train/Normal/IM-0703-0001.jpeg  \n",
            "  inflating: CovidDataset/Train/Covid/covid-19-pneumonia-7-PA.jpg  \n",
            "  inflating: CovidDataset/Train/Normal/NORMAL2-IM-1277-0001-0002.jpeg  \n",
            "  inflating: CovidDataset/Train/Covid/8FDE8DBA-CFBD-4B4C-B1A4-6F36A93B7E87.jpeg  \n",
            "  inflating: CovidDataset/Train/Normal/IM-0482-0001.jpeg  \n",
            "  inflating: CovidDataset/Train/Normal/IM-0656-0001-0002.jpeg  \n",
            "  inflating: CovidDataset/Train/Covid/16664_1_1.jpg  \n",
            "  inflating: CovidDataset/Train/Normal/IM-0430-0001.jpeg  \n",
            "  inflating: CovidDataset/Train/Covid/covid-19-pneumonia-67.jpeg  \n",
            "  inflating: CovidDataset/Train/Covid/ciaa199.pdf-001-a.png  \n",
            "  inflating: CovidDataset/Train/Normal/IM-0187-0001.jpeg  \n",
            "  inflating: CovidDataset/Val/Normal/NORMAL2-IM-0652-0001.jpeg  \n",
            "  inflating: CovidDataset/Train/Normal/IM-0691-0001.jpeg  \n",
            "  inflating: CovidDataset/Train/Covid/CD50BA96-6982-4C80-AE7B-5F67ACDBFA56.jpeg  \n",
            "  inflating: CovidDataset/Train/Normal/NORMAL2-IM-0976-0001.jpeg  \n",
            "  inflating: CovidDataset/Train/Covid/covid-19-pneumonia-20-pa-on-admission.jpg  \n",
            "  inflating: CovidDataset/Train/Covid/1-s2.0-S0929664620300449-gr2_lrg-c.jpg  \n",
            "  inflating: CovidDataset/Train/Covid/fff49165-b22d-4bb4-b9d1-d5d62c52436c.annot.original.png  \n",
            "  inflating: CovidDataset/Train/Covid/1.CXRCTThoraximagesofCOVID-19fromSingapore.pdf-002-fig3a.png  \n",
            "  inflating: CovidDataset/Val/Normal/NORMAL2-IM-0395-0001.jpeg  \n",
            "  inflating: CovidDataset/Train/Normal/IM-0182-0001.jpeg  \n",
            "  inflating: CovidDataset/Train/Covid/covid-19-pneumonia-evolution-over-a-week-1-day0-PA.jpg  \n",
            "  inflating: CovidDataset/Val/Normal/NORMAL2-IM-0914-0001.jpeg  \n",
            "  inflating: CovidDataset/Train/Covid/covid-19-pneumonia-30-PA.jpg  \n",
            "  inflating: CovidDataset/Train/Covid/nejmc2001573_f1a.jpeg  \n",
            "  inflating: CovidDataset/Train/Covid/kjr-21-e25-g001-l-a.jpg  \n",
            "  inflating: CovidDataset/Val/Normal/NORMAL2-IM-0873-0001.jpeg  \n",
            "  inflating: CovidDataset/Train/Normal/NORMAL2-IM-0501-0001.jpeg  \n",
            "  inflating: CovidDataset/Train/Normal/IM-0667-0001.jpeg  \n",
            "  inflating: CovidDataset/Train/Normal/IM-0551-0001-0002.jpeg  \n",
            "  inflating: CovidDataset/Train/Normal/IM-0176-0001.jpeg  \n",
            "  inflating: CovidDataset/Train/Covid/lancet-case2b.jpg  \n",
            "  inflating: CovidDataset/Train/Normal/IM-0713-0001.jpeg  \n",
            "  inflating: CovidDataset/Train/Covid/all14238-fig-0001-m-c.jpg  \n",
            "  inflating: CovidDataset/Val/Covid/covid-19-pneumonia-14-PA.png  \n",
            "  inflating: CovidDataset/Val/Normal/NORMAL2-IM-0851-0001-0001.jpeg  \n",
            "  inflating: CovidDataset/Train/Normal/NORMAL2-IM-1154-0001-0002.jpeg  \n",
            "  inflating: CovidDataset/Train/Normal/IM-0619-0001.jpeg  \n",
            "  inflating: CovidDataset/Val/Normal/NORMAL2-IM-0441-0001.jpeg  \n",
            "  inflating: CovidDataset/Val/Normal/NORMAL2-IM-0765-0001.jpeg  \n",
            "  inflating: CovidDataset/Train/Normal/IM-0172-0001.jpeg  \n",
            "  inflating: CovidDataset/Train/Normal/IM-0551-0001-0001.jpeg  \n",
            "  inflating: CovidDataset/Train/Covid/gr1_lrg-b.jpg  \n",
            "  inflating: CovidDataset/Train/Covid/1-s2.0-S0929664620300449-gr2_lrg-b.jpg  \n",
            "  inflating: CovidDataset/Train/Normal/IM-0514-0001.jpeg  \n",
            "  inflating: CovidDataset/Train/Covid/covid-19-pneumonia-20.jpg  \n",
            "  inflating: CovidDataset/Train/Normal/IM-0544-0001.jpeg  \n",
            "  inflating: CovidDataset/Val/Normal/NORMAL2-IM-1022-0001.jpeg  \n",
            "  inflating: CovidDataset/Train/Normal/NORMAL2-IM-0935-0001.jpeg  \n",
            "  inflating: CovidDataset/Train/Covid/covid-19-pneumonia-22-day1-pa.png  \n",
            "  inflating: CovidDataset/Train/Normal/NORMAL2-IM-1288-0001.jpeg  \n",
            "  inflating: CovidDataset/Train/Covid/16669_1_1.jpeg  \n",
            "  inflating: CovidDataset/Train/Covid/nejmoa2001191_f4.jpeg  \n",
            "  inflating: CovidDataset/Val/Normal/NORMAL2-IM-0462-0001.jpeg  \n",
            "  inflating: CovidDataset/Val/Normal/NORMAL2-IM-0894-0001.jpeg  \n",
            "  inflating: CovidDataset/Train/Covid/nejmc2001573_f1b.jpeg  \n",
            "  inflating: CovidDataset/Train/Normal/NORMAL2-IM-1094-0001-0001.jpeg  \n",
            "  inflating: CovidDataset/Train/Normal/IM-0543-0001-0002.jpeg  \n",
            "  inflating: CovidDataset/Train/Covid/16669_3_1.jpeg  \n",
            "  inflating: CovidDataset/Train/Covid/covid-19-pneumonia-58-day-7.jpg  \n",
            "  inflating: CovidDataset/Train/Normal/IM-0536-0001.jpeg  \n",
            "  inflating: CovidDataset/Train/Normal/NORMAL2-IM-1214-0001.jpeg  \n",
            "  inflating: CovidDataset/Train/Covid/AR-2.jpg  \n",
            "  inflating: CovidDataset/Train/Covid/9fdd3c3032296fd04d2cad5d9070d4_jumbo.jpeg  \n",
            "  inflating: CovidDataset/Train/Covid/1B734A89-A1BF-49A8-A1D3-66FAFA4FAC5D.jpeg  \n",
            "  inflating: CovidDataset/Train/Normal/IM-0156-0001.jpeg  \n",
            "  inflating: CovidDataset/Train/Normal/NORMAL2-IM-1111-0001.jpeg  \n",
            "  inflating: CovidDataset/Train/Covid/FE9F9A5D-2830-46F9-851B-1FF4534959BE.jpeg  \n",
            "  inflating: CovidDataset/Train/Normal/IM-0429-0001.jpeg  \n",
            "  inflating: CovidDataset/Train/Covid/covid-19-pneumonia-44-day-0.jpeg  \n",
            "  inflating: CovidDataset/Val/Normal/NORMAL2-IM-0869-0001.jpeg  \n",
            "  inflating: CovidDataset/Train/Covid/figure1-5e75d0940b71e1b702629659-98-right.jpeg  \n",
            "  inflating: CovidDataset/Train/Covid/03BF7561-A9BA-4C3C-B8A0-D3E585F73F3C.jpeg  \n",
            "  inflating: CovidDataset/Train/Covid/ciaa199.pdf-001-c.png  \n",
            "  inflating: CovidDataset/Train/Covid/extubation-4.jpg  \n",
            "  inflating: CovidDataset/Train/Normal/IM-0556-0001.jpeg  \n",
            "  inflating: CovidDataset/Train/Covid/1.CXRCTThoraximagesofCOVID-19fromSingapore.pdf-003-fig4a.png  \n",
            "  inflating: CovidDataset/Train/Covid/covid-19-pneumonia-19.jpg  \n",
            "  inflating: CovidDataset/Train/Normal/IM-0392-0001.jpeg  \n",
            "  inflating: CovidDataset/Train/Normal/IM-0530-0001.jpeg  \n",
            "  inflating: CovidDataset/Train/Normal/IM-0261-0001.jpeg  \n",
            "  inflating: CovidDataset/Train/Covid/1312A392-67A3-4EBF-9319-810CF6DA5EF6.jpeg  \n",
            "  inflating: CovidDataset/Train/Normal/IM-0525-0001.jpeg  \n",
            "  inflating: CovidDataset/Train/Covid/lancet-case2a.jpg  \n",
            "  inflating: CovidDataset/Train/Covid/ciaa199.pdf-001-b.png  \n",
            "  inflating: CovidDataset/Train/Normal/NORMAL2-IM-0941-0001.jpeg  \n",
            "  inflating: CovidDataset/Train/Normal/IM-0488-0001.jpeg  \n",
            "  inflating: CovidDataset/Train/Covid/nejmoa2001191_f3-PA.jpeg  \n",
            "  inflating: CovidDataset/Train/Normal/IM-0447-0001.jpeg  \n",
            "  inflating: CovidDataset/Train/Covid/2966893D-5DDF-4B68-9E2B-4979D5956C8E.jpeg  \n",
            "  inflating: CovidDataset/Train/Covid/ryct.2020200028.fig1a.jpeg  \n",
            "  inflating: CovidDataset/Train/Normal/IM-0688-0001.jpeg  \n",
            "  inflating: CovidDataset/Train/Covid/16660_3_1.jpg  \n",
            "  inflating: CovidDataset/Val/Normal/NORMAL2-IM-1045-0001.jpeg  \n",
            "  inflating: CovidDataset/Train/Normal/NORMAL2-IM-0978-0001.jpeg  \n",
            "  inflating: CovidDataset/Train/Covid/2-chest-filmc.jpg  \n",
            "  inflating: CovidDataset/Val/Normal/NORMAL2-IM-0678-0001.jpeg  \n",
            "  inflating: CovidDataset/Train/Normal/NORMAL2-IM-0573-0001.jpeg  \n",
            "  inflating: CovidDataset/Train/Normal/IM-0365-0001.jpeg  \n",
            "  inflating: CovidDataset/Train/Normal/IM-0300-0001.jpeg  \n",
            "  inflating: CovidDataset/Train/Normal/IM-0242-0001.jpeg  \n",
            "  inflating: CovidDataset/Train/Covid/F4341CE7-73C9-45C6-99C8-8567A5484B63.jpeg  \n",
            "  inflating: CovidDataset/Train/Normal/NORMAL2-IM-1019-0001.jpeg  \n",
            "  inflating: CovidDataset/Train/Covid/01E392EE-69F9-4E33-BFCE-E5C968654078.jpeg  \n",
            "  inflating: CovidDataset/Train/Normal/IM-0648-0001.jpeg  \n",
            "  inflating: CovidDataset/Val/Normal/NORMAL2-IM-0408-0001.jpeg  \n",
            "  inflating: CovidDataset/Train/Covid/yxppt-2020-02-19_00-51-27_287214-day8.jpg  \n",
            "  inflating: CovidDataset/Train/Normal/IM-0635-0001.jpeg  \n",
            "  inflating: CovidDataset/Train/Covid/radiol.2020200490.fig3.jpeg  \n",
            "  inflating: CovidDataset/Val/Normal/NORMAL2-IM-1060-0001.jpeg  \n"
          ],
          "name": "stdout"
        }
      ]
    },
    {
      "cell_type": "code",
      "metadata": {
        "id": "CpkmMkkoXb0Y"
      },
      "source": [
        "train_path = 'CovidDataset/Train'\n",
        "val_path = 'CovidDataset/Val'"
      ],
      "execution_count": 3,
      "outputs": []
    },
    {
      "cell_type": "code",
      "metadata": {
        "id": "ztFi6HYeXb3K"
      },
      "source": [
        "import numpy as np\n",
        "import matplotlib.pyplot as plt\n",
        "from keras.models import Sequential\n",
        "from keras.layers import *\n",
        "from keras.preprocessing import image"
      ],
      "execution_count": 4,
      "outputs": []
    },
    {
      "cell_type": "code",
      "metadata": {
        "id": "31yCqleZXb7X"
      },
      "source": [
        "model = Sequential()\n",
        "\n",
        "# stacking one convolutional layer one over another increases receptive field, non-linearity in network which helps represent more complex functions \n",
        "# and also reduces no of trainable parameters so that model does not overfit\n",
        "\n",
        "model.add(Conv2D(32,kernel_size=(3,3),activation='relu',input_shape=(224,224,3)))\n",
        "model.add(Conv2D(64,(3,3),activation='relu'))\n",
        "model.add(MaxPooling2D(pool_size=(2,2)))\n",
        "model.add(Dropout(0.25))\n",
        "\n",
        "model.add(Conv2D(64,(3,3),activation='relu'))\n",
        "model.add(MaxPooling2D(pool_size=(2,2)))\n",
        "model.add(Dropout(0.25))\n",
        "\n",
        "model.add(Conv2D(128,(3,3),activation='relu'))\n",
        "model.add(MaxPooling2D(pool_size=(2,2)))\n",
        "model.add(Dropout(0.25))\n",
        "\n",
        "model.add(Flatten())\n",
        "model.add(Dense(64,activation='relu'))\n",
        "model.add(Dropout(0.5))\n",
        "model.add(Dense(1,activation='sigmoid'))"
      ],
      "execution_count": 23,
      "outputs": []
    },
    {
      "cell_type": "code",
      "metadata": {
        "id": "ErDU4HWvXb_R"
      },
      "source": [
        "model.compile(loss='binary_crossentropy', optimizer='adam', metrics = ['accuracy'])"
      ],
      "execution_count": 24,
      "outputs": []
    },
    {
      "cell_type": "code",
      "metadata": {
        "id": "BgoAGZeGXcCv",
        "colab": {
          "base_uri": "https://localhost:8080/"
        },
        "outputId": "cc795f09-7c46-45b3-c32c-2876077d080d"
      },
      "source": [
        "model.summary()"
      ],
      "execution_count": 25,
      "outputs": [
        {
          "output_type": "stream",
          "text": [
            "Model: \"sequential_1\"\n",
            "_________________________________________________________________\n",
            "Layer (type)                 Output Shape              Param #   \n",
            "=================================================================\n",
            "conv2d_4 (Conv2D)            (None, 222, 222, 32)      896       \n",
            "_________________________________________________________________\n",
            "conv2d_5 (Conv2D)            (None, 220, 220, 64)      18496     \n",
            "_________________________________________________________________\n",
            "max_pooling2d_3 (MaxPooling2 (None, 110, 110, 64)      0         \n",
            "_________________________________________________________________\n",
            "dropout_4 (Dropout)          (None, 110, 110, 64)      0         \n",
            "_________________________________________________________________\n",
            "conv2d_6 (Conv2D)            (None, 108, 108, 64)      36928     \n",
            "_________________________________________________________________\n",
            "max_pooling2d_4 (MaxPooling2 (None, 54, 54, 64)        0         \n",
            "_________________________________________________________________\n",
            "dropout_5 (Dropout)          (None, 54, 54, 64)        0         \n",
            "_________________________________________________________________\n",
            "conv2d_7 (Conv2D)            (None, 52, 52, 128)       73856     \n",
            "_________________________________________________________________\n",
            "max_pooling2d_5 (MaxPooling2 (None, 26, 26, 128)       0         \n",
            "_________________________________________________________________\n",
            "dropout_6 (Dropout)          (None, 26, 26, 128)       0         \n",
            "_________________________________________________________________\n",
            "flatten_1 (Flatten)          (None, 86528)             0         \n",
            "_________________________________________________________________\n",
            "dense_2 (Dense)              (None, 64)                5537856   \n",
            "_________________________________________________________________\n",
            "dropout_7 (Dropout)          (None, 64)                0         \n",
            "_________________________________________________________________\n",
            "dense_3 (Dense)              (None, 1)                 65        \n",
            "=================================================================\n",
            "Total params: 5,668,097\n",
            "Trainable params: 5,668,097\n",
            "Non-trainable params: 0\n",
            "_________________________________________________________________\n"
          ],
          "name": "stdout"
        }
      ]
    },
    {
      "cell_type": "code",
      "metadata": {
        "id": "d-VbNND7mt6W"
      },
      "source": [
        "# Data augmentation\n",
        "train_datagen = image.ImageDataGenerator(\n",
        "    rescale = 1./255,\n",
        "    shear_range = 0.2,\n",
        "    zoom_range = 0.2,\n",
        "    horizontal_flip = True,\n",
        ")\n",
        "\n",
        "test_dataset = image.ImageDataGenerator(rescale=1./255)"
      ],
      "execution_count": 26,
      "outputs": []
    },
    {
      "cell_type": "code",
      "metadata": {
        "colab": {
          "base_uri": "https://localhost:8080/"
        },
        "id": "gyLhBkqComOZ",
        "outputId": "2c26d6cf-5851-4fa4-92dc-e07c47cacf2e"
      },
      "source": [
        "train_generator = train_datagen.flow_from_directory(\n",
        "    'CovidDataset/Train',\n",
        "    target_size = (224,224),\n",
        "    batch_size = 32,\n",
        "    class_mode = 'binary')"
      ],
      "execution_count": 27,
      "outputs": [
        {
          "output_type": "stream",
          "text": [
            "Found 224 images belonging to 2 classes.\n"
          ],
          "name": "stdout"
        }
      ]
    },
    {
      "cell_type": "code",
      "metadata": {
        "colab": {
          "base_uri": "https://localhost:8080/"
        },
        "id": "mzkDdNGbomRe",
        "outputId": "7ee4add7-9463-43bb-d33f-3250c642678e"
      },
      "source": [
        "train_generator.class_indices"
      ],
      "execution_count": 28,
      "outputs": [
        {
          "output_type": "execute_result",
          "data": {
            "text/plain": [
              "{'Covid': 0, 'Normal': 1}"
            ]
          },
          "metadata": {
            "tags": []
          },
          "execution_count": 28
        }
      ]
    },
    {
      "cell_type": "code",
      "metadata": {
        "colab": {
          "base_uri": "https://localhost:8080/"
        },
        "id": "fCzRotCComXl",
        "outputId": "5473f364-d628-45a7-f7c2-2f029520adba"
      },
      "source": [
        "val_generator = test_dataset.flow_from_directory(\n",
        "    'CovidDataset/Val',\n",
        "    target_size = (224, 224),\n",
        "    batch_size = 32,\n",
        "    class_mode = 'binary'\n",
        ")"
      ],
      "execution_count": 29,
      "outputs": [
        {
          "output_type": "stream",
          "text": [
            "Found 60 images belonging to 2 classes.\n"
          ],
          "name": "stdout"
        }
      ]
    },
    {
      "cell_type": "code",
      "metadata": {
        "colab": {
          "base_uri": "https://localhost:8080/"
        },
        "id": "yww_YW7Rqyxv",
        "outputId": "dccd65ca-e60a-4dae-c323-c6d06d11f6c8"
      },
      "source": [
        "val_generator.class_indices"
      ],
      "execution_count": 30,
      "outputs": [
        {
          "output_type": "execute_result",
          "data": {
            "text/plain": [
              "{'Covid': 0, 'Normal': 1}"
            ]
          },
          "metadata": {
            "tags": []
          },
          "execution_count": 30
        }
      ]
    },
    {
      "cell_type": "code",
      "metadata": {
        "colab": {
          "base_uri": "https://localhost:8080/"
        },
        "id": "469V9CSrq8Ng",
        "outputId": "f4d6d3ad-caaf-42f1-d47d-96f13ba95f12"
      },
      "source": [
        "# Fitting the model\n",
        "hist = model.fit(train_generator, epochs=10, steps_per_epoch=7, validation_data=val_generator, validation_steps=2)"
      ],
      "execution_count": 31,
      "outputs": [
        {
          "output_type": "stream",
          "text": [
            "Epoch 1/10\n",
            "7/7 [==============================] - 10s 1s/step - loss: 0.8360 - accuracy: 0.4672 - val_loss: 0.6866 - val_accuracy: 0.5167\n",
            "Epoch 2/10\n",
            "7/7 [==============================] - 9s 1s/step - loss: 0.6488 - accuracy: 0.6413 - val_loss: 0.5690 - val_accuracy: 0.7833\n",
            "Epoch 3/10\n",
            "7/7 [==============================] - 9s 1s/step - loss: 0.4838 - accuracy: 0.7784 - val_loss: 0.3960 - val_accuracy: 0.9500\n",
            "Epoch 4/10\n",
            "7/7 [==============================] - 9s 1s/step - loss: 0.3374 - accuracy: 0.8859 - val_loss: 0.2319 - val_accuracy: 0.9167\n",
            "Epoch 5/10\n",
            "7/7 [==============================] - 9s 1s/step - loss: 0.1760 - accuracy: 0.9345 - val_loss: 0.1279 - val_accuracy: 0.9833\n",
            "Epoch 6/10\n",
            "7/7 [==============================] - 9s 1s/step - loss: 0.2050 - accuracy: 0.9387 - val_loss: 0.0935 - val_accuracy: 0.9667\n",
            "Epoch 7/10\n",
            "7/7 [==============================] - 9s 1s/step - loss: 0.2029 - accuracy: 0.9367 - val_loss: 0.1351 - val_accuracy: 0.9333\n",
            "Epoch 8/10\n",
            "7/7 [==============================] - 9s 1s/step - loss: 0.1841 - accuracy: 0.9249 - val_loss: 0.0752 - val_accuracy: 0.9833\n",
            "Epoch 9/10\n",
            "7/7 [==============================] - 9s 1s/step - loss: 0.1184 - accuracy: 0.9507 - val_loss: 0.0633 - val_accuracy: 0.9833\n",
            "Epoch 10/10\n",
            "7/7 [==============================] - 9s 1s/step - loss: 0.1004 - accuracy: 0.9722 - val_loss: 0.0544 - val_accuracy: 0.9833\n"
          ],
          "name": "stdout"
        }
      ]
    },
    {
      "cell_type": "code",
      "metadata": {
        "colab": {
          "base_uri": "https://localhost:8080/"
        },
        "id": "yBxeTdkxufjM",
        "outputId": "3dbe5211-57fb-44a2-dc0f-e80f7c89bbfc"
      },
      "source": [
        "h = hist.history\n",
        "h.keys()"
      ],
      "execution_count": 32,
      "outputs": [
        {
          "output_type": "execute_result",
          "data": {
            "text/plain": [
              "dict_keys(['loss', 'accuracy', 'val_loss', 'val_accuracy'])"
            ]
          },
          "metadata": {
            "tags": []
          },
          "execution_count": 32
        }
      ]
    },
    {
      "cell_type": "code",
      "metadata": {
        "id": "s0sf4uQjuf3j"
      },
      "source": [
        "# Visualizing the results\n",
        "import matplotlib.pyplot as plt"
      ],
      "execution_count": 15,
      "outputs": []
    },
    {
      "cell_type": "code",
      "metadata": {
        "colab": {
          "base_uri": "https://localhost:8080/",
          "height": 266
        },
        "id": "ASWc02FSvEwr",
        "outputId": "938c954f-161c-43f9-9fd3-4757d0576236"
      },
      "source": [
        "plt.plot(h['accuracy'], label = 'Train Accuracy')\n",
        "plt.plot(h['val_accuracy'], label = 'Validation Accuracy')\n",
        "plt.legend()\n",
        "plt.show()"
      ],
      "execution_count": 33,
      "outputs": [
        {
          "output_type": "display_data",
          "data": {
            "image/png": "[encoded data removed]",
            "text/plain": [
              "<Figure size 432x288 with 1 Axes>"
            ]
          },
          "metadata": {
            "tags": [],
            "needs_background": "light"
          }
        }
      ]
    },
    {
      "cell_type": "code",
      "metadata": {
        "colab": {
          "base_uri": "https://localhost:8080/",
          "height": 265
        },
        "id": "voaHGusDvSX2",
        "outputId": "d76b5419-e7d7-4b22-d6ce-60c673023aa9"
      },
      "source": [
        "plt.plot(h['loss'], label = 'Train Loss')\n",
        "plt.plot(h['val_loss'], label = 'Validation Loss')\n",
        "plt.legend()\n",
        "plt.show()"
      ],
      "execution_count": 34,
      "outputs": [
        {
          "output_type": "display_data",
          "data": {
            "image/png": "[encoded data removed]",
            "text/plain": [
              "<Figure size 432x288 with 1 Axes>"
            ]
          },
          "metadata": {
            "tags": [],
            "needs_background": "light"
          }
        }
      ]
    },
    {
      "cell_type": "code",
      "metadata": {
        "colab": {
          "base_uri": "https://localhost:8080/"
        },
        "id": "azTRjIe2vbA3",
        "outputId": "c8e89e84-bb81-4a39-cae0-f904292e668a"
      },
      "source": [
        "# Evaluating the model\n",
        "eval = model.evaluate(train_generator)\n",
        "print('Train Accuracy:', eval[1])"
      ],
      "execution_count": 35,
      "outputs": [
        {
          "output_type": "stream",
          "text": [
            "7/7 [==============================] - 7s 954ms/step - loss: 0.0878 - accuracy: 0.9688\n",
            "Train Accuracy: 0.96875\n"
          ],
          "name": "stdout"
        }
      ]
    },
    {
      "cell_type": "code",
      "metadata": {
        "colab": {
          "base_uri": "https://localhost:8080/"
        },
        "id": "9EuYnGx0w7Wn",
        "outputId": "21a51977-1518-44ba-daa1-71a669a15f09"
      },
      "source": [
        "eval = model.evaluate(val_generator)\n",
        "print('Test Accuracy:', eval[1])"
      ],
      "execution_count": 36,
      "outputs": [
        {
          "output_type": "stream",
          "text": [
            "2/2 [==============================] - 2s 722ms/step - loss: 0.0544 - accuracy: 0.9833\n",
            "Test Accuracy: 0.9833333492279053\n"
          ],
          "name": "stdout"
        }
      ]
    },
    {
      "cell_type": "code",
      "metadata": {
        "id": "j9kFMChLxA6g"
      },
      "source": [
        "# Saving the model\n",
        "model.save(\"covidDetect_model.h5\")"
      ],
      "execution_count": 37,
      "outputs": []
    },
    {
      "cell_type": "code",
      "metadata": {
        "id": "AzdWz2tNFZDu"
      },
      "source": [
        "from keras.models import load_model\n",
        "model = load_model('covidDetect_model.h5')"
      ],
      "execution_count": 42,
      "outputs": []
    },
    {
      "cell_type": "code",
      "metadata": {
        "id": "4AlB5EWXFZJx"
      },
      "source": [
        "import os"
      ],
      "execution_count": 44,
      "outputs": []
    },
    {
      "cell_type": "code",
      "metadata": {
        "colab": {
          "base_uri": "https://localhost:8080/"
        },
        "id": "WWFwER4-FZOi",
        "outputId": "18793533-2618-4045-96e3-92fb3365c032"
      },
      "source": [
        "y_actual = []\n",
        "y_test = []\n",
        "\n",
        "for i in os.listdir(\"CovidDataset/Val/Normal/\"):\n",
        "  img = image.load_img(\"CovidDataset/Val/Normal/\"+i , target_size=(224, 224))\n",
        "  img = image.img_to_array(img)\n",
        "  img = np.array([img])\n",
        "  pred = (model.predict(img) > 0.5).astype(np.int)\n",
        "  y_test.append(pred[0, 0])\n",
        "  y_actual.append(1)\n",
        "\n",
        "for j in os.listdir(\"CovidDataset/Val/Covid/\"):\n",
        "  img = image.load_img(\"CovidDataset/Val/Covid/\"+j , target_size=(224, 224))\n",
        "  img = image.img_to_array(img)\n",
        "  img = np.array([img])\n",
        "  pred = (model.predict(img) > 0.5).astype(np.int)\n",
        "  y_test.append(pred[0, 0])\n",
        "  y_actual.append(0)\n",
        "\n",
        "y_actual = np.array(y_actual)\n",
        "y_test = np.array(y_test)\n",
        "\n",
        "print(y_actual.shape , y_test.shape)"
      ],
      "execution_count": 57,
      "outputs": [
        {
          "output_type": "stream",
          "text": [
            "(60,) (60,)\n"
          ],
          "name": "stdout"
        }
      ]
    },
    {
      "cell_type": "code",
      "metadata": {
        "id": "ao36XLWDQ6Gq"
      },
      "source": [
        "# Confusion Matrix\n",
        "from sklearn.metrics import confusion_matrix\n",
        "cm = confusion_matrix(y_actual , y_test)"
      ],
      "execution_count": 58,
      "outputs": []
    },
    {
      "cell_type": "code",
      "metadata": {
        "colab": {
          "base_uri": "https://localhost:8080/",
          "height": 265
        },
        "id": "WrJ_sYs7V0MA",
        "outputId": "d70bb26a-545c-4a82-8668-45ecafd3450a"
      },
      "source": [
        "import seaborn as sns\n",
        "\n",
        "sns.heatmap(cm, cmap='plasma', annot = True)\n",
        "plt.show()"
      ],
      "execution_count": 65,
      "outputs": [
        {
          "output_type": "display_data",
          "data": {
            "image/png": "[encoded data removed]",
            "text/plain": [
              "<Figure size 432x288 with 2 Axes>"
            ]
          },
          "metadata": {
            "tags": []
          }
        }
      ]
    },
    {
      "cell_type": "code",
      "metadata": {
        "id": "-5UeS4hUV-Ds"
      },
      "source": [
        ""
      ],
      "execution_count": null,
      "outputs": []
    }
  ]
}