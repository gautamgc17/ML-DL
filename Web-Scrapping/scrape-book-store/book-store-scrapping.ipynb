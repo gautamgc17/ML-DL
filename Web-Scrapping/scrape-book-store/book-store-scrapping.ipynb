{
 "cells": [
  {
   "cell_type": "code",
   "execution_count": 1,
   "metadata": {},
   "outputs": [],
   "source": [
    "import requests\n",
    "from bs4 import BeautifulSoup as soup\n",
    "import re\n",
    "import pandas as pd"
   ]
  },
  {
   "cell_type": "code",
   "execution_count": 2,
   "metadata": {},
   "outputs": [
    {
     "data": {
      "text/plain": [
       "'http://books.toscrape.com/catalogue/page-2.html'"
      ]
     },
     "execution_count": 2,
     "metadata": {},
     "output_type": "execute_result"
    }
   ],
   "source": [
    "current_url = 'http://books.toscrape.com/catalogue/page-1.html'\n",
    "base_url = 'http://books.toscrape.com/catalogue/'\n",
    "\n",
    "res = requests.get(current_url)\n",
    "data = soup(res.text , 'html.parser')\n",
    "next = data.find(class_ = 'next')\n",
    "base_url+next.a['href']"
   ]
  },
  {
   "cell_type": "code",
   "execution_count": 3,
   "metadata": {},
   "outputs": [
    {
     "name": "stdout",
     "output_type": "stream",
     "text": [
      "50\n"
     ]
    }
   ],
   "source": [
    "base_url = 'http://books.toscrape.com/catalogue/'\n",
    "\n",
    "current_url = 'http://books.toscrape.com/catalogue/page-1.html'\n",
    "res = requests.get(current_url)\n",
    "\n",
    "all_urls = ['http://books.toscrape.com/catalogue/page-1.html']\n",
    "\n",
    "while(res.status_code == 200):\n",
    "    data = soup(res.text , 'html.parser')\n",
    "    \n",
    "    next_page = data.find(class_ = 'next')\n",
    "    if next_page is None:\n",
    "        break\n",
    "    next_page_url = base_url + next_page.a['href']\n",
    "    all_urls.append(next_page_url)\n",
    "    \n",
    "    current_url = next_page_url\n",
    "    res = requests.get(current_url)\n",
    "\n",
    "print(len(all_urls))"
   ]
  },
  {
   "cell_type": "code",
   "execution_count": 4,
   "metadata": {},
   "outputs": [
    {
     "data": {
      "text/plain": [
       "['http://books.toscrape.com/catalogue/page-1.html',\n",
       " 'http://books.toscrape.com/catalogue/page-2.html',\n",
       " 'http://books.toscrape.com/catalogue/page-3.html',\n",
       " 'http://books.toscrape.com/catalogue/page-4.html',\n",
       " 'http://books.toscrape.com/catalogue/page-5.html']"
      ]
     },
     "execution_count": 4,
     "metadata": {},
     "output_type": "execute_result"
    }
   ],
   "source": [
    "all_urls[:5]"
   ]
  },
  {
   "cell_type": "code",
   "execution_count": 5,
   "metadata": {},
   "outputs": [
    {
     "name": "stdout",
     "output_type": "stream",
     "text": [
      "In Her Wake\n",
      "How Music Works\n",
      "Foolproof Preserving: A Guide to Small Batch Jams, Jellies, Pickles, Condiments, and More: A Foolproof Guide to Making Small Batch Jams, Jellies, Pickles, Condiments, and More\n"
     ]
    }
   ],
   "source": [
    "response = requests.get(all_urls[1])\n",
    "data = soup(response.text , 'html.parser')\n",
    "title = data.find_all(class_ = 'product_pod')\n",
    "for i in title[:3]:\n",
    "    print(i.h3.a['title'])"
   ]
  },
  {
   "cell_type": "code",
   "execution_count": 7,
   "metadata": {},
   "outputs": [
    {
     "name": "stdout",
     "output_type": "stream",
     "text": [
      "£12.84\n",
      "£37.32\n",
      "£30.52\n"
     ]
    }
   ],
   "source": [
    "price = data.find_all(class_ = 'price_color')\n",
    "for i in price[:3]:\n",
    "    print(i.string[1:])"
   ]
  },
  {
   "cell_type": "code",
   "execution_count": 8,
   "metadata": {},
   "outputs": [
    {
     "name": "stdout",
     "output_type": "stream",
     "text": [
      "../media/cache/5d/72/5d72709c6a7a9584a4d1cf07648bfce1.jpg\n",
      "../media/cache/5c/c8/5cc8e107246cb478960d4f0aba1e1c8e.jpg\n",
      "../media/cache/9f/59/9f59f01fa916a7bb8f0b28a4012179a4.jpg\n"
     ]
    }
   ],
   "source": [
    "image = data.find_all(class_ = 'image_container')\n",
    "for i in image[:3]:\n",
    "    print(i.img['src'])"
   ]
  },
  {
   "cell_type": "code",
   "execution_count": 9,
   "metadata": {},
   "outputs": [],
   "source": [
    "all_image_urls = []\n",
    "all_titles = []\n",
    "all_prices = []\n",
    "\n",
    "for a in all_urls:\n",
    "    \n",
    "    response = requests.get(a)\n",
    "    data = soup(response.text , 'html.parser')\n",
    "    \n",
    "    img_link = data.find_all(class_ = 'image_container')\n",
    "    for i in img_link:\n",
    "        all_image_urls.append(i.img['src'])\n",
    "    \n",
    "    title = data.find_all(class_ = 'product_pod')\n",
    "    for j in title:\n",
    "        all_titles.append(j.h3.a['title'])\n",
    "    \n",
    "    price = data.find_all(class_ = 'price_color')\n",
    "    for k in price:\n",
    "        all_prices.append(k.string[1:])   "
   ]
  },
  {
   "cell_type": "code",
   "execution_count": 10,
   "metadata": {},
   "outputs": [
    {
     "data": {
      "text/plain": [
       "1000"
      ]
     },
     "execution_count": 10,
     "metadata": {},
     "output_type": "execute_result"
    }
   ],
   "source": [
    "len(all_image_urls)"
   ]
  },
  {
   "cell_type": "code",
   "execution_count": 11,
   "metadata": {},
   "outputs": [
    {
     "data": {
      "text/plain": [
       "['../media/cache/2c/da/2cdad67c44b002e7ead0cc35693c0e8b.jpg',\n",
       " '../media/cache/26/0c/260c6ae16bce31c8f8c95daddd9f4a1c.jpg',\n",
       " '../media/cache/3e/ef/3eef99c9d9adef34639f510662022830.jpg',\n",
       " '../media/cache/32/51/3251cf3a3412f53f339e42cac2134093.jpg',\n",
       " '../media/cache/be/a5/bea5697f2534a2f86a3ef27b5a8c12a6.jpg']"
      ]
     },
     "execution_count": 11,
     "metadata": {},
     "output_type": "execute_result"
    }
   ],
   "source": [
    "all_image_urls[:5]"
   ]
  },
  {
   "cell_type": "code",
   "execution_count": 12,
   "metadata": {},
   "outputs": [
    {
     "data": {
      "text/plain": [
       "1000"
      ]
     },
     "execution_count": 12,
     "metadata": {},
     "output_type": "execute_result"
    }
   ],
   "source": [
    "len(all_titles)"
   ]
  },
  {
   "cell_type": "code",
   "execution_count": 13,
   "metadata": {},
   "outputs": [
    {
     "data": {
      "text/plain": [
       "['A Light in the Attic',\n",
       " 'Tipping the Velvet',\n",
       " 'Soumission',\n",
       " 'Sharp Objects',\n",
       " 'Sapiens: A Brief History of Humankind']"
      ]
     },
     "execution_count": 13,
     "metadata": {},
     "output_type": "execute_result"
    }
   ],
   "source": [
    "all_titles[:5]"
   ]
  },
  {
   "cell_type": "code",
   "execution_count": 14,
   "metadata": {},
   "outputs": [
    {
     "data": {
      "text/plain": [
       "1000"
      ]
     },
     "execution_count": 14,
     "metadata": {},
     "output_type": "execute_result"
    }
   ],
   "source": [
    "len(all_prices)"
   ]
  },
  {
   "cell_type": "code",
   "execution_count": 15,
   "metadata": {},
   "outputs": [
    {
     "data": {
      "text/plain": [
       "['£51.77', '£53.74', '£50.10', '£47.82', '£54.23']"
      ]
     },
     "execution_count": 15,
     "metadata": {},
     "output_type": "execute_result"
    }
   ],
   "source": [
    "all_prices[:5]"
   ]
  },
  {
   "cell_type": "code",
   "execution_count": 16,
   "metadata": {},
   "outputs": [],
   "source": [
    "df = pd.DataFrame({'image_url':all_image_urls , 'book_title':all_titles , 'product_price':all_prices})"
   ]
  },
  {
   "cell_type": "code",
   "execution_count": 17,
   "metadata": {},
   "outputs": [
    {
     "data": {
      "text/html": [
       "<div>\n",
       "<style scoped>\n",
       "    .dataframe tbody tr th:only-of-type {\n",
       "        vertical-align: middle;\n",
       "    }\n",
       "\n",
       "    .dataframe tbody tr th {\n",
       "        vertical-align: top;\n",
       "    }\n",
       "\n",
       "    .dataframe thead th {\n",
       "        text-align: right;\n",
       "    }\n",
       "</style>\n",
       "<table border=\"1\" class=\"dataframe\">\n",
       "  <thead>\n",
       "    <tr style=\"text-align: right;\">\n",
       "      <th></th>\n",
       "      <th>image_url</th>\n",
       "      <th>book_title</th>\n",
       "      <th>product_price</th>\n",
       "    </tr>\n",
       "  </thead>\n",
       "  <tbody>\n",
       "    <tr>\n",
       "      <th>0</th>\n",
       "      <td>../media/cache/2c/da/2cdad67c44b002e7ead0cc356...</td>\n",
       "      <td>A Light in the Attic</td>\n",
       "      <td>£51.77</td>\n",
       "    </tr>\n",
       "    <tr>\n",
       "      <th>1</th>\n",
       "      <td>../media/cache/26/0c/260c6ae16bce31c8f8c95dadd...</td>\n",
       "      <td>Tipping the Velvet</td>\n",
       "      <td>£53.74</td>\n",
       "    </tr>\n",
       "    <tr>\n",
       "      <th>2</th>\n",
       "      <td>../media/cache/3e/ef/3eef99c9d9adef34639f51066...</td>\n",
       "      <td>Soumission</td>\n",
       "      <td>£50.10</td>\n",
       "    </tr>\n",
       "    <tr>\n",
       "      <th>3</th>\n",
       "      <td>../media/cache/32/51/3251cf3a3412f53f339e42cac...</td>\n",
       "      <td>Sharp Objects</td>\n",
       "      <td>£47.82</td>\n",
       "    </tr>\n",
       "    <tr>\n",
       "      <th>4</th>\n",
       "      <td>../media/cache/be/a5/bea5697f2534a2f86a3ef27b5...</td>\n",
       "      <td>Sapiens: A Brief History of Humankind</td>\n",
       "      <td>£54.23</td>\n",
       "    </tr>\n",
       "  </tbody>\n",
       "</table>\n",
       "</div>"
      ],
      "text/plain": [
       "                                           image_url  \\\n",
       "0  ../media/cache/2c/da/2cdad67c44b002e7ead0cc356...   \n",
       "1  ../media/cache/26/0c/260c6ae16bce31c8f8c95dadd...   \n",
       "2  ../media/cache/3e/ef/3eef99c9d9adef34639f51066...   \n",
       "3  ../media/cache/32/51/3251cf3a3412f53f339e42cac...   \n",
       "4  ../media/cache/be/a5/bea5697f2534a2f86a3ef27b5...   \n",
       "\n",
       "                              book_title product_price  \n",
       "0                   A Light in the Attic        £51.77  \n",
       "1                     Tipping the Velvet        £53.74  \n",
       "2                             Soumission        £50.10  \n",
       "3                          Sharp Objects        £47.82  \n",
       "4  Sapiens: A Brief History of Humankind        £54.23  "
      ]
     },
     "execution_count": 17,
     "metadata": {},
     "output_type": "execute_result"
    }
   ],
   "source": [
    "df.head()"
   ]
  },
  {
   "cell_type": "code",
   "execution_count": 18,
   "metadata": {},
   "outputs": [
    {
     "data": {
      "text/plain": [
       "(1000, 3)"
      ]
     },
     "execution_count": 18,
     "metadata": {},
     "output_type": "execute_result"
    }
   ],
   "source": [
    "df.shape"
   ]
  },
  {
   "cell_type": "code",
   "execution_count": 20,
   "metadata": {},
   "outputs": [],
   "source": [
    "df.to_csv('scrapped_books.csv' , index=False)"
   ]
  },
  {
   "cell_type": "code",
   "execution_count": null,
   "metadata": {},
   "outputs": [],
   "source": []
  }
 ],
 "metadata": {
  "kernelspec": {
   "display_name": "Python 3",
   "language": "python",
   "name": "python3"
  },
  "language_info": {
   "codemirror_mode": {
    "name": "ipython",
    "version": 3
   },
   "file_extension": ".py",
   "mimetype": "text/x-python",
   "name": "python",
   "nbconvert_exporter": "python",
   "pygments_lexer": "ipython3",
   "version": "3.7.6"
  }
 },
 "nbformat": 4,
 "nbformat_minor": 4
}
