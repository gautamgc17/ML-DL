{
 "cells": [
  {
   "cell_type": "code",
   "execution_count": 1,
   "metadata": {},
   "outputs": [],
   "source": [
    "import numpy as np\n",
    "import pandas as pd\n",
    "import matplotlib.pyplot as plt"
   ]
  },
  {
   "cell_type": "code",
   "execution_count": 2,
   "metadata": {},
   "outputs": [],
   "source": [
    "x_train = pd.read_csv(r\"E:\\neural network\\Logistic_X_Train.csv\")\n",
    "y_train = pd.read_csv(r\"E:\\neural network\\Logistic_Y_Train.csv\")"
   ]
  },
  {
   "cell_type": "code",
   "execution_count": 3,
   "metadata": {},
   "outputs": [
    {
     "name": "stdout",
     "output_type": "stream",
     "text": [
      "<class 'pandas.core.frame.DataFrame'>\n",
      "RangeIndex: 2250 entries, 0 to 2249\n",
      "Data columns (total 2 columns):\n",
      " #   Column  Non-Null Count  Dtype  \n",
      "---  ------  --------------  -----  \n",
      " 0   f1      2250 non-null   float64\n",
      " 1   f2      2250 non-null   float64\n",
      "dtypes: float64(2)\n",
      "memory usage: 35.3 KB\n"
     ]
    }
   ],
   "source": [
    "x_train.info()"
   ]
  },
  {
   "cell_type": "code",
   "execution_count": 4,
   "metadata": {},
   "outputs": [
    {
     "data": {
      "text/html": [
       "<div>\n",
       "<style scoped>\n",
       "    .dataframe tbody tr th:only-of-type {\n",
       "        vertical-align: middle;\n",
       "    }\n",
       "\n",
       "    .dataframe tbody tr th {\n",
       "        vertical-align: top;\n",
       "    }\n",
       "\n",
       "    .dataframe thead th {\n",
       "        text-align: right;\n",
       "    }\n",
       "</style>\n",
       "<table border=\"1\" class=\"dataframe\">\n",
       "  <thead>\n",
       "    <tr style=\"text-align: right;\">\n",
       "      <th></th>\n",
       "      <th>f1</th>\n",
       "      <th>f2</th>\n",
       "    </tr>\n",
       "  </thead>\n",
       "  <tbody>\n",
       "    <tr>\n",
       "      <th>0</th>\n",
       "      <td>0.574727</td>\n",
       "      <td>0.787277</td>\n",
       "    </tr>\n",
       "    <tr>\n",
       "      <th>1</th>\n",
       "      <td>0.251502</td>\n",
       "      <td>0.908940</td>\n",
       "    </tr>\n",
       "    <tr>\n",
       "      <th>2</th>\n",
       "      <td>1.860578</td>\n",
       "      <td>0.013763</td>\n",
       "    </tr>\n",
       "    <tr>\n",
       "      <th>3</th>\n",
       "      <td>0.019477</td>\n",
       "      <td>1.047210</td>\n",
       "    </tr>\n",
       "    <tr>\n",
       "      <th>4</th>\n",
       "      <td>0.029794</td>\n",
       "      <td>0.252236</td>\n",
       "    </tr>\n",
       "  </tbody>\n",
       "</table>\n",
       "</div>"
      ],
      "text/plain": [
       "         f1        f2\n",
       "0  0.574727  0.787277\n",
       "1  0.251502  0.908940\n",
       "2  1.860578  0.013763\n",
       "3  0.019477  1.047210\n",
       "4  0.029794  0.252236"
      ]
     },
     "execution_count": 4,
     "metadata": {},
     "output_type": "execute_result"
    }
   ],
   "source": [
    "x_train.head()"
   ]
  },
  {
   "cell_type": "code",
   "execution_count": 5,
   "metadata": {
    "scrolled": true
   },
   "outputs": [
    {
     "data": {
      "text/html": [
       "<div>\n",
       "<style scoped>\n",
       "    .dataframe tbody tr th:only-of-type {\n",
       "        vertical-align: middle;\n",
       "    }\n",
       "\n",
       "    .dataframe tbody tr th {\n",
       "        vertical-align: top;\n",
       "    }\n",
       "\n",
       "    .dataframe thead th {\n",
       "        text-align: right;\n",
       "    }\n",
       "</style>\n",
       "<table border=\"1\" class=\"dataframe\">\n",
       "  <thead>\n",
       "    <tr style=\"text-align: right;\">\n",
       "      <th></th>\n",
       "      <th>label</th>\n",
       "    </tr>\n",
       "  </thead>\n",
       "  <tbody>\n",
       "    <tr>\n",
       "      <th>0</th>\n",
       "      <td>0</td>\n",
       "    </tr>\n",
       "    <tr>\n",
       "      <th>1</th>\n",
       "      <td>0</td>\n",
       "    </tr>\n",
       "    <tr>\n",
       "      <th>2</th>\n",
       "      <td>1</td>\n",
       "    </tr>\n",
       "    <tr>\n",
       "      <th>3</th>\n",
       "      <td>0</td>\n",
       "    </tr>\n",
       "    <tr>\n",
       "      <th>4</th>\n",
       "      <td>1</td>\n",
       "    </tr>\n",
       "  </tbody>\n",
       "</table>\n",
       "</div>"
      ],
      "text/plain": [
       "   label\n",
       "0      0\n",
       "1      0\n",
       "2      1\n",
       "3      0\n",
       "4      1"
      ]
     },
     "execution_count": 5,
     "metadata": {},
     "output_type": "execute_result"
    }
   ],
   "source": [
    "y_train.head()"
   ]
  },
  {
   "cell_type": "code",
   "execution_count": 8,
   "metadata": {
    "scrolled": true
   },
   "outputs": [
    {
     "data": {
      "text/plain": [
       "2"
      ]
     },
     "execution_count": 8,
     "metadata": {},
     "output_type": "execute_result"
    }
   ],
   "source": [
    "y_train['label'].nunique()"
   ]
  },
  {
   "cell_type": "code",
   "execution_count": 9,
   "metadata": {},
   "outputs": [
    {
     "name": "stdout",
     "output_type": "stream",
     "text": [
      "f1    0.503961\n",
      "f2    0.256657\n",
      "dtype: float64\n",
      "f1    0.883508\n",
      "f2    0.528383\n",
      "dtype: float64\n"
     ]
    }
   ],
   "source": [
    "print(x_train.mean(axis = 0))\n",
    "print(x_train.std(axis = 0))"
   ]
  },
  {
   "cell_type": "code",
   "execution_count": 10,
   "metadata": {},
   "outputs": [
    {
     "name": "stdout",
     "output_type": "stream",
     "text": [
      "(2250, 2) (2250, 1)\n"
     ]
    }
   ],
   "source": [
    "x_train = np.array(x_train)\n",
    "y_train = np.array(y_train)\n",
    "\n",
    "print(x_train.shape, y_train.shape)"
   ]
  },
  {
   "cell_type": "code",
   "execution_count": 11,
   "metadata": {},
   "outputs": [],
   "source": [
    "y_train = y_train.reshape((y_train.shape[0],))"
   ]
  },
  {
   "cell_type": "code",
   "execution_count": 14,
   "metadata": {},
   "outputs": [
    {
     "data": {
      "image/png": "[encoded data removed]",
      "text/plain": [
       "<Figure size 432x288 with 1 Axes>"
      ]
     },
     "metadata": {
      "needs_background": "light"
     },
     "output_type": "display_data"
    }
   ],
   "source": [
    "plt.scatter(x_train[:,0], x_train[:,1], c = y_train)\n",
    "plt.show()"
   ]
  },
  {
   "cell_type": "code",
   "execution_count": 15,
   "metadata": {},
   "outputs": [],
   "source": [
    "from keras.models import Sequential\n",
    "from keras.layers import Dense"
   ]
  },
  {
   "cell_type": "code",
   "execution_count": 19,
   "metadata": {},
   "outputs": [],
   "source": [
    "model = Sequential()\n",
    "\n",
    "model.add(Dense(units = 8, activation = 'relu' , input_dim = 2))\n",
    "model.add(Dense(units = 5, activation = 'relu'))\n",
    "model.add(Dense(units = 1, activation = 'sigmoid'))"
   ]
  },
  {
   "cell_type": "code",
   "execution_count": 20,
   "metadata": {},
   "outputs": [],
   "source": [
    "model.compile(optimizer = 'adam' , loss = 'binary_crossentropy' , metrics = ['accuracy'])"
   ]
  },
  {
   "cell_type": "code",
   "execution_count": 21,
   "metadata": {
    "scrolled": true
   },
   "outputs": [
    {
     "name": "stdout",
     "output_type": "stream",
     "text": [
      "Model: \"sequential_1\"\n",
      "_________________________________________________________________\n",
      "Layer (type)                 Output Shape              Param #   \n",
      "=================================================================\n",
      "dense_3 (Dense)              (None, 8)                 24        \n",
      "_________________________________________________________________\n",
      "dense_4 (Dense)              (None, 5)                 45        \n",
      "_________________________________________________________________\n",
      "dense_5 (Dense)              (None, 1)                 6         \n",
      "=================================================================\n",
      "Total params: 75\n",
      "Trainable params: 75\n",
      "Non-trainable params: 0\n",
      "_________________________________________________________________\n"
     ]
    }
   ],
   "source": [
    "model.summary()"
   ]
  },
  {
   "cell_type": "code",
   "execution_count": 22,
   "metadata": {},
   "outputs": [
    {
     "name": "stdout",
     "output_type": "stream",
     "text": [
      "Epoch 1/300\n",
      "15/15 [==============================] - 2s 50ms/step - loss: 0.6667 - accuracy: 0.4829 - val_loss: 0.6312 - val_accuracy: 0.5289\n",
      "Epoch 2/300\n",
      "15/15 [==============================] - 0s 7ms/step - loss: 0.6312 - accuracy: 0.5669 - val_loss: 0.5967 - val_accuracy: 0.8111\n",
      "Epoch 3/300\n",
      "15/15 [==============================] - 0s 7ms/step - loss: 0.5941 - accuracy: 0.7973 - val_loss: 0.5659 - val_accuracy: 0.8267\n",
      "Epoch 4/300\n",
      "15/15 [==============================] - 0s 7ms/step - loss: 0.5694 - accuracy: 0.7987 - val_loss: 0.5366 - val_accuracy: 0.8356\n",
      "Epoch 5/300\n",
      "15/15 [==============================] - 0s 7ms/step - loss: 0.5359 - accuracy: 0.8074 - val_loss: 0.5074 - val_accuracy: 0.8311\n",
      "Epoch 6/300\n",
      "15/15 [==============================] - 0s 8ms/step - loss: 0.5118 - accuracy: 0.8031 - val_loss: 0.4801 - val_accuracy: 0.8356\n",
      "Epoch 7/300\n",
      "15/15 [==============================] - 0s 8ms/step - loss: 0.4821 - accuracy: 0.8069 - val_loss: 0.4532 - val_accuracy: 0.8378\n",
      "Epoch 8/300\n",
      "15/15 [==============================] - 0s 7ms/step - loss: 0.4540 - accuracy: 0.8157 - val_loss: 0.4284 - val_accuracy: 0.8422\n",
      "Epoch 9/300\n",
      "15/15 [==============================] - 0s 7ms/step - loss: 0.4276 - accuracy: 0.8220 - val_loss: 0.4087 - val_accuracy: 0.8422\n",
      "Epoch 10/300\n",
      "15/15 [==============================] - 0s 7ms/step - loss: 0.4142 - accuracy: 0.8170 - val_loss: 0.3932 - val_accuracy: 0.8444\n",
      "Epoch 11/300\n",
      "15/15 [==============================] - 0s 7ms/step - loss: 0.4064 - accuracy: 0.8180 - val_loss: 0.3796 - val_accuracy: 0.8444\n",
      "Epoch 12/300\n",
      "15/15 [==============================] - 0s 7ms/step - loss: 0.3867 - accuracy: 0.8238 - val_loss: 0.3690 - val_accuracy: 0.8467\n",
      "Epoch 13/300\n",
      "15/15 [==============================] - 0s 7ms/step - loss: 0.3823 - accuracy: 0.8277 - val_loss: 0.3617 - val_accuracy: 0.8489\n",
      "Epoch 14/300\n",
      "15/15 [==============================] - 0s 17ms/step - loss: 0.3823 - accuracy: 0.8202 - val_loss: 0.3552 - val_accuracy: 0.8556\n",
      "Epoch 15/300\n",
      "15/15 [==============================] - 0s 9ms/step - loss: 0.3577 - accuracy: 0.8400 - val_loss: 0.3469 - val_accuracy: 0.8600\n",
      "Epoch 16/300\n",
      "15/15 [==============================] - 0s 7ms/step - loss: 0.3572 - accuracy: 0.8346 - val_loss: 0.3394 - val_accuracy: 0.8644\n",
      "Epoch 17/300\n",
      "15/15 [==============================] - 0s 7ms/step - loss: 0.3546 - accuracy: 0.8312 - val_loss: 0.3328 - val_accuracy: 0.8644\n",
      "Epoch 18/300\n",
      "15/15 [==============================] - 0s 7ms/step - loss: 0.3464 - accuracy: 0.8408 - val_loss: 0.3262 - val_accuracy: 0.8667\n",
      "Epoch 19/300\n",
      "15/15 [==============================] - 0s 7ms/step - loss: 0.3432 - accuracy: 0.8388 - val_loss: 0.3205 - val_accuracy: 0.8689\n",
      "Epoch 20/300\n",
      "15/15 [==============================] - 0s 7ms/step - loss: 0.3332 - accuracy: 0.8467 - val_loss: 0.3154 - val_accuracy: 0.8733\n",
      "Epoch 21/300\n",
      "15/15 [==============================] - 0s 7ms/step - loss: 0.3235 - accuracy: 0.8541 - val_loss: 0.3103 - val_accuracy: 0.8733\n",
      "Epoch 22/300\n",
      "15/15 [==============================] - 0s 7ms/step - loss: 0.3338 - accuracy: 0.8463 - val_loss: 0.3054 - val_accuracy: 0.8756\n",
      "Epoch 23/300\n",
      "15/15 [==============================] - 0s 7ms/step - loss: 0.3265 - accuracy: 0.8495 - val_loss: 0.3008 - val_accuracy: 0.8733\n",
      "Epoch 24/300\n",
      "15/15 [==============================] - 0s 7ms/step - loss: 0.3241 - accuracy: 0.8479 - val_loss: 0.2948 - val_accuracy: 0.8756\n",
      "Epoch 25/300\n",
      "15/15 [==============================] - 0s 7ms/step - loss: 0.3178 - accuracy: 0.8559 - val_loss: 0.2899 - val_accuracy: 0.8733\n",
      "Epoch 26/300\n",
      "15/15 [==============================] - 0s 7ms/step - loss: 0.3187 - accuracy: 0.8547 - val_loss: 0.2878 - val_accuracy: 0.8778\n",
      "Epoch 27/300\n",
      "15/15 [==============================] - 0s 7ms/step - loss: 0.3084 - accuracy: 0.8645 - val_loss: 0.2832 - val_accuracy: 0.8800\n",
      "Epoch 28/300\n",
      "15/15 [==============================] - 0s 7ms/step - loss: 0.3007 - accuracy: 0.8659 - val_loss: 0.2789 - val_accuracy: 0.8778\n",
      "Epoch 29/300\n",
      "15/15 [==============================] - 0s 7ms/step - loss: 0.2944 - accuracy: 0.8740 - val_loss: 0.2774 - val_accuracy: 0.8756\n",
      "Epoch 30/300\n",
      "15/15 [==============================] - 0s 7ms/step - loss: 0.3023 - accuracy: 0.8603 - val_loss: 0.2742 - val_accuracy: 0.8756\n",
      "Epoch 31/300\n",
      "15/15 [==============================] - 0s 7ms/step - loss: 0.3029 - accuracy: 0.8577 - val_loss: 0.2700 - val_accuracy: 0.8778\n",
      "Epoch 32/300\n",
      "15/15 [==============================] - 0s 7ms/step - loss: 0.2935 - accuracy: 0.8666 - val_loss: 0.2686 - val_accuracy: 0.8822\n",
      "Epoch 33/300\n",
      "15/15 [==============================] - 0s 7ms/step - loss: 0.2781 - accuracy: 0.8763 - val_loss: 0.2651 - val_accuracy: 0.8822\n",
      "Epoch 34/300\n",
      "15/15 [==============================] - 0s 7ms/step - loss: 0.2842 - accuracy: 0.8657 - val_loss: 0.2632 - val_accuracy: 0.8822\n",
      "Epoch 35/300\n",
      "15/15 [==============================] - 0s 7ms/step - loss: 0.2836 - accuracy: 0.8711 - val_loss: 0.2610 - val_accuracy: 0.8844\n",
      "Epoch 36/300\n",
      "15/15 [==============================] - 0s 7ms/step - loss: 0.2787 - accuracy: 0.8764 - val_loss: 0.2581 - val_accuracy: 0.8844\n",
      "Epoch 37/300\n",
      "15/15 [==============================] - 0s 7ms/step - loss: 0.2832 - accuracy: 0.8702 - val_loss: 0.2569 - val_accuracy: 0.8867\n",
      "Epoch 38/300\n",
      "15/15 [==============================] - 0s 7ms/step - loss: 0.2786 - accuracy: 0.8709 - val_loss: 0.2539 - val_accuracy: 0.8867\n",
      "Epoch 39/300\n",
      "15/15 [==============================] - 0s 7ms/step - loss: 0.2746 - accuracy: 0.8706 - val_loss: 0.2523 - val_accuracy: 0.8867\n",
      "Epoch 40/300\n",
      "15/15 [==============================] - 0s 7ms/step - loss: 0.2787 - accuracy: 0.8771 - val_loss: 0.2513 - val_accuracy: 0.8911\n",
      "Epoch 41/300\n",
      "15/15 [==============================] - 0s 7ms/step - loss: 0.2860 - accuracy: 0.8709 - val_loss: 0.2494 - val_accuracy: 0.8911\n",
      "Epoch 42/300\n",
      "15/15 [==============================] - 0s 7ms/step - loss: 0.2683 - accuracy: 0.8841 - val_loss: 0.2478 - val_accuracy: 0.8911\n",
      "Epoch 43/300\n",
      "15/15 [==============================] - 0s 7ms/step - loss: 0.2845 - accuracy: 0.8741 - val_loss: 0.2465 - val_accuracy: 0.8933\n",
      "Epoch 44/300\n",
      "15/15 [==============================] - 0s 7ms/step - loss: 0.2739 - accuracy: 0.8778 - val_loss: 0.2452 - val_accuracy: 0.8978\n",
      "Epoch 45/300\n",
      "15/15 [==============================] - 0s 7ms/step - loss: 0.2802 - accuracy: 0.8732 - val_loss: 0.2457 - val_accuracy: 0.8978\n",
      "Epoch 46/300\n",
      "15/15 [==============================] - 0s 7ms/step - loss: 0.2595 - accuracy: 0.8852 - val_loss: 0.2436 - val_accuracy: 0.9000\n",
      "Epoch 47/300\n",
      "15/15 [==============================] - 0s 7ms/step - loss: 0.2639 - accuracy: 0.8895 - val_loss: 0.2440 - val_accuracy: 0.8978\n",
      "Epoch 48/300\n",
      "15/15 [==============================] - 0s 7ms/step - loss: 0.2614 - accuracy: 0.8902 - val_loss: 0.2418 - val_accuracy: 0.9044\n",
      "Epoch 49/300\n",
      "15/15 [==============================] - 0s 7ms/step - loss: 0.2629 - accuracy: 0.8836 - val_loss: 0.2386 - val_accuracy: 0.9044\n",
      "Epoch 50/300\n",
      "15/15 [==============================] - 0s 7ms/step - loss: 0.2764 - accuracy: 0.8764 - val_loss: 0.2366 - val_accuracy: 0.9044\n",
      "Epoch 51/300\n",
      "15/15 [==============================] - 0s 7ms/step - loss: 0.2718 - accuracy: 0.8805 - val_loss: 0.2348 - val_accuracy: 0.9044\n",
      "Epoch 52/300\n",
      "15/15 [==============================] - 0s 7ms/step - loss: 0.2607 - accuracy: 0.8899 - val_loss: 0.2325 - val_accuracy: 0.9000\n",
      "Epoch 53/300\n",
      "15/15 [==============================] - 0s 7ms/step - loss: 0.2738 - accuracy: 0.8780 - val_loss: 0.2316 - val_accuracy: 0.9044\n",
      "Epoch 54/300\n",
      "15/15 [==============================] - 0s 7ms/step - loss: 0.2565 - accuracy: 0.8906 - val_loss: 0.2312 - val_accuracy: 0.9044\n",
      "Epoch 55/300\n",
      "15/15 [==============================] - 0s 7ms/step - loss: 0.2702 - accuracy: 0.8844 - val_loss: 0.2323 - val_accuracy: 0.9067\n",
      "Epoch 56/300\n",
      "15/15 [==============================] - 0s 7ms/step - loss: 0.2603 - accuracy: 0.8890 - val_loss: 0.2306 - val_accuracy: 0.9067\n",
      "Epoch 57/300\n",
      "15/15 [==============================] - 0s 7ms/step - loss: 0.2475 - accuracy: 0.8964 - val_loss: 0.2278 - val_accuracy: 0.9089\n",
      "Epoch 58/300\n",
      "15/15 [==============================] - 0s 7ms/step - loss: 0.2579 - accuracy: 0.8938 - val_loss: 0.2266 - val_accuracy: 0.9089\n"
     ]
    },
    {
     "name": "stdout",
     "output_type": "stream",
     "text": [
      "Epoch 59/300\n",
      "15/15 [==============================] - 0s 8ms/step - loss: 0.2449 - accuracy: 0.9023 - val_loss: 0.2267 - val_accuracy: 0.9089\n",
      "Epoch 60/300\n",
      "15/15 [==============================] - 0s 18ms/step - loss: 0.2469 - accuracy: 0.8940 - val_loss: 0.2253 - val_accuracy: 0.9089\n",
      "Epoch 61/300\n",
      "15/15 [==============================] - 0s 7ms/step - loss: 0.2424 - accuracy: 0.9052 - val_loss: 0.2246 - val_accuracy: 0.9089\n",
      "Epoch 62/300\n",
      "15/15 [==============================] - 0s 7ms/step - loss: 0.2454 - accuracy: 0.9012 - val_loss: 0.2239 - val_accuracy: 0.9111\n",
      "Epoch 63/300\n",
      "15/15 [==============================] - 0s 9ms/step - loss: 0.2420 - accuracy: 0.8973 - val_loss: 0.2226 - val_accuracy: 0.9133\n",
      "Epoch 64/300\n",
      "15/15 [==============================] - 0s 7ms/step - loss: 0.2392 - accuracy: 0.8982 - val_loss: 0.2193 - val_accuracy: 0.9133\n",
      "Epoch 65/300\n",
      "15/15 [==============================] - 0s 7ms/step - loss: 0.2462 - accuracy: 0.8981 - val_loss: 0.2191 - val_accuracy: 0.9133\n",
      "Epoch 66/300\n",
      "15/15 [==============================] - 0s 7ms/step - loss: 0.2456 - accuracy: 0.8996 - val_loss: 0.2181 - val_accuracy: 0.9133\n",
      "Epoch 67/300\n",
      "15/15 [==============================] - 0s 7ms/step - loss: 0.2455 - accuracy: 0.8961 - val_loss: 0.2166 - val_accuracy: 0.9133\n",
      "Epoch 68/300\n",
      "15/15 [==============================] - 0s 7ms/step - loss: 0.2388 - accuracy: 0.9045 - val_loss: 0.2157 - val_accuracy: 0.9133\n",
      "Epoch 69/300\n",
      "15/15 [==============================] - 0s 7ms/step - loss: 0.2377 - accuracy: 0.8999 - val_loss: 0.2144 - val_accuracy: 0.9156\n",
      "Epoch 70/300\n",
      "15/15 [==============================] - 0s 7ms/step - loss: 0.2435 - accuracy: 0.9011 - val_loss: 0.2142 - val_accuracy: 0.9156\n",
      "Epoch 71/300\n",
      "15/15 [==============================] - 0s 8ms/step - loss: 0.2391 - accuracy: 0.9030 - val_loss: 0.2151 - val_accuracy: 0.9156\n",
      "Epoch 72/300\n",
      "15/15 [==============================] - 0s 9ms/step - loss: 0.2431 - accuracy: 0.8996 - val_loss: 0.2128 - val_accuracy: 0.9178\n",
      "Epoch 73/300\n",
      "15/15 [==============================] - 0s 9ms/step - loss: 0.2305 - accuracy: 0.9113 - val_loss: 0.2091 - val_accuracy: 0.9178\n",
      "Epoch 74/300\n",
      "15/15 [==============================] - 0s 9ms/step - loss: 0.2426 - accuracy: 0.8998 - val_loss: 0.2085 - val_accuracy: 0.9178\n",
      "Epoch 75/300\n",
      "15/15 [==============================] - 0s 9ms/step - loss: 0.2360 - accuracy: 0.9043 - val_loss: 0.2078 - val_accuracy: 0.9178\n",
      "Epoch 76/300\n",
      "15/15 [==============================] - 0s 9ms/step - loss: 0.2229 - accuracy: 0.9140 - val_loss: 0.2096 - val_accuracy: 0.9200\n",
      "Epoch 77/300\n",
      "15/15 [==============================] - 0s 7ms/step - loss: 0.2265 - accuracy: 0.9057 - val_loss: 0.2050 - val_accuracy: 0.9200\n",
      "Epoch 78/300\n",
      "15/15 [==============================] - 0s 7ms/step - loss: 0.2227 - accuracy: 0.9140 - val_loss: 0.2063 - val_accuracy: 0.9200\n",
      "Epoch 79/300\n",
      "15/15 [==============================] - 0s 8ms/step - loss: 0.2260 - accuracy: 0.9069 - val_loss: 0.2053 - val_accuracy: 0.9222\n",
      "Epoch 80/300\n",
      "15/15 [==============================] - 0s 10ms/step - loss: 0.2377 - accuracy: 0.9041 - val_loss: 0.2034 - val_accuracy: 0.9222\n",
      "Epoch 81/300\n",
      "15/15 [==============================] - 0s 8ms/step - loss: 0.2320 - accuracy: 0.9060 - val_loss: 0.2015 - val_accuracy: 0.9222\n",
      "Epoch 82/300\n",
      "15/15 [==============================] - 0s 8ms/step - loss: 0.2345 - accuracy: 0.9071 - val_loss: 0.2002 - val_accuracy: 0.9222\n",
      "Epoch 83/300\n",
      "15/15 [==============================] - 0s 8ms/step - loss: 0.2235 - accuracy: 0.9155 - val_loss: 0.1985 - val_accuracy: 0.9200\n",
      "Epoch 84/300\n",
      "15/15 [==============================] - 0s 8ms/step - loss: 0.2271 - accuracy: 0.9123 - val_loss: 0.1990 - val_accuracy: 0.9200\n",
      "Epoch 85/300\n",
      "15/15 [==============================] - 0s 9ms/step - loss: 0.2181 - accuracy: 0.9117 - val_loss: 0.1980 - val_accuracy: 0.9200\n",
      "Epoch 86/300\n",
      "15/15 [==============================] - 0s 8ms/step - loss: 0.2209 - accuracy: 0.9177 - val_loss: 0.1969 - val_accuracy: 0.9200\n",
      "Epoch 87/300\n",
      "15/15 [==============================] - 0s 8ms/step - loss: 0.2355 - accuracy: 0.9086 - val_loss: 0.1950 - val_accuracy: 0.9200\n",
      "Epoch 88/300\n",
      "15/15 [==============================] - 0s 8ms/step - loss: 0.2187 - accuracy: 0.9104 - val_loss: 0.1943 - val_accuracy: 0.9222\n",
      "Epoch 89/300\n",
      "15/15 [==============================] - 0s 7ms/step - loss: 0.2099 - accuracy: 0.9193 - val_loss: 0.1923 - val_accuracy: 0.9200\n",
      "Epoch 90/300\n",
      "15/15 [==============================] - 0s 7ms/step - loss: 0.2210 - accuracy: 0.9142 - val_loss: 0.1908 - val_accuracy: 0.9200\n",
      "Epoch 91/300\n",
      "15/15 [==============================] - 0s 7ms/step - loss: 0.2155 - accuracy: 0.9240 - val_loss: 0.1898 - val_accuracy: 0.9244\n",
      "Epoch 92/300\n",
      "15/15 [==============================] - 0s 7ms/step - loss: 0.2102 - accuracy: 0.9212 - val_loss: 0.1875 - val_accuracy: 0.9267\n",
      "Epoch 93/300\n",
      "15/15 [==============================] - 0s 7ms/step - loss: 0.2174 - accuracy: 0.9165 - val_loss: 0.1863 - val_accuracy: 0.9267\n",
      "Epoch 94/300\n",
      "15/15 [==============================] - 0s 7ms/step - loss: 0.2106 - accuracy: 0.9229 - val_loss: 0.1862 - val_accuracy: 0.9244\n",
      "Epoch 95/300\n",
      "15/15 [==============================] - 0s 7ms/step - loss: 0.2028 - accuracy: 0.9206 - val_loss: 0.1837 - val_accuracy: 0.9267\n",
      "Epoch 96/300\n",
      "15/15 [==============================] - 0s 9ms/step - loss: 0.1974 - accuracy: 0.9231 - val_loss: 0.1819 - val_accuracy: 0.9267\n",
      "Epoch 97/300\n",
      "15/15 [==============================] - 0s 7ms/step - loss: 0.2024 - accuracy: 0.9219 - val_loss: 0.1818 - val_accuracy: 0.9311\n",
      "Epoch 98/300\n",
      "15/15 [==============================] - 0s 17ms/step - loss: 0.1940 - accuracy: 0.9311 - val_loss: 0.1817 - val_accuracy: 0.9267\n",
      "Epoch 99/300\n",
      "15/15 [==============================] - 0s 9ms/step - loss: 0.1893 - accuracy: 0.9321 - val_loss: 0.1807 - val_accuracy: 0.9289\n",
      "Epoch 100/300\n",
      "15/15 [==============================] - 0s 7ms/step - loss: 0.1924 - accuracy: 0.9338 - val_loss: 0.1782 - val_accuracy: 0.9311\n",
      "Epoch 101/300\n",
      "15/15 [==============================] - 0s 7ms/step - loss: 0.2128 - accuracy: 0.9205 - val_loss: 0.1784 - val_accuracy: 0.9356\n",
      "Epoch 102/300\n",
      "15/15 [==============================] - 0s 7ms/step - loss: 0.1921 - accuracy: 0.9323 - val_loss: 0.1762 - val_accuracy: 0.9356\n",
      "Epoch 103/300\n",
      "15/15 [==============================] - 0s 7ms/step - loss: 0.2009 - accuracy: 0.9231 - val_loss: 0.1760 - val_accuracy: 0.9356\n",
      "Epoch 104/300\n",
      "15/15 [==============================] - 0s 7ms/step - loss: 0.1909 - accuracy: 0.9240 - val_loss: 0.1733 - val_accuracy: 0.9356\n",
      "Epoch 105/300\n",
      "15/15 [==============================] - 0s 7ms/step - loss: 0.1927 - accuracy: 0.9256 - val_loss: 0.1720 - val_accuracy: 0.9378\n",
      "Epoch 106/300\n",
      "15/15 [==============================] - 0s 7ms/step - loss: 0.1858 - accuracy: 0.9321 - val_loss: 0.1705 - val_accuracy: 0.9378\n",
      "Epoch 107/300\n",
      "15/15 [==============================] - 0s 7ms/step - loss: 0.1882 - accuracy: 0.9276 - val_loss: 0.1693 - val_accuracy: 0.9378\n",
      "Epoch 108/300\n",
      "15/15 [==============================] - 0s 7ms/step - loss: 0.1891 - accuracy: 0.9302 - val_loss: 0.1694 - val_accuracy: 0.9378\n",
      "Epoch 109/300\n",
      "15/15 [==============================] - 0s 7ms/step - loss: 0.1784 - accuracy: 0.9356 - val_loss: 0.1663 - val_accuracy: 0.9378\n",
      "Epoch 110/300\n",
      "15/15 [==============================] - 0s 7ms/step - loss: 0.1834 - accuracy: 0.9314 - val_loss: 0.1646 - val_accuracy: 0.9400\n",
      "Epoch 111/300\n",
      "15/15 [==============================] - 0s 7ms/step - loss: 0.1734 - accuracy: 0.9391 - val_loss: 0.1645 - val_accuracy: 0.9378\n",
      "Epoch 112/300\n",
      "15/15 [==============================] - 0s 7ms/step - loss: 0.1733 - accuracy: 0.9336 - val_loss: 0.1641 - val_accuracy: 0.9400\n",
      "Epoch 113/300\n",
      "15/15 [==============================] - 0s 7ms/step - loss: 0.1847 - accuracy: 0.9330 - val_loss: 0.1605 - val_accuracy: 0.9400\n",
      "Epoch 114/300\n",
      "15/15 [==============================] - 0s 7ms/step - loss: 0.1751 - accuracy: 0.9357 - val_loss: 0.1590 - val_accuracy: 0.9400\n",
      "Epoch 115/300\n",
      "15/15 [==============================] - 0s 7ms/step - loss: 0.1719 - accuracy: 0.9329 - val_loss: 0.1588 - val_accuracy: 0.9422\n",
      "Epoch 116/300\n",
      "15/15 [==============================] - 0s 7ms/step - loss: 0.1688 - accuracy: 0.9379 - val_loss: 0.1572 - val_accuracy: 0.9422\n",
      "Epoch 117/300\n",
      "15/15 [==============================] - 0s 7ms/step - loss: 0.1778 - accuracy: 0.9351 - val_loss: 0.1566 - val_accuracy: 0.9422\n",
      "Epoch 118/300\n",
      "15/15 [==============================] - 0s 7ms/step - loss: 0.1727 - accuracy: 0.9370 - val_loss: 0.1538 - val_accuracy: 0.9422\n",
      "Epoch 119/300\n",
      "15/15 [==============================] - 0s 7ms/step - loss: 0.1689 - accuracy: 0.9365 - val_loss: 0.1535 - val_accuracy: 0.9422\n",
      "Epoch 120/300\n",
      "15/15 [==============================] - 0s 7ms/step - loss: 0.1691 - accuracy: 0.9366 - val_loss: 0.1517 - val_accuracy: 0.9422\n",
      "Epoch 121/300\n",
      "15/15 [==============================] - 0s 7ms/step - loss: 0.1712 - accuracy: 0.9383 - val_loss: 0.1512 - val_accuracy: 0.9422\n",
      "Epoch 122/300\n",
      "15/15 [==============================] - 0s 7ms/step - loss: 0.1637 - accuracy: 0.9434 - val_loss: 0.1486 - val_accuracy: 0.9467\n",
      "Epoch 123/300\n",
      "15/15 [==============================] - 0s 7ms/step - loss: 0.1747 - accuracy: 0.9359 - val_loss: 0.1475 - val_accuracy: 0.9489\n",
      "Epoch 124/300\n",
      "15/15 [==============================] - 0s 7ms/step - loss: 0.1587 - accuracy: 0.9415 - val_loss: 0.1461 - val_accuracy: 0.9444\n",
      "Epoch 125/300\n",
      "15/15 [==============================] - 0s 7ms/step - loss: 0.1559 - accuracy: 0.9439 - val_loss: 0.1469 - val_accuracy: 0.9444\n",
      "Epoch 126/300\n",
      "15/15 [==============================] - 0s 8ms/step - loss: 0.1687 - accuracy: 0.9380 - val_loss: 0.1428 - val_accuracy: 0.9444\n",
      "Epoch 127/300\n",
      "15/15 [==============================] - 0s 8ms/step - loss: 0.1465 - accuracy: 0.9534 - val_loss: 0.1408 - val_accuracy: 0.9467\n",
      "Epoch 128/300\n",
      "15/15 [==============================] - 0s 7ms/step - loss: 0.1457 - accuracy: 0.9508 - val_loss: 0.1401 - val_accuracy: 0.9489\n",
      "Epoch 129/300\n",
      "15/15 [==============================] - 0s 7ms/step - loss: 0.1504 - accuracy: 0.9503 - val_loss: 0.1388 - val_accuracy: 0.9489\n",
      "Epoch 130/300\n",
      "15/15 [==============================] - 0s 7ms/step - loss: 0.1473 - accuracy: 0.9502 - val_loss: 0.1374 - val_accuracy: 0.9511\n",
      "Epoch 131/300\n",
      "15/15 [==============================] - 0s 7ms/step - loss: 0.1467 - accuracy: 0.9500 - val_loss: 0.1372 - val_accuracy: 0.9533\n",
      "Epoch 132/300\n",
      "15/15 [==============================] - 0s 7ms/step - loss: 0.1604 - accuracy: 0.9423 - val_loss: 0.1352 - val_accuracy: 0.9533\n",
      "Epoch 133/300\n",
      "15/15 [==============================] - 0s 9ms/step - loss: 0.1434 - accuracy: 0.9513 - val_loss: 0.1350 - val_accuracy: 0.9533\n",
      "Epoch 134/300\n",
      "15/15 [==============================] - 0s 8ms/step - loss: 0.1438 - accuracy: 0.9500 - val_loss: 0.1332 - val_accuracy: 0.9533\n",
      "Epoch 135/300\n",
      "15/15 [==============================] - 0s 8ms/step - loss: 0.1509 - accuracy: 0.9434 - val_loss: 0.1322 - val_accuracy: 0.9556\n",
      "Epoch 136/300\n",
      "15/15 [==============================] - 0s 8ms/step - loss: 0.1398 - accuracy: 0.9518 - val_loss: 0.1310 - val_accuracy: 0.9556\n",
      "Epoch 137/300\n",
      "15/15 [==============================] - 0s 8ms/step - loss: 0.1445 - accuracy: 0.9531 - val_loss: 0.1300 - val_accuracy: 0.9556\n",
      "Epoch 138/300\n",
      "15/15 [==============================] - 0s 8ms/step - loss: 0.1377 - accuracy: 0.9537 - val_loss: 0.1280 - val_accuracy: 0.9556\n",
      "Epoch 139/300\n",
      "15/15 [==============================] - 0s 9ms/step - loss: 0.1419 - accuracy: 0.9518 - val_loss: 0.1257 - val_accuracy: 0.9533\n",
      "Epoch 140/300\n",
      "15/15 [==============================] - 0s 8ms/step - loss: 0.1455 - accuracy: 0.9494 - val_loss: 0.1250 - val_accuracy: 0.9533\n",
      "Epoch 141/300\n",
      "15/15 [==============================] - 0s 7ms/step - loss: 0.1506 - accuracy: 0.9436 - val_loss: 0.1257 - val_accuracy: 0.9578\n",
      "Epoch 142/300\n",
      "15/15 [==============================] - 0s 9ms/step - loss: 0.1219 - accuracy: 0.9664 - val_loss: 0.1262 - val_accuracy: 0.9622\n",
      "Epoch 143/300\n",
      "15/15 [==============================] - 0s 8ms/step - loss: 0.1302 - accuracy: 0.9546 - val_loss: 0.1217 - val_accuracy: 0.9578\n",
      "Epoch 144/300\n",
      "15/15 [==============================] - 0s 7ms/step - loss: 0.1334 - accuracy: 0.9571 - val_loss: 0.1218 - val_accuracy: 0.9622\n",
      "Epoch 145/300\n",
      "15/15 [==============================] - 0s 7ms/step - loss: 0.1276 - accuracy: 0.9618 - val_loss: 0.1228 - val_accuracy: 0.9622\n",
      "Epoch 146/300\n",
      "15/15 [==============================] - 0s 17ms/step - loss: 0.1300 - accuracy: 0.9580 - val_loss: 0.1225 - val_accuracy: 0.9622\n",
      "Epoch 147/300\n",
      "15/15 [==============================] - 0s 7ms/step - loss: 0.1344 - accuracy: 0.9569 - val_loss: 0.1207 - val_accuracy: 0.9622\n",
      "Epoch 148/300\n",
      "15/15 [==============================] - 0s 7ms/step - loss: 0.1283 - accuracy: 0.9537 - val_loss: 0.1201 - val_accuracy: 0.9622\n",
      "Epoch 149/300\n",
      "15/15 [==============================] - 0s 7ms/step - loss: 0.1365 - accuracy: 0.9562 - val_loss: 0.1201 - val_accuracy: 0.9600\n",
      "Epoch 150/300\n",
      "15/15 [==============================] - 0s 7ms/step - loss: 0.1234 - accuracy: 0.9585 - val_loss: 0.1175 - val_accuracy: 0.9622\n",
      "Epoch 151/300\n",
      "15/15 [==============================] - 0s 7ms/step - loss: 0.1247 - accuracy: 0.9624 - val_loss: 0.1168 - val_accuracy: 0.9622\n",
      "Epoch 152/300\n",
      "15/15 [==============================] - 0s 7ms/step - loss: 0.1258 - accuracy: 0.9541 - val_loss: 0.1170 - val_accuracy: 0.9600\n",
      "Epoch 153/300\n",
      "15/15 [==============================] - 0s 7ms/step - loss: 0.1258 - accuracy: 0.9595 - val_loss: 0.1184 - val_accuracy: 0.9600\n",
      "Epoch 154/300\n",
      "15/15 [==============================] - 0s 7ms/step - loss: 0.1336 - accuracy: 0.9579 - val_loss: 0.1159 - val_accuracy: 0.9600\n",
      "Epoch 155/300\n",
      "15/15 [==============================] - 0s 7ms/step - loss: 0.1245 - accuracy: 0.9567 - val_loss: 0.1134 - val_accuracy: 0.9622\n",
      "Epoch 156/300\n",
      "15/15 [==============================] - 0s 8ms/step - loss: 0.1220 - accuracy: 0.9594 - val_loss: 0.1135 - val_accuracy: 0.9600\n",
      "Epoch 157/300\n",
      "15/15 [==============================] - 0s 8ms/step - loss: 0.1145 - accuracy: 0.9611 - val_loss: 0.1148 - val_accuracy: 0.9600\n",
      "Epoch 158/300\n",
      "15/15 [==============================] - 0s 9ms/step - loss: 0.1331 - accuracy: 0.9541 - val_loss: 0.1118 - val_accuracy: 0.9600\n",
      "Epoch 159/300\n",
      "15/15 [==============================] - 0s 7ms/step - loss: 0.1245 - accuracy: 0.9574 - val_loss: 0.1100 - val_accuracy: 0.9644\n",
      "Epoch 160/300\n",
      "15/15 [==============================] - 0s 7ms/step - loss: 0.1124 - accuracy: 0.9647 - val_loss: 0.1113 - val_accuracy: 0.9622\n",
      "Epoch 161/300\n",
      "15/15 [==============================] - 0s 9ms/step - loss: 0.1219 - accuracy: 0.9600 - val_loss: 0.1099 - val_accuracy: 0.9622\n",
      "Epoch 162/300\n",
      "15/15 [==============================] - 0s 8ms/step - loss: 0.1216 - accuracy: 0.9589 - val_loss: 0.1094 - val_accuracy: 0.9622\n",
      "Epoch 163/300\n",
      "15/15 [==============================] - 0s 8ms/step - loss: 0.1210 - accuracy: 0.9571 - val_loss: 0.1094 - val_accuracy: 0.9622\n",
      "Epoch 164/300\n",
      "15/15 [==============================] - 0s 8ms/step - loss: 0.1247 - accuracy: 0.9581 - val_loss: 0.1109 - val_accuracy: 0.9600\n",
      "Epoch 165/300\n",
      "15/15 [==============================] - 0s 7ms/step - loss: 0.1120 - accuracy: 0.9640 - val_loss: 0.1077 - val_accuracy: 0.9644\n",
      "Epoch 166/300\n",
      "15/15 [==============================] - 0s 8ms/step - loss: 0.1148 - accuracy: 0.9638 - val_loss: 0.1071 - val_accuracy: 0.9644\n",
      "Epoch 167/300\n",
      "15/15 [==============================] - 0s 8ms/step - loss: 0.1087 - accuracy: 0.9637 - val_loss: 0.1065 - val_accuracy: 0.9622\n",
      "Epoch 168/300\n",
      "15/15 [==============================] - 0s 7ms/step - loss: 0.1162 - accuracy: 0.9516 - val_loss: 0.1058 - val_accuracy: 0.9622\n",
      "Epoch 169/300\n",
      "15/15 [==============================] - 0s 8ms/step - loss: 0.1237 - accuracy: 0.9592 - val_loss: 0.1069 - val_accuracy: 0.9644\n",
      "Epoch 170/300\n",
      "15/15 [==============================] - 0s 8ms/step - loss: 0.1214 - accuracy: 0.9555 - val_loss: 0.1074 - val_accuracy: 0.9600\n",
      "Epoch 171/300\n",
      "15/15 [==============================] - 0s 9ms/step - loss: 0.1216 - accuracy: 0.9532 - val_loss: 0.1045 - val_accuracy: 0.9644\n",
      "Epoch 172/300\n",
      "15/15 [==============================] - 0s 7ms/step - loss: 0.1137 - accuracy: 0.9596 - val_loss: 0.1046 - val_accuracy: 0.9622\n",
      "Epoch 173/300\n"
     ]
    },
    {
     "name": "stdout",
     "output_type": "stream",
     "text": [
      "15/15 [==============================] - 0s 7ms/step - loss: 0.1130 - accuracy: 0.9627 - val_loss: 0.1046 - val_accuracy: 0.9622\n",
      "Epoch 174/300\n",
      "15/15 [==============================] - 0s 10ms/step - loss: 0.1095 - accuracy: 0.9595 - val_loss: 0.1032 - val_accuracy: 0.9644\n",
      "Epoch 175/300\n",
      "15/15 [==============================] - 0s 9ms/step - loss: 0.1111 - accuracy: 0.9634 - val_loss: 0.1030 - val_accuracy: 0.9644\n",
      "Epoch 176/300\n",
      "15/15 [==============================] - 0s 7ms/step - loss: 0.1089 - accuracy: 0.9643 - val_loss: 0.1027 - val_accuracy: 0.9644\n",
      "Epoch 177/300\n",
      "15/15 [==============================] - 0s 7ms/step - loss: 0.1070 - accuracy: 0.9659 - val_loss: 0.1029 - val_accuracy: 0.9644\n",
      "Epoch 178/300\n",
      "15/15 [==============================] - 0s 7ms/step - loss: 0.1121 - accuracy: 0.9626 - val_loss: 0.1033 - val_accuracy: 0.9667\n",
      "Epoch 179/300\n",
      "15/15 [==============================] - 0s 7ms/step - loss: 0.1066 - accuracy: 0.9636 - val_loss: 0.1029 - val_accuracy: 0.9667\n",
      "Epoch 180/300\n",
      "15/15 [==============================] - 0s 7ms/step - loss: 0.1075 - accuracy: 0.9639 - val_loss: 0.1021 - val_accuracy: 0.9667\n",
      "Epoch 181/300\n",
      "15/15 [==============================] - 0s 7ms/step - loss: 0.1081 - accuracy: 0.9620 - val_loss: 0.1018 - val_accuracy: 0.9644\n",
      "Epoch 182/300\n",
      "15/15 [==============================] - 0s 8ms/step - loss: 0.1190 - accuracy: 0.9583 - val_loss: 0.1023 - val_accuracy: 0.9644\n",
      "Epoch 183/300\n",
      "15/15 [==============================] - 0s 7ms/step - loss: 0.1207 - accuracy: 0.9508 - val_loss: 0.1010 - val_accuracy: 0.9644\n",
      "Epoch 184/300\n",
      "15/15 [==============================] - 0s 18ms/step - loss: 0.1272 - accuracy: 0.9540 - val_loss: 0.1011 - val_accuracy: 0.9644\n",
      "Epoch 185/300\n",
      "15/15 [==============================] - 0s 7ms/step - loss: 0.1035 - accuracy: 0.9636 - val_loss: 0.0995 - val_accuracy: 0.9689\n",
      "Epoch 186/300\n",
      "15/15 [==============================] - 0s 8ms/step - loss: 0.0976 - accuracy: 0.9677 - val_loss: 0.1003 - val_accuracy: 0.9667\n",
      "Epoch 187/300\n",
      "15/15 [==============================] - 0s 7ms/step - loss: 0.0966 - accuracy: 0.9712 - val_loss: 0.0998 - val_accuracy: 0.9667\n",
      "Epoch 188/300\n",
      "15/15 [==============================] - 0s 8ms/step - loss: 0.1162 - accuracy: 0.9566 - val_loss: 0.0990 - val_accuracy: 0.9689\n",
      "Epoch 189/300\n",
      "15/15 [==============================] - 0s 7ms/step - loss: 0.1066 - accuracy: 0.9640 - val_loss: 0.0993 - val_accuracy: 0.9689\n",
      "Epoch 190/300\n",
      "15/15 [==============================] - 0s 8ms/step - loss: 0.1057 - accuracy: 0.9618 - val_loss: 0.1013 - val_accuracy: 0.9689\n",
      "Epoch 191/300\n",
      "15/15 [==============================] - 0s 7ms/step - loss: 0.1049 - accuracy: 0.9576 - val_loss: 0.1000 - val_accuracy: 0.9689\n",
      "Epoch 192/300\n",
      "15/15 [==============================] - 0s 7ms/step - loss: 0.1150 - accuracy: 0.9588 - val_loss: 0.0997 - val_accuracy: 0.9689\n",
      "Epoch 193/300\n",
      "15/15 [==============================] - 0s 8ms/step - loss: 0.1094 - accuracy: 0.9647 - val_loss: 0.0977 - val_accuracy: 0.9711\n",
      "Epoch 194/300\n",
      "15/15 [==============================] - 0s 7ms/step - loss: 0.1129 - accuracy: 0.9570 - val_loss: 0.0958 - val_accuracy: 0.9711\n",
      "Epoch 195/300\n",
      "15/15 [==============================] - 0s 7ms/step - loss: 0.1010 - accuracy: 0.9623 - val_loss: 0.0973 - val_accuracy: 0.9667\n",
      "Epoch 196/300\n",
      "15/15 [==============================] - 0s 7ms/step - loss: 0.1084 - accuracy: 0.9623 - val_loss: 0.0986 - val_accuracy: 0.9644\n",
      "Epoch 197/300\n",
      "15/15 [==============================] - 0s 8ms/step - loss: 0.1056 - accuracy: 0.9633 - val_loss: 0.0975 - val_accuracy: 0.9689\n",
      "Epoch 198/300\n",
      "15/15 [==============================] - 0s 7ms/step - loss: 0.0975 - accuracy: 0.9664 - val_loss: 0.0983 - val_accuracy: 0.9667\n",
      "Epoch 199/300\n",
      "15/15 [==============================] - 0s 7ms/step - loss: 0.1109 - accuracy: 0.9594 - val_loss: 0.0980 - val_accuracy: 0.9689\n",
      "Epoch 200/300\n",
      "15/15 [==============================] - 0s 7ms/step - loss: 0.1105 - accuracy: 0.9591 - val_loss: 0.0959 - val_accuracy: 0.9711\n",
      "Epoch 201/300\n",
      "15/15 [==============================] - 0s 7ms/step - loss: 0.1065 - accuracy: 0.9632 - val_loss: 0.0957 - val_accuracy: 0.9711\n",
      "Epoch 202/300\n",
      "15/15 [==============================] - 0s 7ms/step - loss: 0.0995 - accuracy: 0.9675 - val_loss: 0.0962 - val_accuracy: 0.9711\n",
      "Epoch 203/300\n",
      "15/15 [==============================] - 0s 8ms/step - loss: 0.1054 - accuracy: 0.9673 - val_loss: 0.0951 - val_accuracy: 0.9711\n",
      "Epoch 204/300\n",
      "15/15 [==============================] - 0s 11ms/step - loss: 0.0935 - accuracy: 0.9684 - val_loss: 0.0953 - val_accuracy: 0.9711\n",
      "Epoch 205/300\n",
      "15/15 [==============================] - 0s 10ms/step - loss: 0.1147 - accuracy: 0.9565 - val_loss: 0.0950 - val_accuracy: 0.9711\n",
      "Epoch 206/300\n",
      "15/15 [==============================] - 0s 8ms/step - loss: 0.0973 - accuracy: 0.9643 - val_loss: 0.0939 - val_accuracy: 0.9711\n",
      "Epoch 207/300\n",
      "15/15 [==============================] - 0s 7ms/step - loss: 0.0978 - accuracy: 0.9669 - val_loss: 0.0949 - val_accuracy: 0.9689\n",
      "Epoch 208/300\n",
      "15/15 [==============================] - 0s 7ms/step - loss: 0.0991 - accuracy: 0.9654 - val_loss: 0.0941 - val_accuracy: 0.9711\n",
      "Epoch 209/300\n",
      "15/15 [==============================] - 0s 8ms/step - loss: 0.1007 - accuracy: 0.9644 - val_loss: 0.0943 - val_accuracy: 0.9711\n",
      "Epoch 210/300\n",
      "15/15 [==============================] - 0s 8ms/step - loss: 0.0992 - accuracy: 0.9653 - val_loss: 0.0943 - val_accuracy: 0.9711\n",
      "Epoch 211/300\n",
      "15/15 [==============================] - 0s 7ms/step - loss: 0.1040 - accuracy: 0.9619 - val_loss: 0.0948 - val_accuracy: 0.9711\n",
      "Epoch 212/300\n",
      "15/15 [==============================] - 0s 8ms/step - loss: 0.0987 - accuracy: 0.9619 - val_loss: 0.0943 - val_accuracy: 0.9711\n",
      "Epoch 213/300\n",
      "15/15 [==============================] - 0s 7ms/step - loss: 0.1054 - accuracy: 0.9652 - val_loss: 0.0947 - val_accuracy: 0.9711\n",
      "Epoch 214/300\n",
      "15/15 [==============================] - 0s 7ms/step - loss: 0.0986 - accuracy: 0.9649 - val_loss: 0.1012 - val_accuracy: 0.9622\n",
      "Epoch 215/300\n",
      "15/15 [==============================] - 0s 7ms/step - loss: 0.1144 - accuracy: 0.9575 - val_loss: 0.0945 - val_accuracy: 0.9689\n",
      "Epoch 216/300\n",
      "15/15 [==============================] - 0s 7ms/step - loss: 0.1056 - accuracy: 0.9664 - val_loss: 0.0925 - val_accuracy: 0.9711\n",
      "Epoch 217/300\n",
      "15/15 [==============================] - 0s 7ms/step - loss: 0.1181 - accuracy: 0.9573 - val_loss: 0.0928 - val_accuracy: 0.9711\n",
      "Epoch 218/300\n",
      "15/15 [==============================] - 0s 7ms/step - loss: 0.1094 - accuracy: 0.9584 - val_loss: 0.0932 - val_accuracy: 0.9711\n",
      "Epoch 219/300\n",
      "15/15 [==============================] - 0s 7ms/step - loss: 0.0940 - accuracy: 0.9667 - val_loss: 0.0931 - val_accuracy: 0.9711\n",
      "Epoch 220/300\n",
      "15/15 [==============================] - 0s 7ms/step - loss: 0.1153 - accuracy: 0.9583 - val_loss: 0.0931 - val_accuracy: 0.9711\n",
      "Epoch 221/300\n",
      "15/15 [==============================] - 0s 7ms/step - loss: 0.0989 - accuracy: 0.9660 - val_loss: 0.0924 - val_accuracy: 0.9711\n",
      "Epoch 222/300\n",
      "15/15 [==============================] - 0s 8ms/step - loss: 0.1006 - accuracy: 0.9655 - val_loss: 0.0927 - val_accuracy: 0.9711\n",
      "Epoch 223/300\n",
      "15/15 [==============================] - 0s 7ms/step - loss: 0.0999 - accuracy: 0.9625 - val_loss: 0.0931 - val_accuracy: 0.9711\n",
      "Epoch 224/300\n",
      "15/15 [==============================] - 0s 7ms/step - loss: 0.1053 - accuracy: 0.9586 - val_loss: 0.0928 - val_accuracy: 0.9711\n",
      "Epoch 225/300\n",
      "15/15 [==============================] - 0s 7ms/step - loss: 0.1020 - accuracy: 0.9601 - val_loss: 0.0925 - val_accuracy: 0.9711\n",
      "Epoch 226/300\n",
      "15/15 [==============================] - 0s 7ms/step - loss: 0.1006 - accuracy: 0.9650 - val_loss: 0.0929 - val_accuracy: 0.9711\n",
      "Epoch 227/300\n",
      "15/15 [==============================] - 0s 7ms/step - loss: 0.0959 - accuracy: 0.9659 - val_loss: 0.0922 - val_accuracy: 0.9711\n",
      "Epoch 228/300\n",
      "15/15 [==============================] - 0s 7ms/step - loss: 0.1054 - accuracy: 0.9628 - val_loss: 0.0916 - val_accuracy: 0.9711\n",
      "Epoch 229/300\n",
      "15/15 [==============================] - 0s 7ms/step - loss: 0.0947 - accuracy: 0.9662 - val_loss: 0.0920 - val_accuracy: 0.9711\n",
      "Epoch 230/300\n",
      "15/15 [==============================] - 0s 17ms/step - loss: 0.0922 - accuracy: 0.9653 - val_loss: 0.0916 - val_accuracy: 0.9711\n",
      "Epoch 231/300\n",
      "15/15 [==============================] - 0s 7ms/step - loss: 0.0968 - accuracy: 0.9634 - val_loss: 0.0922 - val_accuracy: 0.9711\n",
      "Epoch 232/300\n",
      "15/15 [==============================] - 0s 7ms/step - loss: 0.1033 - accuracy: 0.9584 - val_loss: 0.0937 - val_accuracy: 0.9689\n",
      "Epoch 233/300\n",
      "15/15 [==============================] - 0s 7ms/step - loss: 0.0966 - accuracy: 0.9627 - val_loss: 0.0938 - val_accuracy: 0.9689\n",
      "Epoch 234/300\n",
      "15/15 [==============================] - 0s 7ms/step - loss: 0.0898 - accuracy: 0.9684 - val_loss: 0.0915 - val_accuracy: 0.9711\n",
      "Epoch 235/300\n",
      "15/15 [==============================] - 0s 7ms/step - loss: 0.0969 - accuracy: 0.9635 - val_loss: 0.0965 - val_accuracy: 0.9644\n",
      "Epoch 236/300\n",
      "15/15 [==============================] - 0s 7ms/step - loss: 0.1032 - accuracy: 0.9597 - val_loss: 0.0930 - val_accuracy: 0.9711\n",
      "Epoch 237/300\n",
      "15/15 [==============================] - 0s 7ms/step - loss: 0.0909 - accuracy: 0.9668 - val_loss: 0.0914 - val_accuracy: 0.9689\n",
      "Epoch 238/300\n",
      "15/15 [==============================] - 0s 7ms/step - loss: 0.0911 - accuracy: 0.9694 - val_loss: 0.0905 - val_accuracy: 0.9689\n",
      "Epoch 239/300\n",
      "15/15 [==============================] - 0s 7ms/step - loss: 0.1065 - accuracy: 0.9619 - val_loss: 0.0911 - val_accuracy: 0.9689\n",
      "Epoch 240/300\n",
      "15/15 [==============================] - 0s 7ms/step - loss: 0.1150 - accuracy: 0.9580 - val_loss: 0.0909 - val_accuracy: 0.9689\n",
      "Epoch 241/300\n",
      "15/15 [==============================] - 0s 7ms/step - loss: 0.0958 - accuracy: 0.9658 - val_loss: 0.0900 - val_accuracy: 0.9711\n",
      "Epoch 242/300\n",
      "15/15 [==============================] - 0s 9ms/step - loss: 0.1039 - accuracy: 0.9611 - val_loss: 0.0885 - val_accuracy: 0.9711\n",
      "Epoch 243/300\n",
      "15/15 [==============================] - 0s 14ms/step - loss: 0.1002 - accuracy: 0.9637 - val_loss: 0.0899 - val_accuracy: 0.9711\n",
      "Epoch 244/300\n",
      "15/15 [==============================] - 0s 8ms/step - loss: 0.0975 - accuracy: 0.9674 - val_loss: 0.0905 - val_accuracy: 0.9711\n",
      "Epoch 245/300\n",
      "15/15 [==============================] - 0s 7ms/step - loss: 0.1066 - accuracy: 0.9637 - val_loss: 0.0912 - val_accuracy: 0.9689\n",
      "Epoch 246/300\n",
      "15/15 [==============================] - 0s 7ms/step - loss: 0.1062 - accuracy: 0.9577 - val_loss: 0.0927 - val_accuracy: 0.9733\n",
      "Epoch 247/300\n",
      "15/15 [==============================] - 0s 7ms/step - loss: 0.0983 - accuracy: 0.9629 - val_loss: 0.0932 - val_accuracy: 0.9711\n",
      "Epoch 248/300\n",
      "15/15 [==============================] - 0s 7ms/step - loss: 0.1070 - accuracy: 0.9595 - val_loss: 0.0933 - val_accuracy: 0.9667\n",
      "Epoch 249/300\n",
      "15/15 [==============================] - 0s 7ms/step - loss: 0.0946 - accuracy: 0.9685 - val_loss: 0.0919 - val_accuracy: 0.9689\n",
      "Epoch 250/300\n",
      "15/15 [==============================] - 0s 7ms/step - loss: 0.0993 - accuracy: 0.9607 - val_loss: 0.0903 - val_accuracy: 0.9689\n",
      "Epoch 251/300\n",
      "15/15 [==============================] - 0s 7ms/step - loss: 0.1064 - accuracy: 0.9614 - val_loss: 0.0902 - val_accuracy: 0.9689\n",
      "Epoch 252/300\n",
      "15/15 [==============================] - 0s 7ms/step - loss: 0.0988 - accuracy: 0.9648 - val_loss: 0.0900 - val_accuracy: 0.9689\n",
      "Epoch 253/300\n",
      "15/15 [==============================] - 0s 7ms/step - loss: 0.1022 - accuracy: 0.9641 - val_loss: 0.0908 - val_accuracy: 0.9689\n",
      "Epoch 254/300\n",
      "15/15 [==============================] - 0s 7ms/step - loss: 0.1070 - accuracy: 0.9610 - val_loss: 0.0889 - val_accuracy: 0.9711\n",
      "Epoch 255/300\n",
      "15/15 [==============================] - 0s 7ms/step - loss: 0.1025 - accuracy: 0.9626 - val_loss: 0.0878 - val_accuracy: 0.9689\n",
      "Epoch 256/300\n",
      "15/15 [==============================] - 0s 7ms/step - loss: 0.0984 - accuracy: 0.9664 - val_loss: 0.0891 - val_accuracy: 0.9711\n",
      "Epoch 257/300\n",
      "15/15 [==============================] - 0s 7ms/step - loss: 0.1011 - accuracy: 0.9627 - val_loss: 0.0912 - val_accuracy: 0.9689\n",
      "Epoch 258/300\n",
      "15/15 [==============================] - 0s 7ms/step - loss: 0.0938 - accuracy: 0.9590 - val_loss: 0.0910 - val_accuracy: 0.9667\n",
      "Epoch 259/300\n",
      "15/15 [==============================] - 0s 7ms/step - loss: 0.0993 - accuracy: 0.9642 - val_loss: 0.0901 - val_accuracy: 0.9711\n",
      "Epoch 260/300\n",
      "15/15 [==============================] - 0s 7ms/step - loss: 0.1045 - accuracy: 0.9567 - val_loss: 0.0875 - val_accuracy: 0.9711\n",
      "Epoch 261/300\n",
      "15/15 [==============================] - 0s 7ms/step - loss: 0.0977 - accuracy: 0.9655 - val_loss: 0.0890 - val_accuracy: 0.9689\n",
      "Epoch 262/300\n",
      "15/15 [==============================] - 0s 7ms/step - loss: 0.1019 - accuracy: 0.9621 - val_loss: 0.0895 - val_accuracy: 0.9711\n",
      "Epoch 263/300\n",
      "15/15 [==============================] - 0s 7ms/step - loss: 0.0933 - accuracy: 0.9661 - val_loss: 0.0895 - val_accuracy: 0.9711\n",
      "Epoch 264/300\n",
      "15/15 [==============================] - 0s 9ms/step - loss: 0.1008 - accuracy: 0.9577 - val_loss: 0.0895 - val_accuracy: 0.9711\n",
      "Epoch 265/300\n",
      "15/15 [==============================] - 0s 9ms/step - loss: 0.1068 - accuracy: 0.9603 - val_loss: 0.0884 - val_accuracy: 0.9689\n",
      "Epoch 266/300\n",
      "15/15 [==============================] - 0s 8ms/step - loss: 0.0978 - accuracy: 0.9641 - val_loss: 0.0900 - val_accuracy: 0.9711\n",
      "Epoch 267/300\n",
      "15/15 [==============================] - 0s 7ms/step - loss: 0.1013 - accuracy: 0.9636 - val_loss: 0.0897 - val_accuracy: 0.9711\n",
      "Epoch 268/300\n",
      "15/15 [==============================] - 0s 17ms/step - loss: 0.0926 - accuracy: 0.9670 - val_loss: 0.0898 - val_accuracy: 0.9689\n",
      "Epoch 269/300\n",
      "15/15 [==============================] - 0s 7ms/step - loss: 0.0997 - accuracy: 0.9656 - val_loss: 0.0892 - val_accuracy: 0.9689\n",
      "Epoch 270/300\n",
      "15/15 [==============================] - 0s 7ms/step - loss: 0.0897 - accuracy: 0.9681 - val_loss: 0.0903 - val_accuracy: 0.9711\n",
      "Epoch 271/300\n",
      "15/15 [==============================] - 0s 7ms/step - loss: 0.0877 - accuracy: 0.9686 - val_loss: 0.0905 - val_accuracy: 0.9689\n",
      "Epoch 272/300\n",
      "15/15 [==============================] - 0s 7ms/step - loss: 0.0889 - accuracy: 0.9672 - val_loss: 0.0902 - val_accuracy: 0.9689\n",
      "Epoch 273/300\n",
      "15/15 [==============================] - 0s 9ms/step - loss: 0.0871 - accuracy: 0.9718 - val_loss: 0.0897 - val_accuracy: 0.9689\n",
      "Epoch 274/300\n",
      "15/15 [==============================] - 0s 11ms/step - loss: 0.1088 - accuracy: 0.9596 - val_loss: 0.0905 - val_accuracy: 0.9667\n",
      "Epoch 275/300\n",
      "15/15 [==============================] - 0s 9ms/step - loss: 0.0953 - accuracy: 0.9648 - val_loss: 0.0897 - val_accuracy: 0.9689\n",
      "Epoch 276/300\n",
      "15/15 [==============================] - 0s 7ms/step - loss: 0.0870 - accuracy: 0.9710 - val_loss: 0.0888 - val_accuracy: 0.9689\n",
      "Epoch 277/300\n",
      "15/15 [==============================] - 0s 7ms/step - loss: 0.0893 - accuracy: 0.9690 - val_loss: 0.0891 - val_accuracy: 0.9689\n",
      "Epoch 278/300\n",
      "15/15 [==============================] - 0s 7ms/step - loss: 0.0957 - accuracy: 0.9664 - val_loss: 0.0887 - val_accuracy: 0.9689\n",
      "Epoch 279/300\n",
      "15/15 [==============================] - 0s 7ms/step - loss: 0.0960 - accuracy: 0.9673 - val_loss: 0.0883 - val_accuracy: 0.9689\n",
      "Epoch 280/300\n",
      "15/15 [==============================] - 0s 7ms/step - loss: 0.0976 - accuracy: 0.9641 - val_loss: 0.0892 - val_accuracy: 0.9689\n",
      "Epoch 281/300\n",
      "15/15 [==============================] - 0s 7ms/step - loss: 0.0950 - accuracy: 0.9656 - val_loss: 0.0893 - val_accuracy: 0.9689\n",
      "Epoch 282/300\n",
      "15/15 [==============================] - 0s 7ms/step - loss: 0.1035 - accuracy: 0.9677 - val_loss: 0.0891 - val_accuracy: 0.9689\n",
      "Epoch 283/300\n",
      "15/15 [==============================] - 0s 7ms/step - loss: 0.1079 - accuracy: 0.9600 - val_loss: 0.0889 - val_accuracy: 0.9689\n",
      "Epoch 284/300\n",
      "15/15 [==============================] - 0s 7ms/step - loss: 0.0972 - accuracy: 0.9624 - val_loss: 0.0881 - val_accuracy: 0.9689\n",
      "Epoch 285/300\n",
      "15/15 [==============================] - 0s 7ms/step - loss: 0.1036 - accuracy: 0.9633 - val_loss: 0.0878 - val_accuracy: 0.9689\n",
      "Epoch 286/300\n",
      "15/15 [==============================] - 0s 7ms/step - loss: 0.1009 - accuracy: 0.9629 - val_loss: 0.0881 - val_accuracy: 0.9689\n",
      "Epoch 287/300\n"
     ]
    },
    {
     "name": "stdout",
     "output_type": "stream",
     "text": [
      "15/15 [==============================] - 0s 7ms/step - loss: 0.0970 - accuracy: 0.9657 - val_loss: 0.0880 - val_accuracy: 0.9689\n",
      "Epoch 288/300\n",
      "15/15 [==============================] - 0s 7ms/step - loss: 0.1018 - accuracy: 0.9645 - val_loss: 0.0879 - val_accuracy: 0.9689\n",
      "Epoch 289/300\n",
      "15/15 [==============================] - 0s 8ms/step - loss: 0.1105 - accuracy: 0.9590 - val_loss: 0.0884 - val_accuracy: 0.9689\n",
      "Epoch 290/300\n",
      "15/15 [==============================] - 0s 9ms/step - loss: 0.1015 - accuracy: 0.9626 - val_loss: 0.0881 - val_accuracy: 0.9689\n",
      "Epoch 291/300\n",
      "15/15 [==============================] - 0s 7ms/step - loss: 0.0869 - accuracy: 0.9714 - val_loss: 0.0877 - val_accuracy: 0.9689\n",
      "Epoch 292/300\n",
      "15/15 [==============================] - 0s 8ms/step - loss: 0.1082 - accuracy: 0.9587 - val_loss: 0.0879 - val_accuracy: 0.9689\n",
      "Epoch 293/300\n",
      "15/15 [==============================] - 0s 9ms/step - loss: 0.0968 - accuracy: 0.9640 - val_loss: 0.0878 - val_accuracy: 0.9689\n",
      "Epoch 294/300\n",
      "15/15 [==============================] - 0s 9ms/step - loss: 0.0852 - accuracy: 0.9688 - val_loss: 0.0872 - val_accuracy: 0.9689\n",
      "Epoch 295/300\n",
      "15/15 [==============================] - 0s 9ms/step - loss: 0.0936 - accuracy: 0.9657 - val_loss: 0.0881 - val_accuracy: 0.9689\n",
      "Epoch 296/300\n",
      "15/15 [==============================] - 0s 11ms/step - loss: 0.0862 - accuracy: 0.9712 - val_loss: 0.0893 - val_accuracy: 0.9711\n",
      "Epoch 297/300\n",
      "15/15 [==============================] - 0s 10ms/step - loss: 0.0970 - accuracy: 0.9625 - val_loss: 0.0901 - val_accuracy: 0.9711\n",
      "Epoch 298/300\n",
      "15/15 [==============================] - 0s 7ms/step - loss: 0.0863 - accuracy: 0.9680 - val_loss: 0.0885 - val_accuracy: 0.9689\n",
      "Epoch 299/300\n",
      "15/15 [==============================] - 0s 7ms/step - loss: 0.1017 - accuracy: 0.9595 - val_loss: 0.0892 - val_accuracy: 0.9689\n",
      "Epoch 300/300\n",
      "15/15 [==============================] - 0s 7ms/step - loss: 0.0921 - accuracy: 0.9676 - val_loss: 0.0883 - val_accuracy: 0.9689\n"
     ]
    }
   ],
   "source": [
    "hist = model.fit(x_train , y_train , epochs = 300 , batch_size = 128 , validation_split = 0.2)"
   ]
  },
  {
   "cell_type": "code",
   "execution_count": 23,
   "metadata": {},
   "outputs": [
    {
     "data": {
      "image/png": "[encoded data removed]",
      "text/plain": [
       "<Figure size 432x288 with 1 Axes>"
      ]
     },
     "metadata": {
      "needs_background": "light"
     },
     "output_type": "display_data"
    }
   ],
   "source": [
    "plt.plot(hist.history['val_loss'], label = \"Validation loss\")\n",
    "plt.plot(hist.history['loss'] , label = \"Training loss\")\n",
    "plt.xlabel(\"Epochs\")\n",
    "plt.ylabel(\"Loss\")\n",
    "plt.legend()\n",
    "plt.show()"
   ]
  },
  {
   "cell_type": "code",
   "execution_count": 24,
   "metadata": {},
   "outputs": [
    {
     "data": {
      "image/png": "[encoded data removed]",
      "text/plain": [
       "<Figure size 432x288 with 1 Axes>"
      ]
     },
     "metadata": {
      "needs_background": "light"
     },
     "output_type": "display_data"
    }
   ],
   "source": [
    "plt.plot(hist.history['val_accuracy'], label = \"Validation accuracy\")\n",
    "plt.plot(hist.history['accuracy'] , label = \"Training accuracy\")\n",
    "plt.xlabel(\"Epochs\")\n",
    "plt.ylabel(\"Accuracy\")\n",
    "plt.legend()\n",
    "plt.show()"
   ]
  },
  {
   "cell_type": "code",
   "execution_count": 25,
   "metadata": {},
   "outputs": [
    {
     "data": {
      "text/html": [
       "<div>\n",
       "<style scoped>\n",
       "    .dataframe tbody tr th:only-of-type {\n",
       "        vertical-align: middle;\n",
       "    }\n",
       "\n",
       "    .dataframe tbody tr th {\n",
       "        vertical-align: top;\n",
       "    }\n",
       "\n",
       "    .dataframe thead th {\n",
       "        text-align: right;\n",
       "    }\n",
       "</style>\n",
       "<table border=\"1\" class=\"dataframe\">\n",
       "  <thead>\n",
       "    <tr style=\"text-align: right;\">\n",
       "      <th></th>\n",
       "      <th>f1</th>\n",
       "      <th>f2</th>\n",
       "    </tr>\n",
       "  </thead>\n",
       "  <tbody>\n",
       "    <tr>\n",
       "      <th>0</th>\n",
       "      <td>-0.799827</td>\n",
       "      <td>-0.003833</td>\n",
       "    </tr>\n",
       "    <tr>\n",
       "      <th>1</th>\n",
       "      <td>-0.757785</td>\n",
       "      <td>1.031370</td>\n",
       "    </tr>\n",
       "    <tr>\n",
       "      <th>2</th>\n",
       "      <td>1.036808</td>\n",
       "      <td>-0.357004</td>\n",
       "    </tr>\n",
       "    <tr>\n",
       "      <th>3</th>\n",
       "      <td>0.569531</td>\n",
       "      <td>1.083775</td>\n",
       "    </tr>\n",
       "    <tr>\n",
       "      <th>4</th>\n",
       "      <td>0.954205</td>\n",
       "      <td>-0.598412</td>\n",
       "    </tr>\n",
       "  </tbody>\n",
       "</table>\n",
       "</div>"
      ],
      "text/plain": [
       "         f1        f2\n",
       "0 -0.799827 -0.003833\n",
       "1 -0.757785  1.031370\n",
       "2  1.036808 -0.357004\n",
       "3  0.569531  1.083775\n",
       "4  0.954205 -0.598412"
      ]
     },
     "execution_count": 25,
     "metadata": {},
     "output_type": "execute_result"
    }
   ],
   "source": [
    "x_test = pd.read_csv(r\"E:\\neural network\\Logistic_X_Test.csv\")\n",
    "x_test.head()"
   ]
  },
  {
   "cell_type": "code",
   "execution_count": 26,
   "metadata": {},
   "outputs": [
    {
     "name": "stdout",
     "output_type": "stream",
     "text": [
      "<class 'pandas.core.frame.DataFrame'>\n",
      "RangeIndex: 750 entries, 0 to 749\n",
      "Data columns (total 2 columns):\n",
      " #   Column  Non-Null Count  Dtype  \n",
      "---  ------  --------------  -----  \n",
      " 0   f1      750 non-null    float64\n",
      " 1   f2      750 non-null    float64\n",
      "dtypes: float64(2)\n",
      "memory usage: 11.8 KB\n"
     ]
    }
   ],
   "source": [
    "x_test.info()"
   ]
  },
  {
   "cell_type": "code",
   "execution_count": 27,
   "metadata": {},
   "outputs": [
    {
     "name": "stdout",
     "output_type": "stream",
     "text": [
      "(750, 2)\n"
     ]
    }
   ],
   "source": [
    "x_test = np.array(x_test)\n",
    "print(x_test.shape)"
   ]
  },
  {
   "cell_type": "code",
   "execution_count": 28,
   "metadata": {},
   "outputs": [],
   "source": [
    "y_test = model.predict(x_test)"
   ]
  },
  {
   "cell_type": "code",
   "execution_count": 29,
   "metadata": {},
   "outputs": [
    {
     "data": {
      "text/plain": [
       "(750, 1)"
      ]
     },
     "execution_count": 29,
     "metadata": {},
     "output_type": "execute_result"
    }
   ],
   "source": [
    "y_test.shape"
   ]
  },
  {
   "cell_type": "code",
   "execution_count": 30,
   "metadata": {},
   "outputs": [],
   "source": [
    "labels = np.zeros(y_test.shape).astype('int')\n",
    "labels[y_test > 0.5] = 1"
   ]
  },
  {
   "cell_type": "code",
   "execution_count": 31,
   "metadata": {
    "scrolled": true
   },
   "outputs": [
    {
     "name": "stdout",
     "output_type": "stream",
     "text": [
      "[[0]\n",
      " [0]\n",
      " [1]\n",
      " [0]\n",
      " [1]\n",
      " [0]\n",
      " [0]\n",
      " [0]\n",
      " [1]\n",
      " [0]]\n"
     ]
    }
   ],
   "source": [
    "print(labels[:10])"
   ]
  },
  {
   "cell_type": "code",
   "execution_count": 34,
   "metadata": {
    "scrolled": true
   },
   "outputs": [
    {
     "data": {
      "text/html": [
       "<div>\n",
       "<style scoped>\n",
       "    .dataframe tbody tr th:only-of-type {\n",
       "        vertical-align: middle;\n",
       "    }\n",
       "\n",
       "    .dataframe tbody tr th {\n",
       "        vertical-align: top;\n",
       "    }\n",
       "\n",
       "    .dataframe thead th {\n",
       "        text-align: right;\n",
       "    }\n",
       "</style>\n",
       "<table border=\"1\" class=\"dataframe\">\n",
       "  <thead>\n",
       "    <tr style=\"text-align: right;\">\n",
       "      <th></th>\n",
       "      <th>label</th>\n",
       "    </tr>\n",
       "  </thead>\n",
       "  <tbody>\n",
       "    <tr>\n",
       "      <th>0</th>\n",
       "      <td>0</td>\n",
       "    </tr>\n",
       "    <tr>\n",
       "      <th>1</th>\n",
       "      <td>0</td>\n",
       "    </tr>\n",
       "    <tr>\n",
       "      <th>2</th>\n",
       "      <td>1</td>\n",
       "    </tr>\n",
       "    <tr>\n",
       "      <th>3</th>\n",
       "      <td>0</td>\n",
       "    </tr>\n",
       "    <tr>\n",
       "      <th>4</th>\n",
       "      <td>1</td>\n",
       "    </tr>\n",
       "  </tbody>\n",
       "</table>\n",
       "</div>"
      ],
      "text/plain": [
       "   label\n",
       "0      0\n",
       "1      0\n",
       "2      1\n",
       "3      0\n",
       "4      1"
      ]
     },
     "execution_count": 34,
     "metadata": {},
     "output_type": "execute_result"
    }
   ],
   "source": [
    "df = pd.DataFrame(labels , columns = ['label'])\n",
    "df.head()"
   ]
  },
  {
   "cell_type": "code",
   "execution_count": 35,
   "metadata": {},
   "outputs": [],
   "source": [
    "df.to_csv('y_predicted_with_h1andh2_as_8and5.csv', index = False)"
   ]
  },
  {
   "cell_type": "code",
   "execution_count": null,
   "metadata": {},
   "outputs": [],
   "source": []
  }
 ],
 "metadata": {
  "kernelspec": {
   "display_name": "Python 3",
   "language": "python",
   "name": "python3"
  },
  "language_info": {
   "codemirror_mode": {
    "name": "ipython",
    "version": 3
   },
   "file_extension": ".py",
   "mimetype": "text/x-python",
   "name": "python",
   "nbconvert_exporter": "python",
   "pygments_lexer": "ipython3",
   "version": "3.7.6"
  }
 },
 "nbformat": 4,
 "nbformat_minor": 2
}
