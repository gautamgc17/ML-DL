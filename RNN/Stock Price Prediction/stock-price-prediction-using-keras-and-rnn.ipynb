{
 "cells": [
  {
   "cell_type": "markdown",
   "metadata": {},
   "source": [
    "### Importing the libraries"
   ]
  },
  {
   "cell_type": "code",
   "execution_count": 1,
   "metadata": {},
   "outputs": [],
   "source": [
    "import pandas as pd\n",
    "import numpy as np\n",
    "import matplotlib.pyplot as plt"
   ]
  },
  {
   "cell_type": "markdown",
   "metadata": {},
   "source": [
    "### Getting the training set"
   ]
  },
  {
   "cell_type": "code",
   "execution_count": 2,
   "metadata": {},
   "outputs": [
    {
     "data": {
      "text/html": [
       "<div>\n",
       "<style scoped>\n",
       "    .dataframe tbody tr th:only-of-type {\n",
       "        vertical-align: middle;\n",
       "    }\n",
       "\n",
       "    .dataframe tbody tr th {\n",
       "        vertical-align: top;\n",
       "    }\n",
       "\n",
       "    .dataframe thead th {\n",
       "        text-align: right;\n",
       "    }\n",
       "</style>\n",
       "<table border=\"1\" class=\"dataframe\">\n",
       "  <thead>\n",
       "    <tr style=\"text-align: right;\">\n",
       "      <th></th>\n",
       "      <th>Date</th>\n",
       "      <th>Open</th>\n",
       "      <th>High</th>\n",
       "      <th>Low</th>\n",
       "      <th>Close</th>\n",
       "      <th>Volume</th>\n",
       "    </tr>\n",
       "  </thead>\n",
       "  <tbody>\n",
       "    <tr>\n",
       "      <th>0</th>\n",
       "      <td>1/3/2012</td>\n",
       "      <td>325.25</td>\n",
       "      <td>332.83</td>\n",
       "      <td>324.97</td>\n",
       "      <td>663.59</td>\n",
       "      <td>7,380,500</td>\n",
       "    </tr>\n",
       "    <tr>\n",
       "      <th>1</th>\n",
       "      <td>1/4/2012</td>\n",
       "      <td>331.27</td>\n",
       "      <td>333.87</td>\n",
       "      <td>329.08</td>\n",
       "      <td>666.45</td>\n",
       "      <td>5,749,400</td>\n",
       "    </tr>\n",
       "    <tr>\n",
       "      <th>2</th>\n",
       "      <td>1/5/2012</td>\n",
       "      <td>329.83</td>\n",
       "      <td>330.75</td>\n",
       "      <td>326.89</td>\n",
       "      <td>657.21</td>\n",
       "      <td>6,590,300</td>\n",
       "    </tr>\n",
       "    <tr>\n",
       "      <th>3</th>\n",
       "      <td>1/6/2012</td>\n",
       "      <td>328.34</td>\n",
       "      <td>328.77</td>\n",
       "      <td>323.68</td>\n",
       "      <td>648.24</td>\n",
       "      <td>5,405,900</td>\n",
       "    </tr>\n",
       "    <tr>\n",
       "      <th>4</th>\n",
       "      <td>1/9/2012</td>\n",
       "      <td>322.04</td>\n",
       "      <td>322.29</td>\n",
       "      <td>309.46</td>\n",
       "      <td>620.76</td>\n",
       "      <td>11,688,800</td>\n",
       "    </tr>\n",
       "  </tbody>\n",
       "</table>\n",
       "</div>"
      ],
      "text/plain": [
       "       Date    Open    High     Low   Close      Volume\n",
       "0  1/3/2012  325.25  332.83  324.97  663.59   7,380,500\n",
       "1  1/4/2012  331.27  333.87  329.08  666.45   5,749,400\n",
       "2  1/5/2012  329.83  330.75  326.89  657.21   6,590,300\n",
       "3  1/6/2012  328.34  328.77  323.68  648.24   5,405,900\n",
       "4  1/9/2012  322.04  322.29  309.46  620.76  11,688,800"
      ]
     },
     "execution_count": 2,
     "metadata": {},
     "output_type": "execute_result"
    }
   ],
   "source": [
    "dataset_train = pd.read_csv('Google_Stock_Price_Train.csv')\n",
    "dataset_train.head()"
   ]
  },
  {
   "cell_type": "code",
   "execution_count": 3,
   "metadata": {
    "scrolled": true
   },
   "outputs": [
    {
     "data": {
      "text/html": [
       "<div>\n",
       "<style scoped>\n",
       "    .dataframe tbody tr th:only-of-type {\n",
       "        vertical-align: middle;\n",
       "    }\n",
       "\n",
       "    .dataframe tbody tr th {\n",
       "        vertical-align: top;\n",
       "    }\n",
       "\n",
       "    .dataframe thead th {\n",
       "        text-align: right;\n",
       "    }\n",
       "</style>\n",
       "<table border=\"1\" class=\"dataframe\">\n",
       "  <thead>\n",
       "    <tr style=\"text-align: right;\">\n",
       "      <th></th>\n",
       "      <th>High</th>\n",
       "    </tr>\n",
       "  </thead>\n",
       "  <tbody>\n",
       "    <tr>\n",
       "      <th>count</th>\n",
       "      <td>1258.000000</td>\n",
       "    </tr>\n",
       "    <tr>\n",
       "      <th>mean</th>\n",
       "      <td>537.880223</td>\n",
       "    </tr>\n",
       "    <tr>\n",
       "      <th>std</th>\n",
       "      <td>153.008811</td>\n",
       "    </tr>\n",
       "    <tr>\n",
       "      <th>min</th>\n",
       "      <td>281.210000</td>\n",
       "    </tr>\n",
       "    <tr>\n",
       "      <th>25%</th>\n",
       "      <td>406.765000</td>\n",
       "    </tr>\n",
       "    <tr>\n",
       "      <th>50%</th>\n",
       "      <td>540.750000</td>\n",
       "    </tr>\n",
       "    <tr>\n",
       "      <th>75%</th>\n",
       "      <td>662.587500</td>\n",
       "    </tr>\n",
       "    <tr>\n",
       "      <th>max</th>\n",
       "      <td>816.680000</td>\n",
       "    </tr>\n",
       "  </tbody>\n",
       "</table>\n",
       "</div>"
      ],
      "text/plain": [
       "              High\n",
       "count  1258.000000\n",
       "mean    537.880223\n",
       "std     153.008811\n",
       "min     281.210000\n",
       "25%     406.765000\n",
       "50%     540.750000\n",
       "75%     662.587500\n",
       "max     816.680000"
      ]
     },
     "execution_count": 3,
     "metadata": {},
     "output_type": "execute_result"
    }
   ],
   "source": [
    "dataset_train.iloc[:,2:3].describe()"
   ]
  },
  {
   "cell_type": "code",
   "execution_count": 4,
   "metadata": {},
   "outputs": [
    {
     "data": {
      "text/plain": [
       "(1258, 1)"
      ]
     },
     "execution_count": 4,
     "metadata": {},
     "output_type": "execute_result"
    }
   ],
   "source": [
    "training_set = dataset_train.iloc[:, 2:3].values\n",
    "training_set.shape"
   ]
  },
  {
   "cell_type": "code",
   "execution_count": 5,
   "metadata": {
    "scrolled": true
   },
   "outputs": [
    {
     "data": {
      "image/png": "[encoded data removed]",
      "text/plain": [
       "<Figure size 432x288 with 1 Axes>"
      ]
     },
     "metadata": {
      "needs_background": "light"
     },
     "output_type": "display_data"
    }
   ],
   "source": [
    "plt.plot(training_set)\n",
    "plt.show()"
   ]
  },
  {
   "cell_type": "markdown",
   "metadata": {},
   "source": [
    "### Feature Scaling"
   ]
  },
  {
   "cell_type": "code",
   "execution_count": 6,
   "metadata": {},
   "outputs": [],
   "source": [
    "from sklearn.preprocessing import MinMaxScaler\n",
    "scaler = MinMaxScaler(feature_range = (0, 1))\n",
    "\n",
    "training_set_scaled = scaler.fit_transform(training_set)"
   ]
  },
  {
   "cell_type": "markdown",
   "metadata": {},
   "source": [
    "### Creating a data structure with 60 timesteps and 1 output\n"
   ]
  },
  {
   "cell_type": "code",
   "execution_count": 7,
   "metadata": {},
   "outputs": [
    {
     "name": "stdout",
     "output_type": "stream",
     "text": [
      "(1198, 60) (1198,)\n"
     ]
    }
   ],
   "source": [
    "X_train = []\n",
    "y_train = []\n",
    "\n",
    "for i in range(len(training_set_scaled)-60):\n",
    "    X_train.append(training_set_scaled[i:i+60, 0])\n",
    "    y_train.append(training_set_scaled[i+60, 0])\n",
    "    \n",
    "X_train , y_train = np.array(X_train) , np.array(y_train)\n",
    "print(X_train.shape , y_train.shape)"
   ]
  },
  {
   "cell_type": "code",
   "execution_count": 8,
   "metadata": {},
   "outputs": [
    {
     "name": "stdout",
     "output_type": "stream",
     "text": [
      "(1198, 60, 1)\n"
     ]
    }
   ],
   "source": [
    "X_train = X_train.reshape(*(X_train.shape), 1)\n",
    "print(X_train.shape)"
   ]
  },
  {
   "cell_type": "markdown",
   "metadata": {},
   "source": [
    "###  Building the RNN/LSTM Model"
   ]
  },
  {
   "cell_type": "code",
   "execution_count": 32,
   "metadata": {},
   "outputs": [],
   "source": [
    "from keras.models import Sequential\n",
    "from keras.layers import LSTM, Dropout, Dense"
   ]
  },
  {
   "cell_type": "code",
   "execution_count": 33,
   "metadata": {},
   "outputs": [],
   "source": [
    "# Initialising the Model\n",
    "model = Sequential()\n",
    "\n",
    "# Adding the first LSTM layer and some Dropout regularisation\n",
    "model.add(LSTM(units = 64, return_sequences=True, input_shape = (60, 1)))\n",
    "model.add(Dropout(0.2))\n",
    "\n",
    "# Adding a second LSTM layer and some Dropout regularisation\n",
    "model.add(LSTM(units = 64, return_sequences = True))\n",
    "model.add(Dropout(0.2))\n",
    "\n",
    "# Adding a third LSTM layer and some Dropout regularisation\n",
    "#model.add(LSTM(units = 50, return_sequences = True))\n",
    "#model.add(Dropout(0.2))\n",
    "\n",
    "# Adding a fourth LSTM layer and some Dropout regularisation\n",
    "model.add(LSTM(units = 64))\n",
    "model.add(Dropout(0.2))\n",
    "\n",
    "# Adding the output layer\n",
    "model.add(Dense(units = 1))\n",
    "\n",
    "# Compiling the RNN\n",
    "model.compile(optimizer = 'adam', loss = 'mean_squared_error')"
   ]
  },
  {
   "cell_type": "code",
   "execution_count": 34,
   "metadata": {
    "scrolled": false
   },
   "outputs": [
    {
     "name": "stdout",
     "output_type": "stream",
     "text": [
      "Model: \"sequential_1\"\n",
      "_________________________________________________________________\n",
      "Layer (type)                 Output Shape              Param #   \n",
      "=================================================================\n",
      "lstm_3 (LSTM)                (None, 60, 64)            16896     \n",
      "_________________________________________________________________\n",
      "dropout_3 (Dropout)          (None, 60, 64)            0         \n",
      "_________________________________________________________________\n",
      "lstm_4 (LSTM)                (None, 60, 64)            33024     \n",
      "_________________________________________________________________\n",
      "dropout_4 (Dropout)          (None, 60, 64)            0         \n",
      "_________________________________________________________________\n",
      "lstm_5 (LSTM)                (None, 64)                33024     \n",
      "_________________________________________________________________\n",
      "dropout_5 (Dropout)          (None, 64)                0         \n",
      "_________________________________________________________________\n",
      "dense_1 (Dense)              (None, 1)                 65        \n",
      "=================================================================\n",
      "Total params: 83,009\n",
      "Trainable params: 83,009\n",
      "Non-trainable params: 0\n",
      "_________________________________________________________________\n"
     ]
    }
   ],
   "source": [
    "model.summary()"
   ]
  },
  {
   "cell_type": "code",
   "execution_count": 35,
   "metadata": {},
   "outputs": [],
   "source": [
    "from keras.callbacks import ModelCheckpoint , EarlyStopping\n",
    "checkpoint = ModelCheckpoint('best_model.h5', monitor = 'loss', save_best_only = True)\n",
    "earlystop = EarlyStopping(monitor = 'loss', patience = 5)"
   ]
  },
  {
   "cell_type": "code",
   "execution_count": 36,
   "metadata": {
    "scrolled": true
   },
   "outputs": [
    {
     "name": "stdout",
     "output_type": "stream",
     "text": [
      "Epoch 1/100\n",
      "38/38 [==============================] - 5s 54ms/step - loss: 0.0737\n",
      "Epoch 2/100\n",
      "38/38 [==============================] - 2s 59ms/step - loss: 0.0056\n",
      "Epoch 3/100\n",
      "38/38 [==============================] - 2s 65ms/step - loss: 0.0047\n",
      "Epoch 4/100\n",
      "38/38 [==============================] - 2s 65ms/step - loss: 0.0043\n",
      "Epoch 5/100\n",
      "38/38 [==============================] - 3s 66ms/step - loss: 0.0041\n",
      "Epoch 6/100\n",
      "38/38 [==============================] - 3s 66ms/step - loss: 0.0045\n",
      "Epoch 7/100\n",
      "38/38 [==============================] - 2s 64ms/step - loss: 0.0037\n",
      "Epoch 8/100\n",
      "38/38 [==============================] - 3s 66ms/step - loss: 0.0036\n",
      "Epoch 9/100\n",
      "38/38 [==============================] - 2s 63ms/step - loss: 0.0033\n",
      "Epoch 10/100\n",
      "38/38 [==============================] - 2s 61ms/step - loss: 0.0031\n",
      "Epoch 11/100\n",
      "38/38 [==============================] - 2s 63ms/step - loss: 0.0032\n",
      "Epoch 12/100\n",
      "38/38 [==============================] - 2s 63ms/step - loss: 0.0031\n",
      "Epoch 13/100\n",
      "38/38 [==============================] - 3s 68ms/step - loss: 0.0041\n",
      "Epoch 14/100\n",
      "38/38 [==============================] - 3s 67ms/step - loss: 0.0030\n",
      "Epoch 15/100\n",
      "38/38 [==============================] - 3s 67ms/step - loss: 0.0029\n",
      "Epoch 16/100\n",
      "38/38 [==============================] - 3s 67ms/step - loss: 0.0033\n",
      "Epoch 17/100\n",
      "38/38 [==============================] - 3s 67ms/step - loss: 0.0030\n",
      "Epoch 18/100\n",
      "38/38 [==============================] - 2s 58ms/step - loss: 0.0030\n",
      "Epoch 19/100\n",
      "38/38 [==============================] - 2s 61ms/step - loss: 0.0025\n",
      "Epoch 20/100\n",
      "38/38 [==============================] - 2s 62ms/step - loss: 0.0032\n",
      "Epoch 21/100\n",
      "38/38 [==============================] - 2s 61ms/step - loss: 0.0025\n",
      "Epoch 22/100\n",
      "38/38 [==============================] - 2s 60ms/step - loss: 0.0027\n",
      "Epoch 23/100\n",
      "38/38 [==============================] - 2s 61ms/step - loss: 0.0031: 0s - \n",
      "Epoch 24/100\n",
      "38/38 [==============================] - 2s 62ms/step - loss: 0.0024\n",
      "Epoch 25/100\n",
      "38/38 [==============================] - 2s 60ms/step - loss: 0.0027\n",
      "Epoch 26/100\n",
      "38/38 [==============================] - 2s 61ms/step - loss: 0.0026\n",
      "Epoch 27/100\n",
      "38/38 [==============================] - 2s 61ms/step - loss: 0.0022\n",
      "Epoch 28/100\n",
      "38/38 [==============================] - 2s 61ms/step - loss: 0.0023\n",
      "Epoch 29/100\n",
      "38/38 [==============================] - 2s 61ms/step - loss: 0.0023\n",
      "Epoch 30/100\n",
      "38/38 [==============================] - 2s 60ms/step - loss: 0.0021\n",
      "Epoch 31/100\n",
      "38/38 [==============================] - 2s 61ms/step - loss: 0.0026\n",
      "Epoch 32/100\n",
      "38/38 [==============================] - 2s 60ms/step - loss: 0.0024\n",
      "Epoch 33/100\n",
      "38/38 [==============================] - 2s 61ms/step - loss: 0.0021\n",
      "Epoch 34/100\n",
      "38/38 [==============================] - 2s 62ms/step - loss: 0.0024\n",
      "Epoch 35/100\n",
      "38/38 [==============================] - 2s 61ms/step - loss: 0.0023\n",
      "Epoch 36/100\n",
      "38/38 [==============================] - 2s 60ms/step - loss: 0.0023\n",
      "Epoch 37/100\n",
      "38/38 [==============================] - 2s 61ms/step - loss: 0.0021\n",
      "Epoch 38/100\n",
      "38/38 [==============================] - 2s 61ms/step - loss: 0.0024\n",
      "Epoch 39/100\n",
      "38/38 [==============================] - 2s 61ms/step - loss: 0.0026\n",
      "Epoch 40/100\n",
      "38/38 [==============================] - 2s 61ms/step - loss: 0.0031\n",
      "Epoch 41/100\n",
      "38/38 [==============================] - 2s 60ms/step - loss: 0.0021\n",
      "Epoch 42/100\n",
      "38/38 [==============================] - 2s 61ms/step - loss: 0.0024\n",
      "Epoch 43/100\n",
      "38/38 [==============================] - 2s 61ms/step - loss: 0.0021\n",
      "Epoch 44/100\n",
      "38/38 [==============================] - 2s 61ms/step - loss: 0.0016\n",
      "Epoch 45/100\n",
      "38/38 [==============================] - 2s 61ms/step - loss: 0.0021: 0s - loss: 0.00\n",
      "Epoch 46/100\n",
      "38/38 [==============================] - 2s 61ms/step - loss: 0.0020\n",
      "Epoch 47/100\n",
      "38/38 [==============================] - 2s 62ms/step - loss: 0.0026\n",
      "Epoch 48/100\n",
      "38/38 [==============================] - 2s 61ms/step - loss: 0.0020\n",
      "Epoch 49/100\n",
      "38/38 [==============================] - 2s 61ms/step - loss: 0.0021\n",
      "Epoch 50/100\n",
      "38/38 [==============================] - 2s 61ms/step - loss: 0.0028\n",
      "Epoch 51/100\n",
      "38/38 [==============================] - 2s 62ms/step - loss: 0.0016\n",
      "Epoch 52/100\n",
      "38/38 [==============================] - 2s 60ms/step - loss: 0.0019\n",
      "Epoch 53/100\n",
      "38/38 [==============================] - 2s 62ms/step - loss: 0.0019\n",
      "Epoch 54/100\n",
      "38/38 [==============================] - 2s 61ms/step - loss: 0.0015\n",
      "Epoch 55/100\n",
      "38/38 [==============================] - 2s 62ms/step - loss: 0.0017\n",
      "Epoch 56/100\n",
      "38/38 [==============================] - 2s 62ms/step - loss: 0.0017\n",
      "Epoch 57/100\n",
      "38/38 [==============================] - 2s 62ms/step - loss: 0.0017\n",
      "Epoch 58/100\n",
      "38/38 [==============================] - 2s 61ms/step - loss: 0.0015\n",
      "Epoch 59/100\n",
      "38/38 [==============================] - 2s 62ms/step - loss: 0.0020\n",
      "Epoch 60/100\n",
      "38/38 [==============================] - 2s 61ms/step - loss: 0.0013\n",
      "Epoch 61/100\n",
      "38/38 [==============================] - 2s 61ms/step - loss: 0.0014\n",
      "Epoch 62/100\n",
      "38/38 [==============================] - 2s 61ms/step - loss: 0.0016\n",
      "Epoch 63/100\n",
      "38/38 [==============================] - 2s 61ms/step - loss: 0.0016\n",
      "Epoch 64/100\n",
      "38/38 [==============================] - 2s 62ms/step - loss: 0.0016\n",
      "Epoch 65/100\n",
      "38/38 [==============================] - 2s 60ms/step - loss: 0.0015\n",
      "Epoch 66/100\n",
      "38/38 [==============================] - 2s 61ms/step - loss: 0.0018\n",
      "Epoch 67/100\n",
      "38/38 [==============================] - 2s 62ms/step - loss: 0.0014\n",
      "Epoch 68/100\n",
      "38/38 [==============================] - 2s 60ms/step - loss: 0.0014\n",
      "Epoch 69/100\n",
      "38/38 [==============================] - 2s 62ms/step - loss: 0.0014\n",
      "Epoch 70/100\n",
      "38/38 [==============================] - 2s 62ms/step - loss: 0.0014\n",
      "Epoch 71/100\n",
      "38/38 [==============================] - 2s 61ms/step - loss: 0.0016\n",
      "Epoch 72/100\n",
      "38/38 [==============================] - 2s 61ms/step - loss: 0.0013\n",
      "Epoch 73/100\n",
      "38/38 [==============================] - 2s 61ms/step - loss: 0.0014\n",
      "Epoch 74/100\n",
      "38/38 [==============================] - 2s 60ms/step - loss: 0.0018: 1s - l - ETA: 0s - \n",
      "Epoch 75/100\n",
      "38/38 [==============================] - 2s 62ms/step - loss: 0.0014: 1s - ETA: 0s - loss:\n",
      "Epoch 76/100\n",
      "38/38 [==============================] - 2s 61ms/step - loss: 0.0015\n",
      "Epoch 77/100\n",
      "38/38 [==============================] - 2s 62ms/step - loss: 0.0015\n",
      "Epoch 78/100\n",
      "38/38 [==============================] - 2s 62ms/step - loss: 0.0014\n",
      "Epoch 79/100\n",
      "38/38 [==============================] - 2s 62ms/step - loss: 0.0018\n",
      "Epoch 80/100\n",
      "38/38 [==============================] - 2s 62ms/step - loss: 0.0013\n",
      "Epoch 81/100\n",
      "38/38 [==============================] - 2s 62ms/step - loss: 0.0013\n",
      "Epoch 82/100\n",
      "38/38 [==============================] - 2s 60ms/step - loss: 0.0013\n",
      "Epoch 83/100\n",
      "38/38 [==============================] - 2s 61ms/step - loss: 0.0012\n",
      "Epoch 84/100\n",
      "38/38 [==============================] - 2s 61ms/step - loss: 0.0015\n",
      "Epoch 85/100\n",
      "38/38 [==============================] - 2s 63ms/step - loss: 0.0012\n",
      "Epoch 86/100\n",
      "38/38 [==============================] - 2s 61ms/step - loss: 0.0014\n",
      "Epoch 87/100\n",
      "38/38 [==============================] - 2s 62ms/step - loss: 0.0013\n",
      "Epoch 88/100\n",
      "38/38 [==============================] - 2s 61ms/step - loss: 0.0012\n",
      "Epoch 89/100\n",
      "38/38 [==============================] - 2s 63ms/step - loss: 0.0013\n",
      "Epoch 90/100\n",
      "38/38 [==============================] - 2s 60ms/step - loss: 0.0012\n",
      "Epoch 91/100\n",
      "38/38 [==============================] - 2s 62ms/step - loss: 0.0012\n",
      "Epoch 92/100\n",
      "38/38 [==============================] - 2s 61ms/step - loss: 0.0011\n",
      "Epoch 93/100\n",
      "38/38 [==============================] - 2s 60ms/step - loss: 0.0014\n",
      "Epoch 94/100\n",
      "38/38 [==============================] - 2s 61ms/step - loss: 0.0013\n",
      "Epoch 95/100\n",
      "38/38 [==============================] - 2s 64ms/step - loss: 0.0011\n",
      "Epoch 96/100\n",
      "38/38 [==============================] - 3s 72ms/step - loss: 0.0015\n",
      "Epoch 97/100\n",
      "38/38 [==============================] - 2s 58ms/step - loss: 0.0010 ETA:\n",
      "Epoch 98/100\n",
      "38/38 [==============================] - 2s 63ms/step - loss: 0.0012\n",
      "Epoch 99/100\n",
      "38/38 [==============================] - 2s 60ms/step - loss: 0.0012\n",
      "Epoch 100/100\n"
     ]
    },
    {
     "name": "stdout",
     "output_type": "stream",
     "text": [
      "38/38 [==============================] - 2s 58ms/step - loss: 0.0013: 0s - loss: \n"
     ]
    }
   ],
   "source": [
    "# Fitting the RNN to the Training set\n",
    "\n",
    "hist = model.fit(X_train, y_train, epochs = 100, batch_size = 32, callbacks = [checkpoint])"
   ]
  },
  {
   "cell_type": "code",
   "execution_count": 37,
   "metadata": {},
   "outputs": [
    {
     "data": {
      "image/png": "[encoded data removed]",
      "text/plain": [
       "<Figure size 432x288 with 1 Axes>"
      ]
     },
     "metadata": {
      "needs_background": "light"
     },
     "output_type": "display_data"
    }
   ],
   "source": [
    "plt.plot(hist.history['loss'])\n",
    "plt.title('Loss over time')\n",
    "plt.show()"
   ]
  },
  {
   "cell_type": "code",
   "execution_count": 45,
   "metadata": {},
   "outputs": [],
   "source": [
    "model.load_weights('best_model.h5')"
   ]
  },
  {
   "cell_type": "markdown",
   "metadata": {},
   "source": [
    "### Making the predictions "
   ]
  },
  {
   "cell_type": "code",
   "execution_count": 38,
   "metadata": {},
   "outputs": [
    {
     "data": {
      "text/html": [
       "<div>\n",
       "<style scoped>\n",
       "    .dataframe tbody tr th:only-of-type {\n",
       "        vertical-align: middle;\n",
       "    }\n",
       "\n",
       "    .dataframe tbody tr th {\n",
       "        vertical-align: top;\n",
       "    }\n",
       "\n",
       "    .dataframe thead th {\n",
       "        text-align: right;\n",
       "    }\n",
       "</style>\n",
       "<table border=\"1\" class=\"dataframe\">\n",
       "  <thead>\n",
       "    <tr style=\"text-align: right;\">\n",
       "      <th></th>\n",
       "      <th>Date</th>\n",
       "      <th>Open</th>\n",
       "      <th>High</th>\n",
       "      <th>Low</th>\n",
       "      <th>Close</th>\n",
       "      <th>Volume</th>\n",
       "    </tr>\n",
       "  </thead>\n",
       "  <tbody>\n",
       "    <tr>\n",
       "      <th>0</th>\n",
       "      <td>1/3/2017</td>\n",
       "      <td>778.81</td>\n",
       "      <td>789.63</td>\n",
       "      <td>775.80</td>\n",
       "      <td>786.14</td>\n",
       "      <td>1,657,300</td>\n",
       "    </tr>\n",
       "    <tr>\n",
       "      <th>1</th>\n",
       "      <td>1/4/2017</td>\n",
       "      <td>788.36</td>\n",
       "      <td>791.34</td>\n",
       "      <td>783.16</td>\n",
       "      <td>786.90</td>\n",
       "      <td>1,073,000</td>\n",
       "    </tr>\n",
       "    <tr>\n",
       "      <th>2</th>\n",
       "      <td>1/5/2017</td>\n",
       "      <td>786.08</td>\n",
       "      <td>794.48</td>\n",
       "      <td>785.02</td>\n",
       "      <td>794.02</td>\n",
       "      <td>1,335,200</td>\n",
       "    </tr>\n",
       "    <tr>\n",
       "      <th>3</th>\n",
       "      <td>1/6/2017</td>\n",
       "      <td>795.26</td>\n",
       "      <td>807.90</td>\n",
       "      <td>792.20</td>\n",
       "      <td>806.15</td>\n",
       "      <td>1,640,200</td>\n",
       "    </tr>\n",
       "    <tr>\n",
       "      <th>4</th>\n",
       "      <td>1/9/2017</td>\n",
       "      <td>806.40</td>\n",
       "      <td>809.97</td>\n",
       "      <td>802.83</td>\n",
       "      <td>806.65</td>\n",
       "      <td>1,272,400</td>\n",
       "    </tr>\n",
       "  </tbody>\n",
       "</table>\n",
       "</div>"
      ],
      "text/plain": [
       "       Date    Open    High     Low   Close     Volume\n",
       "0  1/3/2017  778.81  789.63  775.80  786.14  1,657,300\n",
       "1  1/4/2017  788.36  791.34  783.16  786.90  1,073,000\n",
       "2  1/5/2017  786.08  794.48  785.02  794.02  1,335,200\n",
       "3  1/6/2017  795.26  807.90  792.20  806.15  1,640,200\n",
       "4  1/9/2017  806.40  809.97  802.83  806.65  1,272,400"
      ]
     },
     "execution_count": 38,
     "metadata": {},
     "output_type": "execute_result"
    }
   ],
   "source": [
    "# Getting the real stock price of 2017\n",
    "\n",
    "dataset_test = pd.read_csv('Google_Stock_Price_Test.csv')\n",
    "dataset_test.head()"
   ]
  },
  {
   "cell_type": "code",
   "execution_count": 39,
   "metadata": {},
   "outputs": [
    {
     "data": {
      "text/plain": [
       "(20, 1)"
      ]
     },
     "execution_count": 39,
     "metadata": {},
     "output_type": "execute_result"
    }
   ],
   "source": [
    "testing_set = dataset_test.iloc[:, 2:3].values\n",
    "testing_set.shape"
   ]
  },
  {
   "cell_type": "code",
   "execution_count": 40,
   "metadata": {
    "scrolled": true
   },
   "outputs": [
    {
     "name": "stdout",
     "output_type": "stream",
     "text": [
      "(80, 1)\n"
     ]
    }
   ],
   "source": [
    "# Getting the predicted stock price of 2017\n",
    "\n",
    "dataset_total = pd.concat((dataset_train['High'], dataset_test['High']), axis = 0, ignore_index = True)\n",
    "\n",
    "inputs = dataset_total[len(dataset_total) - len(dataset_test) - 60:].values\n",
    "inputs = inputs.reshape(-1, 1)\n",
    "inputs = scaler.transform(inputs)\n",
    "\n",
    "print(inputs.shape)"
   ]
  },
  {
   "cell_type": "code",
   "execution_count": 41,
   "metadata": {},
   "outputs": [
    {
     "name": "stdout",
     "output_type": "stream",
     "text": [
      "(20, 60, 1)\n"
     ]
    }
   ],
   "source": [
    "X_test = []\n",
    "for i in range(len(inputs)-60):\n",
    "    X_test.append(inputs[i:i+60, 0])\n",
    "    \n",
    "X_test = np.array(X_test)\n",
    "X_test = X_test.reshape(*(X_test.shape), 1)\n",
    "print(X_test.shape)"
   ]
  },
  {
   "cell_type": "code",
   "execution_count": 42,
   "metadata": {},
   "outputs": [],
   "source": [
    "predicted_stock_price = model.predict(X_test)\n",
    "predicted_stock_price = scaler.inverse_transform(predicted_stock_price)"
   ]
  },
  {
   "cell_type": "markdown",
   "metadata": {},
   "source": [
    "### Visualising the results"
   ]
  },
  {
   "cell_type": "code",
   "execution_count": 48,
   "metadata": {},
   "outputs": [
    {
     "data": {
      "image/png": "[encoded data removed]",
      "text/plain": [
       "<Figure size 432x288 with 1 Axes>"
      ]
     },
     "metadata": {
      "needs_background": "light"
     },
     "output_type": "display_data"
    }
   ],
   "source": [
    "plt.plot(testing_set, color = 'red', label = 'Real Stock Price')\n",
    "plt.plot(predicted_stock_price, color = 'blue', label = 'Predicted Stock Price')\n",
    "\n",
    "plt.title('Google Stock Price Prediction')\n",
    "plt.xlabel('Time')\n",
    "plt.ylabel('Stock Price')\n",
    "plt.legend()\n",
    "plt.show()"
   ]
  },
  {
   "cell_type": "code",
   "execution_count": 50,
   "metadata": {},
   "outputs": [
    {
     "data": {
      "text/plain": [
       "0.31507231410547876"
      ]
     },
     "execution_count": 50,
     "metadata": {},
     "output_type": "execute_result"
    }
   ],
   "source": [
    "from sklearn.metrics import r2_score\n",
    "\n",
    "r2_score(testing_set, predicted_stock_price)"
   ]
  },
  {
   "cell_type": "code",
   "execution_count": null,
   "metadata": {},
   "outputs": [],
   "source": []
  }
 ],
 "metadata": {
  "kernelspec": {
   "display_name": "Python 3",
   "language": "python",
   "name": "python3"
  },
  "language_info": {
   "codemirror_mode": {
    "name": "ipython",
    "version": 3
   },
   "file_extension": ".py",
   "mimetype": "text/x-python",
   "name": "python",
   "nbconvert_exporter": "python",
   "pygments_lexer": "ipython3",
   "version": "3.7.6"
  }
 },
 "nbformat": 4,
 "nbformat_minor": 4
}
