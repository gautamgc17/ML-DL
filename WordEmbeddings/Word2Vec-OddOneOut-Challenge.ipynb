{
 "cells": [
  {
   "cell_type": "code",
   "execution_count": 2,
   "metadata": {},
   "outputs": [],
   "source": [
    "import numpy as np\n",
    "import gensim\n",
    "from gensim.models import Word2Vec\n",
    "from gensim.models import KeyedVectors\n",
    "from sklearn.metrics.pairwise import cosine_similarity"
   ]
  },
  {
   "cell_type": "code",
   "execution_count": 3,
   "metadata": {},
   "outputs": [],
   "source": [
    "word_vectors = KeyedVectors.load_word2vec_format('GoogleNews-vectors-negative300.bin', binary = True)"
   ]
  },
  {
   "cell_type": "code",
   "execution_count": 4,
   "metadata": {},
   "outputs": [
    {
     "data": {
      "text/plain": [
       "array([-6.83593750e-02,  1.82617188e-01, -1.77734375e-01,  1.66015625e-01,\n",
       "        1.46484375e-01,  2.53906250e-02,  5.00488281e-02, -3.51562500e-02,\n",
       "        2.53906250e-01,  2.22778320e-03, -3.26156616e-04, -2.05078125e-01,\n",
       "       -2.98828125e-01, -3.71093750e-01, -4.45312500e-01, -2.08007812e-01,\n",
       "       -1.89453125e-01, -5.72204590e-04, -2.45117188e-01, -2.08984375e-01,\n",
       "        2.51953125e-01, -3.73046875e-01,  1.91406250e-01, -2.07519531e-02,\n",
       "       -2.96875000e-01,  1.24023438e-01, -4.60937500e-01,  1.42578125e-01,\n",
       "        7.14843750e-01,  1.18652344e-01, -1.47460938e-01, -1.15234375e-01,\n",
       "       -9.03320312e-02, -8.49609375e-02, -3.14453125e-01,  1.54296875e-01,\n",
       "       -1.97265625e-01,  2.89062500e-01,  3.26171875e-01,  2.79296875e-01,\n",
       "       -2.13623047e-02, -7.76367188e-02,  1.29882812e-01,  1.79687500e-01,\n",
       "        2.85156250e-01, -2.45117188e-01, -7.22656250e-02, -1.08398438e-01,\n",
       "        3.96484375e-01,  2.75390625e-01, -2.94921875e-01,  2.87109375e-01,\n",
       "       -9.33837891e-03, -2.14843750e-01,  1.03515625e-01, -1.32812500e-01,\n",
       "        1.90429688e-01, -2.53906250e-01,  3.82812500e-01,  3.58886719e-02,\n",
       "        1.00585938e-01,  1.04492188e-01,  1.65039062e-01, -2.19726562e-01,\n",
       "        1.37695312e-01, -1.88476562e-01,  7.03125000e-02, -8.98437500e-02,\n",
       "       -2.16796875e-01, -7.53784180e-03, -8.69140625e-02,  5.95703125e-02,\n",
       "        7.03125000e-02, -5.88378906e-02, -4.66308594e-02, -3.63769531e-02,\n",
       "        1.15234375e-01, -3.39843750e-01, -8.72802734e-03, -1.93023682e-03,\n",
       "       -1.87988281e-02, -1.90429688e-01,  1.64062500e-01,  2.53906250e-01,\n",
       "       -3.49609375e-01, -1.04003906e-01, -7.32421875e-02, -2.09960938e-01,\n",
       "       -7.86132812e-02, -1.17675781e-01, -4.15039062e-02,  4.33593750e-01,\n",
       "       -6.54296875e-02,  5.88378906e-02, -2.98828125e-01, -4.25781250e-01,\n",
       "        1.84570312e-01,  1.20605469e-01,  1.80664062e-01, -2.53906250e-01,\n",
       "       -7.66601562e-02, -1.54296875e-01, -2.57568359e-02, -1.66015625e-01,\n",
       "        2.27539062e-01, -2.94921875e-01, -9.66796875e-02, -1.21582031e-01,\n",
       "        1.14746094e-01, -1.35742188e-01, -5.19531250e-01,  8.39843750e-02,\n",
       "        2.95410156e-02,  2.89062500e-01, -1.96289062e-01, -8.64257812e-02,\n",
       "       -1.44531250e-01, -4.86328125e-01, -2.75390625e-01, -2.92968750e-02,\n",
       "       -1.94091797e-02,  1.94335938e-01, -3.65234375e-01, -1.27563477e-02,\n",
       "       -1.43554688e-01,  6.25000000e-02,  3.82812500e-01, -8.44726562e-02,\n",
       "        1.50390625e-01, -3.71093750e-01, -1.42578125e-01,  1.21582031e-01,\n",
       "       -3.24218750e-01,  1.49414062e-01, -2.26562500e-01,  1.87500000e-01,\n",
       "        9.17968750e-02,  2.38037109e-02,  9.08203125e-02,  5.93261719e-02,\n",
       "        1.87500000e-01, -3.08593750e-01, -7.42187500e-02,  6.64062500e-02,\n",
       "        4.80957031e-02,  3.04687500e-01, -1.74804688e-01,  2.83203125e-01,\n",
       "        1.50756836e-02, -1.04492188e-01,  4.64843750e-01,  1.53320312e-01,\n",
       "       -2.75390625e-01,  2.04101562e-01,  1.91406250e-01, -2.50000000e-01,\n",
       "        1.20849609e-02, -3.54003906e-02,  1.46484375e-01, -1.80664062e-01,\n",
       "        1.25000000e-01, -2.06054688e-01,  2.11914062e-01, -5.93261719e-02,\n",
       "        8.66699219e-03, -8.15429688e-02,  2.69531250e-01, -2.51953125e-01,\n",
       "       -2.72216797e-02,  1.25000000e-01, -9.27734375e-02, -7.17773438e-02,\n",
       "        4.44335938e-02,  1.29882812e-01,  7.03125000e-02, -8.34960938e-02,\n",
       "        3.71093750e-02,  9.47265625e-02, -2.00195312e-01, -3.26171875e-01,\n",
       "       -2.75390625e-01, -2.38281250e-01, -1.22558594e-01, -1.31835938e-01,\n",
       "        5.68847656e-02, -2.33398438e-01,  1.04370117e-02,  1.86523438e-01,\n",
       "        2.33398438e-01,  5.46875000e-02, -6.73828125e-02, -4.35546875e-01,\n",
       "       -2.59765625e-01,  1.79687500e-01,  1.07910156e-01,  4.15039062e-02,\n",
       "        1.95312500e-02, -2.61718750e-01, -1.46484375e-01,  5.98144531e-02,\n",
       "        1.27929688e-01, -1.46484375e-01,  4.48608398e-03, -1.48437500e-01,\n",
       "        1.14257812e-01,  2.33459473e-03,  3.53515625e-01, -2.27539062e-01,\n",
       "        1.12792969e-01, -4.10156250e-02, -5.31250000e-01, -7.27539062e-02,\n",
       "        1.37695312e-01, -6.17187500e-01, -1.21582031e-01,  2.94921875e-01,\n",
       "        3.80859375e-01, -3.88183594e-02,  6.00585938e-02,  2.35351562e-01,\n",
       "        1.32812500e-01,  2.85644531e-02, -2.63671875e-01, -1.38671875e-01,\n",
       "        1.61132812e-01, -1.07421875e-01, -1.05468750e-01,  1.17675781e-01,\n",
       "        3.08593750e-01, -3.66210938e-02,  8.59375000e-02, -1.49414062e-01,\n",
       "        1.63085938e-01,  1.89971924e-03, -1.30859375e-01, -1.34765625e-01,\n",
       "       -5.73730469e-02,  7.37304688e-02, -1.10839844e-01, -1.23046875e-01,\n",
       "        2.69531250e-01, -2.83203125e-01, -8.44726562e-02, -2.42187500e-01,\n",
       "        1.53320312e-01,  9.88769531e-03,  3.19824219e-02, -2.08007812e-01,\n",
       "        3.00781250e-01, -1.85546875e-02, -2.71484375e-01,  1.93359375e-01,\n",
       "       -9.86328125e-02,  1.25000000e-01, -1.64794922e-02,  6.25000000e-02,\n",
       "        8.48388672e-03, -1.80664062e-01, -2.13867188e-01, -1.66015625e-01,\n",
       "       -2.77343750e-01,  1.38671875e-01,  5.62500000e-01,  3.75976562e-02,\n",
       "        2.19726562e-01,  2.13867188e-01, -4.86328125e-01, -9.86328125e-02,\n",
       "       -3.12500000e-02, -1.98242188e-01,  3.03649902e-03,  4.44335938e-02,\n",
       "        4.02832031e-02,  3.51562500e-01,  2.50000000e-01,  1.00097656e-01,\n",
       "        1.93786621e-03,  5.37109375e-02, -2.04101562e-01,  5.09643555e-03,\n",
       "        2.63671875e-01, -8.88671875e-02, -2.05078125e-01, -1.07421875e-01,\n",
       "        1.27929688e-01, -9.08203125e-02, -1.06445312e-01,  1.34887695e-02,\n",
       "        3.12500000e-01, -2.31933594e-02, -1.05468750e-01, -5.05371094e-02,\n",
       "        1.46484375e-01, -2.62451172e-02,  9.03320312e-02,  3.95507812e-02,\n",
       "        2.94189453e-02,  1.90429688e-01, -1.02050781e-01,  1.72851562e-01],\n",
       "      dtype=float32)"
      ]
     },
     "execution_count": 4,
     "metadata": {},
     "output_type": "execute_result"
    }
   ],
   "source": [
    "word_vectors['tiger']"
   ]
  },
  {
   "cell_type": "code",
   "execution_count": 5,
   "metadata": {},
   "outputs": [
    {
     "data": {
      "text/plain": [
       "(300,)"
      ]
     },
     "execution_count": 5,
     "metadata": {},
     "output_type": "execute_result"
    }
   ],
   "source": [
    "word_vectors['tiger'].shape"
   ]
  },
  {
   "cell_type": "code",
   "execution_count": 6,
   "metadata": {},
   "outputs": [
    {
     "data": {
      "text/plain": [
       "3000000"
      ]
     },
     "execution_count": 6,
     "metadata": {},
     "output_type": "execute_result"
    }
   ],
   "source": [
    "len(word_vectors.key_to_index.keys())"
   ]
  },
  {
   "cell_type": "code",
   "execution_count": 9,
   "metadata": {},
   "outputs": [],
   "source": [
    "\n",
    "def odd_one_out(words):\n",
    "    \"\"\"Accepts a list of words and returns the odd word\"\"\"\n",
    "    \n",
    "    # Generate all word embeddings for the given list\n",
    "    all_word_vectors = [word_vectors[w] for w in words]\n",
    "    avg_vector = np.mean(all_word_vectors, axis = 0)\n",
    "    \n",
    "    # Iterate over every word and find similarity\n",
    "    odd_word = None\n",
    "    min_similarity = 100\n",
    "    \n",
    "    for w in words:\n",
    "        sim = cosine_similarity([word_vectors[w]], [avg_vector])\n",
    "        \n",
    "        if sim < min_similarity:\n",
    "            min_similarity = sim\n",
    "            odd_word = w\n",
    "            \n",
    "    return odd_word          \n",
    "    "
   ]
  },
  {
   "cell_type": "code",
   "execution_count": 10,
   "metadata": {},
   "outputs": [
    {
     "data": {
      "text/plain": [
       "'snake'"
      ]
     },
     "execution_count": 10,
     "metadata": {},
     "output_type": "execute_result"
    }
   ],
   "source": [
    "input_1 = [\"elephant\",\"lion\",\"tiger\",\"goat\",\"snake\"]\n",
    "odd_one_out(input_1)"
   ]
  },
  {
   "cell_type": "code",
   "execution_count": 11,
   "metadata": {},
   "outputs": [],
   "source": [
    "import pandas as pd"
   ]
  },
  {
   "cell_type": "code",
   "execution_count": 12,
   "metadata": {},
   "outputs": [
    {
     "data": {
      "text/html": [
       "<div>\n",
       "<style scoped>\n",
       "    .dataframe tbody tr th:only-of-type {\n",
       "        vertical-align: middle;\n",
       "    }\n",
       "\n",
       "    .dataframe tbody tr th {\n",
       "        vertical-align: top;\n",
       "    }\n",
       "\n",
       "    .dataframe thead th {\n",
       "        text-align: right;\n",
       "    }\n",
       "</style>\n",
       "<table border=\"1\" class=\"dataframe\">\n",
       "  <thead>\n",
       "    <tr style=\"text-align: right;\">\n",
       "      <th></th>\n",
       "      <th>Word1</th>\n",
       "      <th>Word2</th>\n",
       "      <th>Word3</th>\n",
       "      <th>Word4</th>\n",
       "      <th>Word5</th>\n",
       "    </tr>\n",
       "  </thead>\n",
       "  <tbody>\n",
       "    <tr>\n",
       "      <th>0</th>\n",
       "      <td>elephant</td>\n",
       "      <td>lion</td>\n",
       "      <td>tiger</td>\n",
       "      <td>goat</td>\n",
       "      <td>snake</td>\n",
       "    </tr>\n",
       "    <tr>\n",
       "      <th>1</th>\n",
       "      <td>man</td>\n",
       "      <td>policeman</td>\n",
       "      <td>fireman</td>\n",
       "      <td>teacher</td>\n",
       "      <td>postman</td>\n",
       "    </tr>\n",
       "    <tr>\n",
       "      <th>2</th>\n",
       "      <td>plane</td>\n",
       "      <td>bird</td>\n",
       "      <td>rocket</td>\n",
       "      <td>balloon</td>\n",
       "      <td>cat</td>\n",
       "    </tr>\n",
       "    <tr>\n",
       "      <th>3</th>\n",
       "      <td>onion</td>\n",
       "      <td>celery</td>\n",
       "      <td>lettuce</td>\n",
       "      <td>pineapple</td>\n",
       "      <td>potato</td>\n",
       "    </tr>\n",
       "    <tr>\n",
       "      <th>4</th>\n",
       "      <td>India</td>\n",
       "      <td>football</td>\n",
       "      <td>hockey</td>\n",
       "      <td>cricket</td>\n",
       "      <td>swimming</td>\n",
       "    </tr>\n",
       "  </tbody>\n",
       "</table>\n",
       "</div>"
      ],
      "text/plain": [
       "      Word1      Word2    Word3      Word4     Word5\n",
       "0  elephant       lion    tiger       goat     snake\n",
       "1       man  policeman  fireman    teacher   postman\n",
       "2     plane       bird   rocket    balloon       cat\n",
       "3     onion     celery  lettuce  pineapple    potato\n",
       "4     India   football   hockey    cricket  swimming"
      ]
     },
     "execution_count": 12,
     "metadata": {},
     "output_type": "execute_result"
    }
   ],
   "source": [
    "df = pd.read_csv('Test.csv')\n",
    "df.head()"
   ]
  },
  {
   "cell_type": "code",
   "execution_count": 13,
   "metadata": {},
   "outputs": [
    {
     "data": {
      "text/plain": [
       "(20, 5)"
      ]
     },
     "execution_count": 13,
     "metadata": {},
     "output_type": "execute_result"
    }
   ],
   "source": [
    "df.shape"
   ]
  },
  {
   "cell_type": "code",
   "execution_count": 14,
   "metadata": {},
   "outputs": [
    {
     "data": {
      "text/plain": [
       "(20, 5)"
      ]
     },
     "execution_count": 14,
     "metadata": {},
     "output_type": "execute_result"
    }
   ],
   "source": [
    "df = df.to_numpy()\n",
    "df.shape"
   ]
  },
  {
   "cell_type": "code",
   "execution_count": 15,
   "metadata": {},
   "outputs": [
    {
     "data": {
      "text/plain": [
       "array([['elephant', 'lion', 'tiger', 'goat', 'snake'],\n",
       "       ['man', 'policeman', 'fireman', 'teacher', 'postman'],\n",
       "       ['plane', 'bird', 'rocket', 'balloon', 'cat'],\n",
       "       ['onion', 'celery', 'lettuce', 'pineapple', 'potato'],\n",
       "       ['India', 'football', 'hockey', 'cricket', 'swimming']],\n",
       "      dtype=object)"
      ]
     },
     "execution_count": 15,
     "metadata": {},
     "output_type": "execute_result"
    }
   ],
   "source": [
    "df[:5]"
   ]
  },
  {
   "cell_type": "code",
   "execution_count": 16,
   "metadata": {},
   "outputs": [],
   "source": [
    "y_pred = []\n",
    "for i in range(len(df)):\n",
    "    input_list = df[i]\n",
    "    y = odd_one_out(input_list)\n",
    "    y_pred.append(y)"
   ]
  },
  {
   "cell_type": "code",
   "execution_count": 17,
   "metadata": {},
   "outputs": [
    {
     "name": "stdout",
     "output_type": "stream",
     "text": [
      "20\n",
      "['snake', 'teacher', 'cat', 'pineapple', 'India', 'is', 'was', 'Australia', 'Money', 'think', 'ship', 'Rome', 'Pool', 'Egypt', 'mouse', 'helmet', 'Universe', 'Kill', 'Club', 'Sun']\n"
     ]
    }
   ],
   "source": [
    "print(len(y_pred))\n",
    "print(y_pred)"
   ]
  },
  {
   "cell_type": "code",
   "execution_count": 19,
   "metadata": {},
   "outputs": [],
   "source": [
    "y_predict = pd.DataFrame(y_pred, columns = ['OddOne'])"
   ]
  },
  {
   "cell_type": "code",
   "execution_count": 20,
   "metadata": {},
   "outputs": [],
   "source": [
    "y_predict.to_csv('odd_one_out_challenge_predictions.csv', index = False)"
   ]
  },
  {
   "cell_type": "code",
   "execution_count": null,
   "metadata": {},
   "outputs": [],
   "source": []
  }
 ],
 "metadata": {
  "kernelspec": {
   "display_name": "Python 3",
   "language": "python",
   "name": "python3"
  },
  "language_info": {
   "codemirror_mode": {
    "name": "ipython",
    "version": 3
   },
   "file_extension": ".py",
   "mimetype": "text/x-python",
   "name": "python",
   "nbconvert_exporter": "python",
   "pygments_lexer": "ipython3",
   "version": "3.7.6"
  }
 },
 "nbformat": 4,
 "nbformat_minor": 2
}
