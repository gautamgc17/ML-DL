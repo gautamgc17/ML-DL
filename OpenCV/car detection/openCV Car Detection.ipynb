{
 "cells": [
  {
   "cell_type": "code",
   "execution_count": 1,
   "metadata": {},
   "outputs": [],
   "source": [
    "import cv2\n",
    "import time"
   ]
  },
  {
   "cell_type": "code",
   "execution_count": 2,
   "metadata": {},
   "outputs": [],
   "source": [
    "# create our car classifier\n",
    "car_classifier = cv2.CascadeClassifier('cars.xml')"
   ]
  },
  {
   "cell_type": "code",
   "execution_count": 5,
   "metadata": {},
   "outputs": [],
   "source": [
    "# initiate video capture from video file\n",
    "cap = cv2.VideoCapture('video2.avi')"
   ]
  },
  {
   "cell_type": "code",
   "execution_count": 6,
   "metadata": {},
   "outputs": [],
   "source": [
    "while cap.isOpened():      # loop once video is succesfully loaded\n",
    "    \n",
    "    check , frame = cap.read()    # read frames one by one\n",
    "    \n",
    "    if check == True:\n",
    "        \n",
    "        time.sleep(0.05)\n",
    "        \n",
    "        gray_frame = cv2.cvtColor(frame , cv2.COLOR_BGR2GRAY)\n",
    "        cars = car_classifier.detectMultiScale(gray_frame , 1.1 , 3)    # pass frame to our car classifier\n",
    "        \n",
    "        for (x,y,w,h) in cars:      # extract bounding boundaries for detected cars\n",
    "            \n",
    "            cv2.rectangle(frame , (x,y) , (x+w, y+h) , (0,100,255) , 2)\n",
    "            cv2.imshow('Detecting Cars' , frame)\n",
    "            \n",
    "        if cv2.waitKey(1) == 13:     # press enter key to break in between video\n",
    "            break\n",
    "            \n",
    "    else:\n",
    "        break\n",
    "\n",
    "cap.release()            # release the capture object and shut down camera\n",
    "cv2.destroyAllWindows()      "
   ]
  },
  {
   "cell_type": "code",
   "execution_count": null,
   "metadata": {},
   "outputs": [],
   "source": []
  }
 ],
 "metadata": {
  "kernelspec": {
   "display_name": "Python 3",
   "language": "python",
   "name": "python3"
  },
  "language_info": {
   "codemirror_mode": {
    "name": "ipython",
    "version": 3
   },
   "file_extension": ".py",
   "mimetype": "text/x-python",
   "name": "python",
   "nbconvert_exporter": "python",
   "pygments_lexer": "ipython3",
   "version": "3.7.6"
  }
 },
 "nbformat": 4,
 "nbformat_minor": 4
}
