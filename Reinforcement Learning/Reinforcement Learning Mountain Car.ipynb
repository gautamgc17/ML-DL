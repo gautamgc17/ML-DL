{
 "cells": [
  {
   "cell_type": "markdown",
   "metadata": {},
   "source": [
    "## Creating an RL DQN Agent for Mountain Car\n",
    "#### Challenge : Ride a Mountain Car using Reinforcement Learning\n",
    "A car is on a one-dimensional track, positioned between two \"mountains\". The goal is to drive up the mountain on the right; however, the car's engine is not strong enough to scale the mountain in a single pass. Therefore, the only way to succeed is to drive back and forth to build up momentum.\n",
    "\n",
    "#### Reinforcement Learning Based Strategy\n",
    "Use Q-Learning Principle, to devise a strategy to climb the mountain."
   ]
  },
  {
   "cell_type": "markdown",
   "metadata": {},
   "source": [
    "https://gym.openai.com/envs/MountainCar-v0/"
   ]
  },
  {
   "cell_type": "code",
   "execution_count": 1,
   "metadata": {},
   "outputs": [],
   "source": [
    "import gym"
   ]
  },
  {
   "cell_type": "code",
   "execution_count": 2,
   "metadata": {},
   "outputs": [],
   "source": [
    "env = gym.make('MountainCar-v0')"
   ]
  },
  {
   "cell_type": "code",
   "execution_count": 6,
   "metadata": {},
   "outputs": [
    {
     "data": {
      "text/plain": [
       "array([-0.55961635,  0.        ])"
      ]
     },
     "execution_count": 6,
     "metadata": {},
     "output_type": "execute_result"
    }
   ],
   "source": [
    "env.reset()"
   ]
  },
  {
   "cell_type": "code",
   "execution_count": 7,
   "metadata": {},
   "outputs": [
    {
     "data": {
      "text/plain": [
       "Discrete(3)"
      ]
     },
     "execution_count": 7,
     "metadata": {},
     "output_type": "execute_result"
    }
   ],
   "source": [
    "env.action_space"
   ]
  },
  {
   "cell_type": "code",
   "execution_count": 8,
   "metadata": {},
   "outputs": [
    {
     "data": {
      "text/plain": [
       "3"
      ]
     },
     "execution_count": 8,
     "metadata": {},
     "output_type": "execute_result"
    }
   ],
   "source": [
    "env.action_space.n"
   ]
  },
  {
   "cell_type": "code",
   "execution_count": 9,
   "metadata": {},
   "outputs": [
    {
     "data": {
      "text/plain": [
       "Box(-1.2000000476837158, 0.6000000238418579, (2,), float32)"
      ]
     },
     "execution_count": 9,
     "metadata": {},
     "output_type": "execute_result"
    }
   ],
   "source": [
    "env.observation_space"
   ]
  },
  {
   "cell_type": "code",
   "execution_count": 10,
   "metadata": {},
   "outputs": [
    {
     "data": {
      "text/plain": [
       "(2,)"
      ]
     },
     "execution_count": 10,
     "metadata": {},
     "output_type": "execute_result"
    }
   ],
   "source": [
    "env.observation_space.shape"
   ]
  },
  {
   "cell_type": "code",
   "execution_count": 11,
   "metadata": {},
   "outputs": [],
   "source": [
    "env.reset()\n",
    "for t in range(1000):\n",
    "    random_action = env.action_space.sample()\n",
    "    env.step(random_action)\n",
    "    env.render()\n",
    "env.close()"
   ]
  },
  {
   "cell_type": "code",
   "execution_count": 12,
   "metadata": {},
   "outputs": [
    {
     "name": "stdout",
     "output_type": "stream",
     "text": [
      "Game Episode: 0/20 High Score: 199\n",
      "Game Episode: 1/20 High Score: 199\n",
      "Game Episode: 2/20 High Score: 199\n",
      "Game Episode: 3/20 High Score: 199\n",
      "Game Episode: 4/20 High Score: 199\n",
      "Game Episode: 5/20 High Score: 199\n",
      "Game Episode: 6/20 High Score: 199\n",
      "Game Episode: 7/20 High Score: 199\n",
      "Game Episode: 8/20 High Score: 199\n",
      "Game Episode: 9/20 High Score: 199\n",
      "Game Episode: 10/20 High Score: 199\n",
      "Game Episode: 11/20 High Score: 199\n",
      "Game Episode: 12/20 High Score: 199\n",
      "Game Episode: 13/20 High Score: 199\n",
      "Game Episode: 14/20 High Score: 199\n",
      "Game Episode: 15/20 High Score: 199\n",
      "Game Episode: 16/20 High Score: 199\n",
      "Game Episode: 17/20 High Score: 199\n",
      "Game Episode: 18/20 High Score: 199\n",
      "Game Episode: 19/20 High Score: 199\n",
      "All 20 episodes over!\n"
     ]
    }
   ],
   "source": [
    "for e in range(20):\n",
    "    \n",
    "    observation = env.reset()\n",
    "    for t in range(500):\n",
    "        env.render()\n",
    "        action = env.action_space.sample()\n",
    "        observarion, reward, done, other_info = env.step(action)\n",
    "        \n",
    "        if done: \n",
    "            print(\"Game Episode: {}/{} High Score: {}\".format(e,20,t))\n",
    "            break\n",
    "env.close()\n",
    "print(\"All 20 episodes over!\")"
   ]
  },
  {
   "cell_type": "code",
   "execution_count": 20,
   "metadata": {},
   "outputs": [],
   "source": [
    "import numpy as np\n",
    "import matplotlib.pyplot as plt\n",
    "import os\n",
    "import random\n",
    "from collections import deque\n",
    "from keras.models import Sequential\n",
    "from keras.layers import Dense\n",
    "from keras.optimizers import Adam"
   ]
  },
  {
   "cell_type": "markdown",
   "metadata": {},
   "source": [
    "## Agent Design and Neural Model"
   ]
  },
  {
   "cell_type": "code",
   "execution_count": 28,
   "metadata": {},
   "outputs": [],
   "source": [
    "class Agent:\n",
    "    def __init__(self,state_size,action_size,deque_size=2000,gamma=0.95,learning_rate=0.001):\n",
    "        self.state_size = state_size\n",
    "        self.action_size= action_size\n",
    "        self.memory = deque(maxlen=deque_size)\n",
    "        self.gamma = gamma\n",
    "        \n",
    "        self.epsilon = 1.0\n",
    "        self.epsilon_decay = 0.995\n",
    "        self.epsilon_min = 0.01\n",
    "        self.learning_rate = learning_rate\n",
    "        \n",
    "        self.model = self._create_model()\n",
    "        \n",
    "        \n",
    "    def _create_model(self):\n",
    "        model = Sequential()\n",
    "        model.add(Dense(128,input_dim = self.state_size,activation='relu'))\n",
    "        model.add(Dense(128,input_dim = self.state_size,activation='relu'))\n",
    "        model.add(Dense(64,activation='relu'))\n",
    "        model.add(Dense(32,activation='relu'))\n",
    "        model.add(Dense(self.action_size,activation='linear'))\n",
    "        \n",
    "        model.compile(loss='mse',optimizer=Adam(lr=self.learning_rate))\n",
    "        \n",
    "        return model\n",
    "    \n",
    "    def remember(self,state,action,reward,next_state,done):\n",
    "        self.memory.append((state,action,reward,next_state,done))\n",
    "        \n",
    "    def act(self,state):\n",
    "        \n",
    "        if np.random.rand()<=self.epsilon:\n",
    "            return random.randrange(self.action_size)\n",
    "        \n",
    "        act_values = self.model.predict(state)\n",
    "        return np.argmax(act_values[0])\n",
    "    \n",
    "    def train(self,batch_size=32):\n",
    "        minibatch = random.sample(self.memory,batch_size)\n",
    "        for state,action,reward,next_state,done in minibatch:\n",
    "            \n",
    "            if not done:\n",
    "                target = reward + self.gamma*np.amax(self.model.predict(next_state)[0])\n",
    "            \n",
    "            else:\n",
    "                target = reward\n",
    "            \n",
    "            target_f = self.model.predict(state)\n",
    "            target_f[0][action] = target\n",
    "            self.model.fit(state,target_f,epochs=1,verbose=0)\n",
    "            \n",
    "        if self.epsilon > self.epsilon_min:\n",
    "            self.epsilon*= self.epsilon_decay\n",
    "        \n",
    "    def load(self,name):\n",
    "        self.model.load_weights(name)\n",
    "    \n",
    "    def save(self,name):\n",
    "        self.model.save_weights(name)\n",
    "        "
   ]
  },
  {
   "cell_type": "markdown",
   "metadata": {},
   "source": [
    "## Training the DQN Agent (Deep Q-Learner)"
   ]
  },
  {
   "cell_type": "code",
   "execution_count": 30,
   "metadata": {},
   "outputs": [],
   "source": [
    "n_episodes=100\n",
    "output_dir=\"mountaincar_model/\""
   ]
  },
  {
   "cell_type": "code",
   "execution_count": 31,
   "metadata": {},
   "outputs": [],
   "source": [
    "state_size = env.reset().shape[0]\n",
    "action_size = env.action_space.n\n",
    "batch_size = 32"
   ]
  },
  {
   "cell_type": "code",
   "execution_count": 32,
   "metadata": {},
   "outputs": [
    {
     "name": "stdout",
     "output_type": "stream",
     "text": [
      "Game Episode :0/100, High Score :199, Exploration Rate:1.0\n",
      "Game Episode :1/100, High Score :199, Exploration Rate:0.99\n",
      "Game Episode :2/100, High Score :199, Exploration Rate:0.99\n",
      "Game Episode :3/100, High Score :199, Exploration Rate:0.99\n",
      "Game Episode :4/100, High Score :199, Exploration Rate:0.98\n",
      "Game Episode :5/100, High Score :199, Exploration Rate:0.98\n",
      "Game Episode :6/100, High Score :199, Exploration Rate:0.97\n",
      "Game Episode :7/100, High Score :199, Exploration Rate:0.97\n",
      "Game Episode :8/100, High Score :199, Exploration Rate:0.96\n",
      "Game Episode :9/100, High Score :199, Exploration Rate:0.96\n",
      "Game Episode :10/100, High Score :199, Exploration Rate:0.95\n",
      "Game Episode :11/100, High Score :199, Exploration Rate:0.95\n",
      "Game Episode :12/100, High Score :199, Exploration Rate:0.94\n",
      "Game Episode :13/100, High Score :199, Exploration Rate:0.94\n",
      "Game Episode :14/100, High Score :199, Exploration Rate:0.93\n",
      "Game Episode :15/100, High Score :199, Exploration Rate:0.93\n",
      "Game Episode :16/100, High Score :199, Exploration Rate:0.92\n",
      "Game Episode :17/100, High Score :199, Exploration Rate:0.92\n",
      "Game Episode :18/100, High Score :199, Exploration Rate:0.91\n",
      "Game Episode :19/100, High Score :199, Exploration Rate:0.91\n",
      "Game Episode :20/100, High Score :199, Exploration Rate:0.9\n",
      "Game Episode :21/100, High Score :199, Exploration Rate:0.9\n",
      "Game Episode :22/100, High Score :199, Exploration Rate:0.9\n",
      "Game Episode :23/100, High Score :199, Exploration Rate:0.89\n",
      "Game Episode :24/100, High Score :199, Exploration Rate:0.89\n",
      "Game Episode :25/100, High Score :199, Exploration Rate:0.88\n",
      "Game Episode :26/100, High Score :199, Exploration Rate:0.88\n",
      "Game Episode :27/100, High Score :199, Exploration Rate:0.87\n",
      "Game Episode :28/100, High Score :199, Exploration Rate:0.87\n",
      "Game Episode :29/100, High Score :199, Exploration Rate:0.86\n",
      "Game Episode :30/100, High Score :199, Exploration Rate:0.86\n",
      "Game Episode :31/100, High Score :199, Exploration Rate:0.86\n",
      "Game Episode :32/100, High Score :199, Exploration Rate:0.85\n",
      "Game Episode :33/100, High Score :199, Exploration Rate:0.85\n",
      "Game Episode :34/100, High Score :199, Exploration Rate:0.84\n",
      "Game Episode :35/100, High Score :199, Exploration Rate:0.84\n",
      "Game Episode :36/100, High Score :199, Exploration Rate:0.83\n",
      "Game Episode :37/100, High Score :199, Exploration Rate:0.83\n",
      "Game Episode :38/100, High Score :199, Exploration Rate:0.83\n",
      "Game Episode :39/100, High Score :199, Exploration Rate:0.82\n",
      "Game Episode :40/100, High Score :199, Exploration Rate:0.82\n",
      "Game Episode :41/100, High Score :199, Exploration Rate:0.81\n",
      "Game Episode :42/100, High Score :199, Exploration Rate:0.81\n",
      "Game Episode :43/100, High Score :199, Exploration Rate:0.81\n",
      "Game Episode :44/100, High Score :199, Exploration Rate:0.8\n",
      "Game Episode :45/100, High Score :199, Exploration Rate:0.8\n",
      "Game Episode :46/100, High Score :199, Exploration Rate:0.79\n",
      "Game Episode :47/100, High Score :199, Exploration Rate:0.79\n",
      "Game Episode :48/100, High Score :199, Exploration Rate:0.79\n",
      "Game Episode :49/100, High Score :199, Exploration Rate:0.78\n",
      "Game Episode :50/100, High Score :199, Exploration Rate:0.78\n",
      "Game Episode :51/100, High Score :199, Exploration Rate:0.77\n",
      "Game Episode :52/100, High Score :199, Exploration Rate:0.77\n",
      "Game Episode :53/100, High Score :199, Exploration Rate:0.77\n",
      "Game Episode :54/100, High Score :199, Exploration Rate:0.76\n",
      "Game Episode :55/100, High Score :199, Exploration Rate:0.76\n",
      "Game Episode :56/100, High Score :199, Exploration Rate:0.76\n",
      "Game Episode :57/100, High Score :199, Exploration Rate:0.75\n",
      "Game Episode :58/100, High Score :199, Exploration Rate:0.75\n",
      "Game Episode :59/100, High Score :199, Exploration Rate:0.74\n",
      "Game Episode :60/100, High Score :199, Exploration Rate:0.74\n",
      "Game Episode :61/100, High Score :199, Exploration Rate:0.74\n",
      "Game Episode :62/100, High Score :199, Exploration Rate:0.73\n",
      "Game Episode :63/100, High Score :199, Exploration Rate:0.73\n",
      "Game Episode :64/100, High Score :199, Exploration Rate:0.73\n",
      "Game Episode :65/100, High Score :199, Exploration Rate:0.72\n",
      "Game Episode :66/100, High Score :199, Exploration Rate:0.72\n",
      "Game Episode :67/100, High Score :199, Exploration Rate:0.71\n",
      "Game Episode :68/100, High Score :199, Exploration Rate:0.71\n",
      "Game Episode :69/100, High Score :199, Exploration Rate:0.71\n",
      "Game Episode :70/100, High Score :199, Exploration Rate:0.7\n",
      "Game Episode :71/100, High Score :199, Exploration Rate:0.7\n",
      "Game Episode :72/100, High Score :199, Exploration Rate:0.7\n",
      "Game Episode :73/100, High Score :199, Exploration Rate:0.69\n",
      "Game Episode :74/100, High Score :199, Exploration Rate:0.69\n",
      "Game Episode :75/100, High Score :199, Exploration Rate:0.69\n",
      "Game Episode :76/100, High Score :199, Exploration Rate:0.68\n",
      "Game Episode :77/100, High Score :199, Exploration Rate:0.68\n",
      "Game Episode :78/100, High Score :199, Exploration Rate:0.68\n",
      "Game Episode :79/100, High Score :199, Exploration Rate:0.67\n",
      "Game Episode :80/100, High Score :199, Exploration Rate:0.67\n",
      "Game Episode :81/100, High Score :199, Exploration Rate:0.67\n",
      "Game Episode :82/100, High Score :199, Exploration Rate:0.66\n",
      "Game Episode :83/100, High Score :199, Exploration Rate:0.66\n",
      "Game Episode :84/100, High Score :199, Exploration Rate:0.66\n",
      "Game Episode :85/100, High Score :199, Exploration Rate:0.65\n",
      "Game Episode :86/100, High Score :199, Exploration Rate:0.65\n",
      "Game Episode :87/100, High Score :199, Exploration Rate:0.65\n",
      "Game Episode :88/100, High Score :199, Exploration Rate:0.64\n",
      "Game Episode :89/100, High Score :199, Exploration Rate:0.64\n",
      "Game Episode :90/100, High Score :199, Exploration Rate:0.64\n",
      "Game Episode :91/100, High Score :199, Exploration Rate:0.63\n",
      "Game Episode :92/100, High Score :199, Exploration Rate:0.63\n",
      "Game Episode :93/100, High Score :199, Exploration Rate:0.63\n",
      "Game Episode :94/100, High Score :199, Exploration Rate:0.62\n",
      "Game Episode :95/100, High Score :199, Exploration Rate:0.62\n",
      "Game Episode :96/100, High Score :199, Exploration Rate:0.62\n",
      "Game Episode :97/100, High Score :199, Exploration Rate:0.61\n",
      "Game Episode :98/100, High Score :199, Exploration Rate:0.61\n",
      "Game Episode :99/100, High Score :199, Exploration Rate:0.61\n"
     ]
    }
   ],
   "source": [
    "agent = Agent(state_size,action_size)\n",
    "done=False\n",
    "\n",
    "for e in range(n_episodes):\n",
    "    state = env.reset()\n",
    "    state = np.reshape(state,[1,state_size])\n",
    "    \n",
    "    for time in range(5000):\n",
    "        env.render()\n",
    "        action = agent.act(state)\n",
    "        next_state,reward,done,other_info = env.step(action)\n",
    "        reward = reward if not done else -10\n",
    "        next_state = np.reshape(next_state,[1,state_size])\n",
    "        agent.remember(state,action,reward,next_state,done)\n",
    "        state = next_state\n",
    "        \n",
    "        if done:\n",
    "            print(\"Game Episode :{}/{}, High Score :{}, Exploration Rate:{:.2}\".format(e,n_episodes,time,agent.epsilon))\n",
    "            break\n",
    "    \n",
    "    if len(agent.memory) > batch_size:\n",
    "        agent.train(batch_size)\n",
    "        \n",
    "    if e%50 == 0:\n",
    "        agent.save(output_dir+\"weights_\"+'{:04d}'.format(e)+\".hdf5\")\n",
    "        \n",
    "env.close()"
   ]
  },
  {
   "cell_type": "code",
   "execution_count": null,
   "metadata": {},
   "outputs": [],
   "source": []
  }
 ],
 "metadata": {
  "kernelspec": {
   "display_name": "Python 3",
   "language": "python",
   "name": "python3"
  },
  "language_info": {
   "codemirror_mode": {
    "name": "ipython",
    "version": 3
   },
   "file_extension": ".py",
   "mimetype": "text/x-python",
   "name": "python",
   "nbconvert_exporter": "python",
   "pygments_lexer": "ipython3",
   "version": "3.7.6"
  }
 },
 "nbformat": 4,
 "nbformat_minor": 2
}
